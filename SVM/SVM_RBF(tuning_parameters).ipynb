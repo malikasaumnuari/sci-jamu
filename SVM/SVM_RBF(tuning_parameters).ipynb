{
 "cells": [
  {
   "cell_type": "code",
   "execution_count": 1,
   "metadata": {},
   "outputs": [],
   "source": [
    "import numpy as np\n",
    "import pandas\n",
    "from sklearn.model_selection import StratifiedKFold\n",
    "from sklearn import svm\n",
    "\n",
    "import matplotlib.pyplot as plt\n",
    "from matplotlib.colors import Normalize\n",
    "\n",
    "from sklearn.svm import SVC\n",
    "from sklearn.preprocessing import StandardScaler\n",
    "from sklearn.model_selection import StratifiedShuffleSplit\n",
    "from sklearn.model_selection import GridSearchCV"
   ]
  },
  {
   "cell_type": "code",
   "execution_count": 2,
   "metadata": {},
   "outputs": [
    {
     "data": {
      "text/plain": [
       "array([['J00021', 0, 0, ..., 0, 0, 0],\n",
       "       ['J00050', 0, 0, ..., 0, 0, 0],\n",
       "       ['J00113', 1, 0, ..., 0, 0, 0],\n",
       "       ...,\n",
       "       ['J03006', 0, 0, ..., 0, 0, 0],\n",
       "       ['J03017', 0, 0, ..., 0, 0, 0],\n",
       "       ['J03023', 0, 0, ..., 0, 0, 0]], dtype=object)"
      ]
     },
     "execution_count": 2,
     "metadata": {},
     "output_type": "execute_result"
    }
   ],
   "source": [
    "#masukin data1\n",
    "data1=pandas.read_csv('D:\\\\SKRIPSI\\\\data\\\\data_praproses\\\\jamu_herbs.csv', sep=',')\n",
    "data1.values"
   ]
  },
  {
   "cell_type": "code",
   "execution_count": 3,
   "metadata": {},
   "outputs": [
    {
     "data": {
      "text/plain": [
       "array([['J00021', 17],\n",
       "       ['J00050', 17],\n",
       "       ['J00113', 17],\n",
       "       ...,\n",
       "       ['J03006', 16],\n",
       "       ['J03017', 16],\n",
       "       ['J03023', 16]], dtype=object)"
      ]
     },
     "execution_count": 3,
     "metadata": {},
     "output_type": "execute_result"
    }
   ],
   "source": [
    "#masukin data2\n",
    "data2=pandas.read_csv('D:\\\\SKRIPSI\\\\data\\\\data_praproses\\\\jamu_class.csv', sep=',')\n",
    "data2.values"
   ]
  },
  {
   "cell_type": "code",
   "execution_count": 4,
   "metadata": {},
   "outputs": [],
   "source": [
    "data_1 = data1.drop('IDJamu',axis=1)\n",
    "data_2 = data2.drop('Jamu ID',axis=1)\n",
    "data_1['Kelas']=data_2['Class of Diseases']\n",
    "X = data_1.drop('Kelas', axis=1).values\n",
    "y = data_1['Kelas'].values"
   ]
  },
  {
   "cell_type": "code",
   "execution_count": 5,
   "metadata": {},
   "outputs": [
    {
     "name": "stderr",
     "output_type": "stream",
     "text": [
      "C:\\Users\\User\\Anaconda3\\lib\\site-packages\\sklearn\\model_selection\\_split.py:652: Warning: The least populated class in y has only 1 members, which is too few. The minimum number of members in any class cannot be less than n_splits=4.\n",
      "  % (min_groups, self.n_splits)), Warning)\n"
     ]
    },
    {
     "name": "stdout",
     "output_type": "stream",
     "text": [
      "Fold 1 :\n",
      "\n",
      "Accuracy: 44.36 %\n",
      "Fold 2 :\n",
      "\n",
      "Accuracy: 53.32 %\n",
      "Fold 3 :\n",
      "\n",
      "Accuracy: 50.93 %\n",
      "Fold 4 :\n",
      "\n",
      "Accuracy: 49.53 %\n"
     ]
    }
   ],
   "source": [
    "#gamma=0.01 dan C=1\n",
    "#untuk k=4\n",
    "kf = StratifiedKFold(n_splits=4, random_state=None, shuffle=False)\n",
    "val_acc_cv = []\n",
    "j = 0\n",
    "for train_index, test_index in kf.split(X,y):\n",
    "    j+=1\n",
    "    print(f\"Fold {j} :\")\n",
    "    print(\"\")\n",
    "    X_train,X_test = X[train_index],X[test_index]\n",
    "    y_train,y_test = y[train_index],y[test_index]\n",
    "    \n",
    "    # Create a SVC classifier using an RBF kernel\n",
    "    model = SVC(kernel='rbf', random_state=0, gamma=.01, C=1)\n",
    "    model.fit(X_train, y_train)\n",
    "    val_acc_cv.append(round(model.score(X_test, y_test), 4)*100)\n",
    "    print('Accuracy:',round(model.score(X_test, y_test), 4)*100, '%')"
   ]
  },
  {
   "cell_type": "code",
   "execution_count": 6,
   "metadata": {},
   "outputs": [
    {
     "name": "stdout",
     "output_type": "stream",
     "text": [
      "val_acc_cv : [44.36, 53.32, 50.93, 49.53]\n",
      "mean_val_acc_cv : 49.535000000000004\n"
     ]
    }
   ],
   "source": [
    "print(f\"val_acc_cv : {val_acc_cv}\")\n",
    "print(f\"mean_val_acc_cv : {np.mean(val_acc_cv)}\")"
   ]
  },
  {
   "cell_type": "code",
   "execution_count": 7,
   "metadata": {},
   "outputs": [
    {
     "name": "stderr",
     "output_type": "stream",
     "text": [
      "C:\\Users\\User\\Anaconda3\\lib\\site-packages\\sklearn\\model_selection\\_split.py:652: Warning: The least populated class in y has only 1 members, which is too few. The minimum number of members in any class cannot be less than n_splits=4.\n",
      "  % (min_groups, self.n_splits)), Warning)\n"
     ]
    },
    {
     "name": "stdout",
     "output_type": "stream",
     "text": [
      "Fold 1 :\n",
      "\n",
      "Accuracy: 35.83 %\n",
      "Fold 2 :\n",
      "\n",
      "Accuracy: 44.83 %\n",
      "Fold 3 :\n",
      "\n",
      "Accuracy: 47.73 %\n",
      "Fold 4 :\n",
      "\n",
      "Accuracy: 45.53 %\n"
     ]
    }
   ],
   "source": [
    "#gamma=1 dan C=1\n",
    "#untuk k=4\n",
    "kf = StratifiedKFold(n_splits=4, random_state=None, shuffle=False)\n",
    "val_acc_cv = []\n",
    "j = 0\n",
    "for train_index, test_index in kf.split(X,y):\n",
    "    j+=1\n",
    "    print(f\"Fold {j} :\")\n",
    "    print(\"\")\n",
    "    X_train,X_test = X[train_index],X[test_index]\n",
    "    y_train,y_test = y[train_index],y[test_index]\n",
    "    \n",
    "    # Create a SVC classifier using an RBF kernel\n",
    "    model = SVC(kernel='rbf', random_state=0, gamma=1, C=1)\n",
    "    model.fit(X_train, y_train)\n",
    "    val_acc_cv.append(round(model.score(X_test, y_test), 4)*100)\n",
    "    print('Accuracy:',round(model.score(X_test, y_test), 4)*100, '%')"
   ]
  },
  {
   "cell_type": "code",
   "execution_count": 8,
   "metadata": {},
   "outputs": [
    {
     "name": "stdout",
     "output_type": "stream",
     "text": [
      "val_acc_cv : [35.83, 44.83, 47.73, 45.53]\n",
      "mean_val_acc_cv : 43.48\n"
     ]
    }
   ],
   "source": [
    "print(f\"val_acc_cv : {val_acc_cv}\")\n",
    "print(f\"mean_val_acc_cv : {np.mean(val_acc_cv)}\")"
   ]
  },
  {
   "cell_type": "code",
   "execution_count": 9,
   "metadata": {},
   "outputs": [
    {
     "name": "stderr",
     "output_type": "stream",
     "text": [
      "C:\\Users\\User\\Anaconda3\\lib\\site-packages\\sklearn\\model_selection\\_split.py:652: Warning: The least populated class in y has only 1 members, which is too few. The minimum number of members in any class cannot be less than n_splits=4.\n",
      "  % (min_groups, self.n_splits)), Warning)\n"
     ]
    },
    {
     "name": "stdout",
     "output_type": "stream",
     "text": [
      "Fold 1 :\n",
      "\n",
      "Accuracy: 28.999999999999996 %\n",
      "Fold 2 :\n",
      "\n",
      "Accuracy: 36.07 %\n",
      "Fold 3 :\n",
      "\n",
      "Accuracy: 40.53 %\n",
      "Fold 4 :\n",
      "\n",
      "Accuracy: 39.92 %\n"
     ]
    }
   ],
   "source": [
    "#gamma=10 dan C=1\n",
    "#untuk k=4\n",
    "kf = StratifiedKFold(n_splits=4, random_state=None, shuffle=False)\n",
    "val_acc_cv = []\n",
    "j = 0\n",
    "for train_index, test_index in kf.split(X,y):\n",
    "    j+=1\n",
    "    print(f\"Fold {j} :\")\n",
    "    print(\"\")\n",
    "    X_train,X_test = X[train_index],X[test_index]\n",
    "    y_train,y_test = y[train_index],y[test_index]\n",
    "    \n",
    "    # Create a SVC classifier using an RBF kernel\n",
    "    model = SVC(kernel='rbf', random_state=0, gamma=10, C=1)\n",
    "    model.fit(X_train, y_train)\n",
    "    val_acc_cv.append(round(model.score(X_test, y_test), 4)*100)\n",
    "    print('Accuracy:',round(model.score(X_test, y_test), 4)*100, '%')"
   ]
  },
  {
   "cell_type": "code",
   "execution_count": 10,
   "metadata": {},
   "outputs": [
    {
     "name": "stdout",
     "output_type": "stream",
     "text": [
      "val_acc_cv : [28.999999999999996, 36.07, 40.53, 39.92]\n",
      "mean_val_acc_cv : 36.379999999999995\n"
     ]
    }
   ],
   "source": [
    "print(f\"val_acc_cv : {val_acc_cv}\")\n",
    "print(f\"mean_val_acc_cv : {np.mean(val_acc_cv)}\")"
   ]
  },
  {
   "cell_type": "code",
   "execution_count": 11,
   "metadata": {},
   "outputs": [
    {
     "name": "stderr",
     "output_type": "stream",
     "text": [
      "C:\\Users\\User\\Anaconda3\\lib\\site-packages\\sklearn\\model_selection\\_split.py:652: Warning: The least populated class in y has only 1 members, which is too few. The minimum number of members in any class cannot be less than n_splits=4.\n",
      "  % (min_groups, self.n_splits)), Warning)\n"
     ]
    },
    {
     "name": "stdout",
     "output_type": "stream",
     "text": [
      "Fold 1 :\n",
      "\n",
      "Accuracy: 28.999999999999996 %\n",
      "Fold 2 :\n",
      "\n",
      "Accuracy: 36.07 %\n",
      "Fold 3 :\n",
      "\n",
      "Accuracy: 40.53 %\n",
      "Fold 4 :\n",
      "\n",
      "Accuracy: 39.92 %\n"
     ]
    }
   ],
   "source": [
    "#gamma=100 dan C=1\n",
    "#untuk k=4\n",
    "kf = StratifiedKFold(n_splits=4, random_state=None, shuffle=False)\n",
    "val_acc_cv = []\n",
    "j = 0\n",
    "for train_index, test_index in kf.split(X,y):\n",
    "    j+=1\n",
    "    print(f\"Fold {j} :\")\n",
    "    print(\"\")\n",
    "    X_train,X_test = X[train_index],X[test_index]\n",
    "    y_train,y_test = y[train_index],y[test_index]\n",
    "    \n",
    "    # Create a SVC classifier using an RBF kernel\n",
    "    model = SVC(kernel='rbf', random_state=0, gamma=100, C=1)\n",
    "    model.fit(X_train, y_train)\n",
    "    val_acc_cv.append(round(model.score(X_test, y_test), 4)*100)\n",
    "    print('Accuracy:',round(model.score(X_test, y_test), 4)*100, '%')"
   ]
  },
  {
   "cell_type": "code",
   "execution_count": 12,
   "metadata": {},
   "outputs": [
    {
     "name": "stdout",
     "output_type": "stream",
     "text": [
      "val_acc_cv : [28.999999999999996, 36.07, 40.53, 39.92]\n",
      "mean_val_acc_cv : 36.379999999999995\n"
     ]
    }
   ],
   "source": [
    "print(f\"val_acc_cv : {val_acc_cv}\")\n",
    "print(f\"mean_val_acc_cv : {np.mean(val_acc_cv)}\")"
   ]
  },
  {
   "cell_type": "code",
   "execution_count": 13,
   "metadata": {},
   "outputs": [
    {
     "name": "stderr",
     "output_type": "stream",
     "text": [
      "C:\\Users\\User\\Anaconda3\\lib\\site-packages\\sklearn\\model_selection\\_split.py:652: Warning: The least populated class in y has only 1 members, which is too few. The minimum number of members in any class cannot be less than n_splits=4.\n",
      "  % (min_groups, self.n_splits)), Warning)\n"
     ]
    },
    {
     "name": "stdout",
     "output_type": "stream",
     "text": [
      "Fold 1 :\n",
      "\n",
      "Accuracy: 52.76 %\n",
      "Fold 2 :\n",
      "\n",
      "Accuracy: 57.82000000000001 %\n",
      "Fold 3 :\n",
      "\n",
      "Accuracy: 60.129999999999995 %\n",
      "Fold 4 :\n",
      "\n",
      "Accuracy: 58.48 %\n"
     ]
    }
   ],
   "source": [
    "#gamma=0.01 dan C=10\n",
    "#untuk k=4\n",
    "kf = StratifiedKFold(n_splits=4, random_state=None, shuffle=False)\n",
    "val_acc_cv = []\n",
    "j = 0\n",
    "for train_index, test_index in kf.split(X,y):\n",
    "    j+=1\n",
    "    print(f\"Fold {j} :\")\n",
    "    print(\"\")\n",
    "    X_train,X_test = X[train_index],X[test_index]\n",
    "    y_train,y_test = y[train_index],y[test_index]\n",
    "    \n",
    "    # Create a SVC classifier using an RBF kernel\n",
    "    model = SVC(kernel='rbf', random_state=0, gamma=.01, C=10)\n",
    "    model.fit(X_train, y_train)\n",
    "    val_acc_cv.append(round(model.score(X_test, y_test), 4)*100)\n",
    "    print('Accuracy:',round(model.score(X_test, y_test), 4)*100, '%')"
   ]
  },
  {
   "cell_type": "code",
   "execution_count": 14,
   "metadata": {},
   "outputs": [
    {
     "name": "stdout",
     "output_type": "stream",
     "text": [
      "val_acc_cv : [52.76, 57.82000000000001, 60.129999999999995, 58.48]\n",
      "mean_val_acc_cv : 57.2975\n"
     ]
    }
   ],
   "source": [
    "print(f\"val_acc_cv : {val_acc_cv}\")\n",
    "print(f\"mean_val_acc_cv : {np.mean(val_acc_cv)}\")"
   ]
  },
  {
   "cell_type": "code",
   "execution_count": 15,
   "metadata": {},
   "outputs": [
    {
     "name": "stderr",
     "output_type": "stream",
     "text": [
      "C:\\Users\\User\\Anaconda3\\lib\\site-packages\\sklearn\\model_selection\\_split.py:652: Warning: The least populated class in y has only 1 members, which is too few. The minimum number of members in any class cannot be less than n_splits=4.\n",
      "  % (min_groups, self.n_splits)), Warning)\n"
     ]
    },
    {
     "name": "stdout",
     "output_type": "stream",
     "text": [
      "Fold 1 :\n",
      "\n",
      "Accuracy: 36.22 %\n",
      "Fold 2 :\n",
      "\n",
      "Accuracy: 47.08 %\n",
      "Fold 3 :\n",
      "\n",
      "Accuracy: 50.129999999999995 %\n",
      "Fold 4 :\n",
      "\n",
      "Accuracy: 45.660000000000004 %\n"
     ]
    }
   ],
   "source": [
    "#gamma=1 dan C=10\n",
    "#untuk k=4\n",
    "kf = StratifiedKFold(n_splits=4, random_state=None, shuffle=False)\n",
    "val_acc_cv = []\n",
    "j = 0\n",
    "for train_index, test_index in kf.split(X,y):\n",
    "    j+=1\n",
    "    print(f\"Fold {j} :\")\n",
    "    print(\"\")\n",
    "    X_train,X_test = X[train_index],X[test_index]\n",
    "    y_train,y_test = y[train_index],y[test_index]\n",
    "    \n",
    "    # Create a SVC classifier using an RBF kernel\n",
    "    model = SVC(kernel='rbf', random_state=0, gamma=1, C=10)\n",
    "    model.fit(X_train, y_train)\n",
    "    val_acc_cv.append(round(model.score(X_test, y_test), 4)*100)\n",
    "    print('Accuracy:',round(model.score(X_test, y_test), 4)*100, '%')"
   ]
  },
  {
   "cell_type": "code",
   "execution_count": 16,
   "metadata": {},
   "outputs": [
    {
     "name": "stdout",
     "output_type": "stream",
     "text": [
      "val_acc_cv : [36.22, 47.08, 50.129999999999995, 45.660000000000004]\n",
      "mean_val_acc_cv : 44.7725\n"
     ]
    }
   ],
   "source": [
    "print(f\"val_acc_cv : {val_acc_cv}\")\n",
    "print(f\"mean_val_acc_cv : {np.mean(val_acc_cv)}\")"
   ]
  },
  {
   "cell_type": "code",
   "execution_count": 17,
   "metadata": {},
   "outputs": [
    {
     "name": "stderr",
     "output_type": "stream",
     "text": [
      "C:\\Users\\User\\Anaconda3\\lib\\site-packages\\sklearn\\model_selection\\_split.py:652: Warning: The least populated class in y has only 1 members, which is too few. The minimum number of members in any class cannot be less than n_splits=4.\n",
      "  % (min_groups, self.n_splits)), Warning)\n"
     ]
    },
    {
     "name": "stdout",
     "output_type": "stream",
     "text": [
      "Fold 1 :\n",
      "\n",
      "Accuracy: 28.999999999999996 %\n",
      "Fold 2 :\n",
      "\n",
      "Accuracy: 36.07 %\n",
      "Fold 3 :\n",
      "\n",
      "Accuracy: 40.53 %\n",
      "Fold 4 :\n",
      "\n",
      "Accuracy: 39.92 %\n"
     ]
    }
   ],
   "source": [
    "#gamma=10 dan C=10\n",
    "#untuk k=4\n",
    "kf = StratifiedKFold(n_splits=4, random_state=None, shuffle=False)\n",
    "val_acc_cv = []\n",
    "j = 0\n",
    "for train_index, test_index in kf.split(X,y):\n",
    "    j+=1\n",
    "    print(f\"Fold {j} :\")\n",
    "    print(\"\")\n",
    "    X_train,X_test = X[train_index],X[test_index]\n",
    "    y_train,y_test = y[train_index],y[test_index]\n",
    "    \n",
    "    # Create a SVC classifier using an RBF kernel\n",
    "    model = SVC(kernel='rbf', random_state=0, gamma=10, C=10)\n",
    "    model.fit(X_train, y_train)\n",
    "    val_acc_cv.append(round(model.score(X_test, y_test), 4)*100)\n",
    "    print('Accuracy:',round(model.score(X_test, y_test), 4)*100, '%')"
   ]
  },
  {
   "cell_type": "code",
   "execution_count": 18,
   "metadata": {},
   "outputs": [
    {
     "name": "stdout",
     "output_type": "stream",
     "text": [
      "val_acc_cv : [28.999999999999996, 36.07, 40.53, 39.92]\n",
      "mean_val_acc_cv : 36.379999999999995\n"
     ]
    }
   ],
   "source": [
    "print(f\"val_acc_cv : {val_acc_cv}\")\n",
    "print(f\"mean_val_acc_cv : {np.mean(val_acc_cv)}\")"
   ]
  },
  {
   "cell_type": "code",
   "execution_count": 19,
   "metadata": {},
   "outputs": [
    {
     "name": "stderr",
     "output_type": "stream",
     "text": [
      "C:\\Users\\User\\Anaconda3\\lib\\site-packages\\sklearn\\model_selection\\_split.py:652: Warning: The least populated class in y has only 1 members, which is too few. The minimum number of members in any class cannot be less than n_splits=4.\n",
      "  % (min_groups, self.n_splits)), Warning)\n"
     ]
    },
    {
     "name": "stdout",
     "output_type": "stream",
     "text": [
      "Fold 1 :\n",
      "\n",
      "Accuracy: 28.999999999999996 %\n",
      "Fold 2 :\n",
      "\n",
      "Accuracy: 36.07 %\n",
      "Fold 3 :\n",
      "\n",
      "Accuracy: 40.53 %\n",
      "Fold 4 :\n",
      "\n",
      "Accuracy: 39.92 %\n"
     ]
    }
   ],
   "source": [
    "#gamma=100 dan C=10\n",
    "#untuk k=4\n",
    "kf = StratifiedKFold(n_splits=4, random_state=None, shuffle=False)\n",
    "val_acc_cv = []\n",
    "j = 0\n",
    "for train_index, test_index in kf.split(X,y):\n",
    "    j+=1\n",
    "    print(f\"Fold {j} :\")\n",
    "    print(\"\")\n",
    "    X_train,X_test = X[train_index],X[test_index]\n",
    "    y_train,y_test = y[train_index],y[test_index]\n",
    "    \n",
    "    # Create a SVC classifier using an RBF kernel\n",
    "    model = SVC(kernel='rbf', random_state=0, gamma=100, C=10)\n",
    "    model.fit(X_train, y_train)\n",
    "    val_acc_cv.append(round(model.score(X_test, y_test), 4)*100)\n",
    "    print('Accuracy:',round(model.score(X_test, y_test), 4)*100, '%')"
   ]
  },
  {
   "cell_type": "code",
   "execution_count": 20,
   "metadata": {},
   "outputs": [
    {
     "name": "stdout",
     "output_type": "stream",
     "text": [
      "val_acc_cv : [28.999999999999996, 36.07, 40.53, 39.92]\n",
      "mean_val_acc_cv : 36.379999999999995\n"
     ]
    }
   ],
   "source": [
    "print(f\"val_acc_cv : {val_acc_cv}\")\n",
    "print(f\"mean_val_acc_cv : {np.mean(val_acc_cv)}\")"
   ]
  },
  {
   "cell_type": "code",
   "execution_count": 21,
   "metadata": {},
   "outputs": [
    {
     "name": "stderr",
     "output_type": "stream",
     "text": [
      "C:\\Users\\User\\Anaconda3\\lib\\site-packages\\sklearn\\model_selection\\_split.py:652: Warning: The least populated class in y has only 1 members, which is too few. The minimum number of members in any class cannot be less than n_splits=4.\n",
      "  % (min_groups, self.n_splits)), Warning)\n"
     ]
    },
    {
     "name": "stdout",
     "output_type": "stream",
     "text": [
      "Fold 1 :\n",
      "\n",
      "Accuracy: 50.0 %\n",
      "Fold 2 :\n",
      "\n",
      "Accuracy: 58.089999999999996 %\n",
      "Fold 3 :\n",
      "\n",
      "Accuracy: 57.330000000000005 %\n",
      "Fold 4 :\n",
      "\n",
      "Accuracy: 54.47 %\n"
     ]
    }
   ],
   "source": [
    "#gamma=0.01 dan C=1000\n",
    "#untuk k=4\n",
    "kf = StratifiedKFold(n_splits=4, random_state=None, shuffle=False)\n",
    "val_acc_cv = []\n",
    "j = 0\n",
    "for train_index, test_index in kf.split(X,y):\n",
    "    j+=1\n",
    "    print(f\"Fold {j} :\")\n",
    "    print(\"\")\n",
    "    X_train,X_test = X[train_index],X[test_index]\n",
    "    y_train,y_test = y[train_index],y[test_index]\n",
    "    \n",
    "    # Create a SVC classifier using an RBF kernel\n",
    "    model = SVC(kernel='rbf', random_state=0, gamma=.01, C=1000)\n",
    "    model.fit(X_train, y_train)\n",
    "    val_acc_cv.append(round(model.score(X_test, y_test), 4)*100)\n",
    "    print('Accuracy:',round(model.score(X_test, y_test), 4)*100, '%')"
   ]
  },
  {
   "cell_type": "code",
   "execution_count": 22,
   "metadata": {},
   "outputs": [
    {
     "name": "stdout",
     "output_type": "stream",
     "text": [
      "val_acc_cv : [50.0, 58.089999999999996, 57.330000000000005, 54.47]\n",
      "mean_val_acc_cv : 54.972500000000004\n"
     ]
    }
   ],
   "source": [
    "print(f\"val_acc_cv : {val_acc_cv}\")\n",
    "print(f\"mean_val_acc_cv : {np.mean(val_acc_cv)}\")"
   ]
  },
  {
   "cell_type": "code",
   "execution_count": 23,
   "metadata": {},
   "outputs": [
    {
     "name": "stderr",
     "output_type": "stream",
     "text": [
      "C:\\Users\\User\\Anaconda3\\lib\\site-packages\\sklearn\\model_selection\\_split.py:652: Warning: The least populated class in y has only 1 members, which is too few. The minimum number of members in any class cannot be less than n_splits=4.\n",
      "  % (min_groups, self.n_splits)), Warning)\n"
     ]
    },
    {
     "name": "stdout",
     "output_type": "stream",
     "text": [
      "Fold 1 :\n",
      "\n",
      "Accuracy: 36.22 %\n",
      "Fold 2 :\n",
      "\n",
      "Accuracy: 47.08 %\n",
      "Fold 3 :\n",
      "\n",
      "Accuracy: 50.129999999999995 %\n",
      "Fold 4 :\n",
      "\n",
      "Accuracy: 45.660000000000004 %\n"
     ]
    }
   ],
   "source": [
    "#gamma=1 dan C=1000\n",
    "#untuk k=4\n",
    "kf = StratifiedKFold(n_splits=4, random_state=None, shuffle=False)\n",
    "val_acc_cv = []\n",
    "j = 0\n",
    "for train_index, test_index in kf.split(X,y):\n",
    "    j+=1\n",
    "    print(f\"Fold {j} :\")\n",
    "    print(\"\")\n",
    "    X_train,X_test = X[train_index],X[test_index]\n",
    "    y_train,y_test = y[train_index],y[test_index]\n",
    "    \n",
    "    # Create a SVC classifier using an RBF kernel\n",
    "    model = SVC(kernel='rbf', random_state=0, gamma=1, C=1000)\n",
    "    model.fit(X_train, y_train)\n",
    "    val_acc_cv.append(round(model.score(X_test, y_test), 4)*100)\n",
    "    print('Accuracy:',round(model.score(X_test, y_test), 4)*100, '%')"
   ]
  },
  {
   "cell_type": "code",
   "execution_count": 24,
   "metadata": {},
   "outputs": [
    {
     "name": "stdout",
     "output_type": "stream",
     "text": [
      "val_acc_cv : [36.22, 47.08, 50.129999999999995, 45.660000000000004]\n",
      "mean_val_acc_cv : 44.7725\n"
     ]
    }
   ],
   "source": [
    "print(f\"val_acc_cv : {val_acc_cv}\")\n",
    "print(f\"mean_val_acc_cv : {np.mean(val_acc_cv)}\")"
   ]
  },
  {
   "cell_type": "code",
   "execution_count": 25,
   "metadata": {},
   "outputs": [
    {
     "name": "stderr",
     "output_type": "stream",
     "text": [
      "C:\\Users\\User\\Anaconda3\\lib\\site-packages\\sklearn\\model_selection\\_split.py:652: Warning: The least populated class in y has only 1 members, which is too few. The minimum number of members in any class cannot be less than n_splits=4.\n",
      "  % (min_groups, self.n_splits)), Warning)\n"
     ]
    },
    {
     "name": "stdout",
     "output_type": "stream",
     "text": [
      "Fold 1 :\n",
      "\n",
      "Accuracy: 28.999999999999996 %\n",
      "Fold 2 :\n",
      "\n",
      "Accuracy: 36.07 %\n",
      "Fold 3 :\n",
      "\n",
      "Accuracy: 40.53 %\n",
      "Fold 4 :\n",
      "\n",
      "Accuracy: 39.92 %\n"
     ]
    }
   ],
   "source": [
    "#gamma=10 dan C=1000\n",
    "#untuk k=4\n",
    "kf = StratifiedKFold(n_splits=4, random_state=None, shuffle=False)\n",
    "val_acc_cv = []\n",
    "j = 0\n",
    "for train_index, test_index in kf.split(X,y):\n",
    "    j+=1\n",
    "    print(f\"Fold {j} :\")\n",
    "    print(\"\")\n",
    "    X_train,X_test = X[train_index],X[test_index]\n",
    "    y_train,y_test = y[train_index],y[test_index]\n",
    "    \n",
    "    # Create a SVC classifier using an RBF kernel\n",
    "    model = SVC(kernel='rbf', random_state=0, gamma=10, C=1000)\n",
    "    model.fit(X_train, y_train)\n",
    "    val_acc_cv.append(round(model.score(X_test, y_test), 4)*100)\n",
    "    print('Accuracy:',round(model.score(X_test, y_test), 4)*100, '%')"
   ]
  },
  {
   "cell_type": "code",
   "execution_count": 26,
   "metadata": {},
   "outputs": [
    {
     "name": "stdout",
     "output_type": "stream",
     "text": [
      "val_acc_cv : [28.999999999999996, 36.07, 40.53, 39.92]\n",
      "mean_val_acc_cv : 36.379999999999995\n"
     ]
    }
   ],
   "source": [
    "print(f\"val_acc_cv : {val_acc_cv}\")\n",
    "print(f\"mean_val_acc_cv : {np.mean(val_acc_cv)}\")"
   ]
  },
  {
   "cell_type": "code",
   "execution_count": 27,
   "metadata": {},
   "outputs": [
    {
     "name": "stderr",
     "output_type": "stream",
     "text": [
      "C:\\Users\\User\\Anaconda3\\lib\\site-packages\\sklearn\\model_selection\\_split.py:652: Warning: The least populated class in y has only 1 members, which is too few. The minimum number of members in any class cannot be less than n_splits=4.\n",
      "  % (min_groups, self.n_splits)), Warning)\n"
     ]
    },
    {
     "name": "stdout",
     "output_type": "stream",
     "text": [
      "Fold 1 :\n",
      "\n",
      "Accuracy: 28.999999999999996 %\n",
      "Fold 2 :\n",
      "\n",
      "Accuracy: 36.07 %\n",
      "Fold 3 :\n",
      "\n",
      "Accuracy: 40.53 %\n",
      "Fold 4 :\n",
      "\n",
      "Accuracy: 39.92 %\n"
     ]
    }
   ],
   "source": [
    "#gamma=100 dan C=1000\n",
    "#untuk k=4\n",
    "kf = StratifiedKFold(n_splits=4, random_state=None, shuffle=False)\n",
    "val_acc_cv = []\n",
    "j = 0\n",
    "for train_index, test_index in kf.split(X,y):\n",
    "    j+=1\n",
    "    print(f\"Fold {j} :\")\n",
    "    print(\"\")\n",
    "    X_train,X_test = X[train_index],X[test_index]\n",
    "    y_train,y_test = y[train_index],y[test_index]\n",
    "    \n",
    "    # Create a SVC classifier using an RBF kernel\n",
    "    model = SVC(kernel='rbf', random_state=0, gamma=100, C=1000)\n",
    "    model.fit(X_train, y_train)\n",
    "    val_acc_cv.append(round(model.score(X_test, y_test), 4)*100)\n",
    "    print('Accuracy:',round(model.score(X_test, y_test), 4)*100, '%')"
   ]
  },
  {
   "cell_type": "code",
   "execution_count": 28,
   "metadata": {},
   "outputs": [
    {
     "name": "stdout",
     "output_type": "stream",
     "text": [
      "val_acc_cv : [28.999999999999996, 36.07, 40.53, 39.92]\n",
      "mean_val_acc_cv : 36.379999999999995\n"
     ]
    }
   ],
   "source": [
    "print(f\"val_acc_cv : {val_acc_cv}\")\n",
    "print(f\"mean_val_acc_cv : {np.mean(val_acc_cv)}\")"
   ]
  },
  {
   "cell_type": "code",
   "execution_count": 29,
   "metadata": {},
   "outputs": [
    {
     "name": "stderr",
     "output_type": "stream",
     "text": [
      "C:\\Users\\User\\Anaconda3\\lib\\site-packages\\sklearn\\model_selection\\_split.py:652: Warning: The least populated class in y has only 1 members, which is too few. The minimum number of members in any class cannot be less than n_splits=4.\n",
      "  % (min_groups, self.n_splits)), Warning)\n"
     ]
    },
    {
     "name": "stdout",
     "output_type": "stream",
     "text": [
      "Fold 1 :\n",
      "\n",
      "Accuracy: 48.03 %\n",
      "Fold 2 :\n",
      "\n",
      "Accuracy: 57.43000000000001 %\n",
      "Fold 3 :\n",
      "\n",
      "Accuracy: 56.269999999999996 %\n",
      "Fold 4 :\n",
      "\n",
      "Accuracy: 53.400000000000006 %\n"
     ]
    }
   ],
   "source": [
    "#gamma=0.01 dan C=10000\n",
    "#untuk k=4\n",
    "kf = StratifiedKFold(n_splits=4, random_state=None, shuffle=False)\n",
    "val_acc_cv = []\n",
    "j = 0\n",
    "for train_index, test_index in kf.split(X,y):\n",
    "    j+=1\n",
    "    print(f\"Fold {j} :\")\n",
    "    print(\"\")\n",
    "    X_train,X_test = X[train_index],X[test_index]\n",
    "    y_train,y_test = y[train_index],y[test_index]\n",
    "    \n",
    "    # Create a SVC classifier using an RBF kernel\n",
    "    model = SVC(kernel='rbf', random_state=0, gamma=.01, C=10000)\n",
    "    model.fit(X_train, y_train)\n",
    "    val_acc_cv.append(round(model.score(X_test, y_test), 4)*100)\n",
    "    print('Accuracy:',round(model.score(X_test, y_test), 4)*100, '%')"
   ]
  },
  {
   "cell_type": "code",
   "execution_count": 30,
   "metadata": {},
   "outputs": [
    {
     "name": "stdout",
     "output_type": "stream",
     "text": [
      "val_acc_cv : [48.03, 57.43000000000001, 56.269999999999996, 53.400000000000006]\n",
      "mean_val_acc_cv : 53.782500000000006\n"
     ]
    }
   ],
   "source": [
    "print(f\"val_acc_cv : {val_acc_cv}\")\n",
    "print(f\"mean_val_acc_cv : {np.mean(val_acc_cv)}\")"
   ]
  },
  {
   "cell_type": "code",
   "execution_count": 31,
   "metadata": {},
   "outputs": [
    {
     "name": "stderr",
     "output_type": "stream",
     "text": [
      "C:\\Users\\User\\Anaconda3\\lib\\site-packages\\sklearn\\model_selection\\_split.py:652: Warning: The least populated class in y has only 1 members, which is too few. The minimum number of members in any class cannot be less than n_splits=4.\n",
      "  % (min_groups, self.n_splits)), Warning)\n"
     ]
    },
    {
     "name": "stdout",
     "output_type": "stream",
     "text": [
      "Fold 1 :\n",
      "\n",
      "Accuracy: 36.22 %\n",
      "Fold 2 :\n",
      "\n",
      "Accuracy: 47.08 %\n",
      "Fold 3 :\n",
      "\n",
      "Accuracy: 50.129999999999995 %\n",
      "Fold 4 :\n",
      "\n",
      "Accuracy: 45.660000000000004 %\n"
     ]
    }
   ],
   "source": [
    "#gamma=1 dan C=10000\n",
    "#untuk k=4\n",
    "kf = StratifiedKFold(n_splits=4, random_state=None, shuffle=False)\n",
    "val_acc_cv = []\n",
    "j = 0\n",
    "for train_index, test_index in kf.split(X,y):\n",
    "    j+=1\n",
    "    print(f\"Fold {j} :\")\n",
    "    print(\"\")\n",
    "    X_train,X_test = X[train_index],X[test_index]\n",
    "    y_train,y_test = y[train_index],y[test_index]\n",
    "    \n",
    "    # Create a SVC classifier using an RBF kernel\n",
    "    model = SVC(kernel='rbf', random_state=0, gamma=1, C=10000)\n",
    "    model.fit(X_train, y_train)\n",
    "    val_acc_cv.append(round(model.score(X_test, y_test), 4)*100)\n",
    "    print('Accuracy:',round(model.score(X_test, y_test), 4)*100, '%')"
   ]
  },
  {
   "cell_type": "code",
   "execution_count": 32,
   "metadata": {},
   "outputs": [
    {
     "name": "stdout",
     "output_type": "stream",
     "text": [
      "val_acc_cv : [36.22, 47.08, 50.129999999999995, 45.660000000000004]\n",
      "mean_val_acc_cv : 44.7725\n"
     ]
    }
   ],
   "source": [
    "print(f\"val_acc_cv : {val_acc_cv}\")\n",
    "print(f\"mean_val_acc_cv : {np.mean(val_acc_cv)}\")"
   ]
  },
  {
   "cell_type": "code",
   "execution_count": 33,
   "metadata": {},
   "outputs": [
    {
     "name": "stderr",
     "output_type": "stream",
     "text": [
      "C:\\Users\\User\\Anaconda3\\lib\\site-packages\\sklearn\\model_selection\\_split.py:652: Warning: The least populated class in y has only 1 members, which is too few. The minimum number of members in any class cannot be less than n_splits=4.\n",
      "  % (min_groups, self.n_splits)), Warning)\n"
     ]
    },
    {
     "name": "stdout",
     "output_type": "stream",
     "text": [
      "Fold 1 :\n",
      "\n",
      "Accuracy: 28.999999999999996 %\n",
      "Fold 2 :\n",
      "\n",
      "Accuracy: 36.07 %\n",
      "Fold 3 :\n",
      "\n",
      "Accuracy: 40.53 %\n",
      "Fold 4 :\n",
      "\n",
      "Accuracy: 39.92 %\n"
     ]
    }
   ],
   "source": [
    "#gamma=10 dan C=10000\n",
    "#untuk k=4\n",
    "kf = StratifiedKFold(n_splits=4, random_state=None, shuffle=False)\n",
    "val_acc_cv = []\n",
    "j = 0\n",
    "for train_index, test_index in kf.split(X,y):\n",
    "    j+=1\n",
    "    print(f\"Fold {j} :\")\n",
    "    print(\"\")\n",
    "    X_train,X_test = X[train_index],X[test_index]\n",
    "    y_train,y_test = y[train_index],y[test_index]\n",
    "    \n",
    "    # Create a SVC classifier using an RBF kernel\n",
    "    model = SVC(kernel='rbf', random_state=0, gamma=10, C=10000)\n",
    "    model.fit(X_train, y_train)\n",
    "    val_acc_cv.append(round(model.score(X_test, y_test), 4)*100)\n",
    "    print('Accuracy:',round(model.score(X_test, y_test), 4)*100, '%')"
   ]
  },
  {
   "cell_type": "code",
   "execution_count": 34,
   "metadata": {},
   "outputs": [
    {
     "name": "stdout",
     "output_type": "stream",
     "text": [
      "val_acc_cv : [28.999999999999996, 36.07, 40.53, 39.92]\n",
      "mean_val_acc_cv : 36.379999999999995\n"
     ]
    }
   ],
   "source": [
    "print(f\"val_acc_cv : {val_acc_cv}\")\n",
    "print(f\"mean_val_acc_cv : {np.mean(val_acc_cv)}\")"
   ]
  },
  {
   "cell_type": "code",
   "execution_count": 35,
   "metadata": {},
   "outputs": [
    {
     "name": "stderr",
     "output_type": "stream",
     "text": [
      "C:\\Users\\User\\Anaconda3\\lib\\site-packages\\sklearn\\model_selection\\_split.py:652: Warning: The least populated class in y has only 1 members, which is too few. The minimum number of members in any class cannot be less than n_splits=4.\n",
      "  % (min_groups, self.n_splits)), Warning)\n"
     ]
    },
    {
     "name": "stdout",
     "output_type": "stream",
     "text": [
      "Fold 1 :\n",
      "\n",
      "Accuracy: 28.999999999999996 %\n",
      "Fold 2 :\n",
      "\n",
      "Accuracy: 36.07 %\n",
      "Fold 3 :\n",
      "\n",
      "Accuracy: 40.53 %\n",
      "Fold 4 :\n",
      "\n",
      "Accuracy: 39.92 %\n"
     ]
    }
   ],
   "source": [
    "#gamma=100 dan C=10000\n",
    "#untuk k=4\n",
    "kf = StratifiedKFold(n_splits=4, random_state=None, shuffle=False)\n",
    "val_acc_cv = []\n",
    "j = 0\n",
    "for train_index, test_index in kf.split(X,y):\n",
    "    j+=1\n",
    "    print(f\"Fold {j} :\")\n",
    "    print(\"\")\n",
    "    X_train,X_test = X[train_index],X[test_index]\n",
    "    y_train,y_test = y[train_index],y[test_index]\n",
    "    \n",
    "    # Create a SVC classifier using an RBF kernel\n",
    "    model = SVC(kernel='rbf', random_state=0, gamma=100, C=10000)\n",
    "    model.fit(X_train, y_train)\n",
    "    val_acc_cv.append(round(model.score(X_test, y_test), 4)*100)\n",
    "    print('Accuracy:',round(model.score(X_test, y_test), 4)*100, '%')"
   ]
  },
  {
   "cell_type": "code",
   "execution_count": 36,
   "metadata": {},
   "outputs": [
    {
     "name": "stdout",
     "output_type": "stream",
     "text": [
      "val_acc_cv : [28.999999999999996, 36.07, 40.53, 39.92]\n",
      "mean_val_acc_cv : 36.379999999999995\n"
     ]
    }
   ],
   "source": [
    "print(f\"val_acc_cv : {val_acc_cv}\")\n",
    "print(f\"mean_val_acc_cv : {np.mean(val_acc_cv)}\")"
   ]
  },
  {
   "cell_type": "code",
   "execution_count": 37,
   "metadata": {},
   "outputs": [
    {
     "name": "stderr",
     "output_type": "stream",
     "text": [
      "C:\\Users\\User\\Anaconda3\\lib\\site-packages\\sklearn\\model_selection\\_split.py:652: Warning: The least populated class in y has only 1 members, which is too few. The minimum number of members in any class cannot be less than n_splits=4.\n",
      "  % (min_groups, self.n_splits)), Warning)\n"
     ]
    },
    {
     "name": "stdout",
     "output_type": "stream",
     "text": [
      "Fold 1 :\n",
      "\n",
      "Accuracy: 48.03 %\n",
      "Fold 2 :\n",
      "\n",
      "Accuracy: 57.43000000000001 %\n",
      "Fold 3 :\n",
      "\n",
      "Accuracy: 56.269999999999996 %\n",
      "Fold 4 :\n",
      "\n",
      "Accuracy: 53.400000000000006 %\n"
     ]
    }
   ],
   "source": [
    "#gamma=0.01 dan C=100000\n",
    "#untuk k=4\n",
    "kf = StratifiedKFold(n_splits=4, random_state=None, shuffle=False)\n",
    "val_acc_cv = []\n",
    "j = 0\n",
    "for train_index, test_index in kf.split(X,y):\n",
    "    j+=1\n",
    "    print(f\"Fold {j} :\")\n",
    "    print(\"\")\n",
    "    X_train,X_test = X[train_index],X[test_index]\n",
    "    y_train,y_test = y[train_index],y[test_index]\n",
    "    \n",
    "    # Create a SVC classifier using an RBF kernel\n",
    "    model = SVC(kernel='rbf', random_state=0, gamma=.01, C=100000)\n",
    "    model.fit(X_train, y_train)\n",
    "    val_acc_cv.append(round(model.score(X_test, y_test), 4)*100)\n",
    "    print('Accuracy:',round(model.score(X_test, y_test), 4)*100, '%')"
   ]
  },
  {
   "cell_type": "code",
   "execution_count": 38,
   "metadata": {},
   "outputs": [
    {
     "name": "stdout",
     "output_type": "stream",
     "text": [
      "val_acc_cv : [48.03, 57.43000000000001, 56.269999999999996, 53.400000000000006]\n",
      "mean_val_acc_cv : 53.782500000000006\n"
     ]
    }
   ],
   "source": [
    "print(f\"val_acc_cv : {val_acc_cv}\")\n",
    "print(f\"mean_val_acc_cv : {np.mean(val_acc_cv)}\")"
   ]
  },
  {
   "cell_type": "code",
   "execution_count": 39,
   "metadata": {},
   "outputs": [
    {
     "name": "stderr",
     "output_type": "stream",
     "text": [
      "C:\\Users\\User\\Anaconda3\\lib\\site-packages\\sklearn\\model_selection\\_split.py:652: Warning: The least populated class in y has only 1 members, which is too few. The minimum number of members in any class cannot be less than n_splits=4.\n",
      "  % (min_groups, self.n_splits)), Warning)\n"
     ]
    },
    {
     "name": "stdout",
     "output_type": "stream",
     "text": [
      "Fold 1 :\n",
      "\n",
      "Accuracy: 36.22 %\n",
      "Fold 2 :\n",
      "\n",
      "Accuracy: 47.08 %\n",
      "Fold 3 :\n",
      "\n",
      "Accuracy: 50.129999999999995 %\n",
      "Fold 4 :\n",
      "\n",
      "Accuracy: 45.660000000000004 %\n"
     ]
    }
   ],
   "source": [
    "#gamma=1 dan C=100000\n",
    "#untuk k=4\n",
    "kf = StratifiedKFold(n_splits=4, random_state=None, shuffle=False)\n",
    "val_acc_cv = []\n",
    "j = 0\n",
    "for train_index, test_index in kf.split(X,y):\n",
    "    j+=1\n",
    "    print(f\"Fold {j} :\")\n",
    "    print(\"\")\n",
    "    X_train,X_test = X[train_index],X[test_index]\n",
    "    y_train,y_test = y[train_index],y[test_index]\n",
    "    \n",
    "    # Create a SVC classifier using an RBF kernel\n",
    "    model = SVC(kernel='rbf', random_state=0, gamma=1, C=100000)\n",
    "    model.fit(X_train, y_train)\n",
    "    val_acc_cv.append(round(model.score(X_test, y_test), 4)*100)\n",
    "    print('Accuracy:',round(model.score(X_test, y_test), 4)*100, '%')"
   ]
  },
  {
   "cell_type": "code",
   "execution_count": 40,
   "metadata": {},
   "outputs": [
    {
     "name": "stdout",
     "output_type": "stream",
     "text": [
      "val_acc_cv : [36.22, 47.08, 50.129999999999995, 45.660000000000004]\n",
      "mean_val_acc_cv : 44.7725\n"
     ]
    }
   ],
   "source": [
    "print(f\"val_acc_cv : {val_acc_cv}\")\n",
    "print(f\"mean_val_acc_cv : {np.mean(val_acc_cv)}\")"
   ]
  },
  {
   "cell_type": "code",
   "execution_count": 41,
   "metadata": {},
   "outputs": [
    {
     "name": "stderr",
     "output_type": "stream",
     "text": [
      "C:\\Users\\User\\Anaconda3\\lib\\site-packages\\sklearn\\model_selection\\_split.py:652: Warning: The least populated class in y has only 1 members, which is too few. The minimum number of members in any class cannot be less than n_splits=4.\n",
      "  % (min_groups, self.n_splits)), Warning)\n"
     ]
    },
    {
     "name": "stdout",
     "output_type": "stream",
     "text": [
      "Fold 1 :\n",
      "\n",
      "Accuracy: 28.999999999999996 %\n",
      "Fold 2 :\n",
      "\n",
      "Accuracy: 36.07 %\n",
      "Fold 3 :\n",
      "\n",
      "Accuracy: 40.53 %\n",
      "Fold 4 :\n",
      "\n",
      "Accuracy: 39.92 %\n"
     ]
    }
   ],
   "source": [
    "#gamma=10 dan C=100000\n",
    "#untuk k=4\n",
    "kf = StratifiedKFold(n_splits=4, random_state=None, shuffle=False)\n",
    "val_acc_cv = []\n",
    "j = 0\n",
    "for train_index, test_index in kf.split(X,y):\n",
    "    j+=1\n",
    "    print(f\"Fold {j} :\")\n",
    "    print(\"\")\n",
    "    X_train,X_test = X[train_index],X[test_index]\n",
    "    y_train,y_test = y[train_index],y[test_index]\n",
    "    \n",
    "    # Create a SVC classifier using an RBF kernel\n",
    "    model = SVC(kernel='rbf', random_state=0, gamma=10, C=100000)\n",
    "    model.fit(X_train, y_train)\n",
    "    val_acc_cv.append(round(model.score(X_test, y_test), 4)*100)\n",
    "    print('Accuracy:',round(model.score(X_test, y_test), 4)*100, '%')"
   ]
  },
  {
   "cell_type": "code",
   "execution_count": 42,
   "metadata": {},
   "outputs": [
    {
     "name": "stdout",
     "output_type": "stream",
     "text": [
      "val_acc_cv : [28.999999999999996, 36.07, 40.53, 39.92]\n",
      "mean_val_acc_cv : 36.379999999999995\n"
     ]
    }
   ],
   "source": [
    "print(f\"val_acc_cv : {val_acc_cv}\")\n",
    "print(f\"mean_val_acc_cv : {np.mean(val_acc_cv)}\")"
   ]
  },
  {
   "cell_type": "code",
   "execution_count": 43,
   "metadata": {},
   "outputs": [
    {
     "name": "stderr",
     "output_type": "stream",
     "text": [
      "C:\\Users\\User\\Anaconda3\\lib\\site-packages\\sklearn\\model_selection\\_split.py:652: Warning: The least populated class in y has only 1 members, which is too few. The minimum number of members in any class cannot be less than n_splits=4.\n",
      "  % (min_groups, self.n_splits)), Warning)\n"
     ]
    },
    {
     "name": "stdout",
     "output_type": "stream",
     "text": [
      "Fold 1 :\n",
      "\n",
      "Accuracy: 28.999999999999996 %\n",
      "Fold 2 :\n",
      "\n",
      "Accuracy: 36.07 %\n",
      "Fold 3 :\n",
      "\n",
      "Accuracy: 40.53 %\n",
      "Fold 4 :\n",
      "\n",
      "Accuracy: 39.92 %\n"
     ]
    }
   ],
   "source": [
    "#gamma=100 dan C=100000\n",
    "#untuk k=4\n",
    "kf = StratifiedKFold(n_splits=4, random_state=None, shuffle=False)\n",
    "val_acc_cv = []\n",
    "j = 0\n",
    "for train_index, test_index in kf.split(X,y):\n",
    "    j+=1\n",
    "    print(f\"Fold {j} :\")\n",
    "    print(\"\")\n",
    "    X_train,X_test = X[train_index],X[test_index]\n",
    "    y_train,y_test = y[train_index],y[test_index]\n",
    "    \n",
    "    # Create a SVC classifier using an RBF kernel\n",
    "    model = SVC(kernel='rbf', random_state=0, gamma=100, C=100000)\n",
    "    model.fit(X_train, y_train)\n",
    "    val_acc_cv.append(round(model.score(X_test, y_test), 4)*100)\n",
    "    print('Accuracy:',round(model.score(X_test, y_test), 4)*100, '%')"
   ]
  },
  {
   "cell_type": "code",
   "execution_count": 44,
   "metadata": {},
   "outputs": [
    {
     "name": "stdout",
     "output_type": "stream",
     "text": [
      "val_acc_cv : [28.999999999999996, 36.07, 40.53, 39.92]\n",
      "mean_val_acc_cv : 36.379999999999995\n"
     ]
    }
   ],
   "source": [
    "print(f\"val_acc_cv : {val_acc_cv}\")\n",
    "print(f\"mean_val_acc_cv : {np.mean(val_acc_cv)}\")"
   ]
  },
  {
   "cell_type": "code",
   "execution_count": null,
   "metadata": {},
   "outputs": [],
   "source": []
  }
 ],
 "metadata": {
  "kernelspec": {
   "display_name": "Python 3",
   "language": "python",
   "name": "python3"
  },
  "language_info": {
   "codemirror_mode": {
    "name": "ipython",
    "version": 3
   },
   "file_extension": ".py",
   "mimetype": "text/x-python",
   "name": "python",
   "nbconvert_exporter": "python",
   "pygments_lexer": "ipython3",
   "version": "3.6.8"
  }
 },
 "nbformat": 4,
 "nbformat_minor": 2
}
