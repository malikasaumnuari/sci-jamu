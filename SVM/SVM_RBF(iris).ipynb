{
 "cells": [
  {
   "cell_type": "code",
   "execution_count": 1,
   "metadata": {},
   "outputs": [],
   "source": [
    "import numpy as np\n",
    "import pandas\n",
    "from sklearn.model_selection import StratifiedKFold\n",
    "from sklearn import svm\n",
    "\n",
    "import matplotlib.pyplot as plt\n",
    "from matplotlib.colors import Normalize\n",
    "\n",
    "from sklearn.svm import SVC\n",
    "from sklearn.preprocessing import StandardScaler\n",
    "from sklearn.model_selection import StratifiedShuffleSplit\n",
    "from sklearn.model_selection import GridSearchCV"
   ]
  },
  {
   "cell_type": "code",
   "execution_count": 2,
   "metadata": {},
   "outputs": [
    {
     "data": {
      "text/html": [
       "<div>\n",
       "<style scoped>\n",
       "    .dataframe tbody tr th:only-of-type {\n",
       "        vertical-align: middle;\n",
       "    }\n",
       "\n",
       "    .dataframe tbody tr th {\n",
       "        vertical-align: top;\n",
       "    }\n",
       "\n",
       "    .dataframe thead th {\n",
       "        text-align: right;\n",
       "    }\n",
       "</style>\n",
       "<table border=\"1\" class=\"dataframe\">\n",
       "  <thead>\n",
       "    <tr style=\"text-align: right;\">\n",
       "      <th></th>\n",
       "      <th>Id</th>\n",
       "      <th>SepalLengthCm</th>\n",
       "      <th>SepalWidthCm</th>\n",
       "      <th>PetalLengthCm</th>\n",
       "      <th>PetalWidthCm</th>\n",
       "      <th>Species</th>\n",
       "    </tr>\n",
       "  </thead>\n",
       "  <tbody>\n",
       "    <tr>\n",
       "      <th>0</th>\n",
       "      <td>1</td>\n",
       "      <td>5.1</td>\n",
       "      <td>3.5</td>\n",
       "      <td>1.4</td>\n",
       "      <td>0.2</td>\n",
       "      <td>Iris-setosa</td>\n",
       "    </tr>\n",
       "    <tr>\n",
       "      <th>1</th>\n",
       "      <td>2</td>\n",
       "      <td>4.9</td>\n",
       "      <td>3.0</td>\n",
       "      <td>1.4</td>\n",
       "      <td>0.2</td>\n",
       "      <td>Iris-setosa</td>\n",
       "    </tr>\n",
       "    <tr>\n",
       "      <th>2</th>\n",
       "      <td>3</td>\n",
       "      <td>4.7</td>\n",
       "      <td>3.2</td>\n",
       "      <td>1.3</td>\n",
       "      <td>0.2</td>\n",
       "      <td>Iris-setosa</td>\n",
       "    </tr>\n",
       "    <tr>\n",
       "      <th>3</th>\n",
       "      <td>4</td>\n",
       "      <td>4.6</td>\n",
       "      <td>3.1</td>\n",
       "      <td>1.5</td>\n",
       "      <td>0.2</td>\n",
       "      <td>Iris-setosa</td>\n",
       "    </tr>\n",
       "    <tr>\n",
       "      <th>4</th>\n",
       "      <td>5</td>\n",
       "      <td>5.0</td>\n",
       "      <td>3.6</td>\n",
       "      <td>1.4</td>\n",
       "      <td>0.2</td>\n",
       "      <td>Iris-setosa</td>\n",
       "    </tr>\n",
       "  </tbody>\n",
       "</table>\n",
       "</div>"
      ],
      "text/plain": [
       "   Id  SepalLengthCm  SepalWidthCm  PetalLengthCm  PetalWidthCm      Species\n",
       "0   1            5.1           3.5            1.4           0.2  Iris-setosa\n",
       "1   2            4.9           3.0            1.4           0.2  Iris-setosa\n",
       "2   3            4.7           3.2            1.3           0.2  Iris-setosa\n",
       "3   4            4.6           3.1            1.5           0.2  Iris-setosa\n",
       "4   5            5.0           3.6            1.4           0.2  Iris-setosa"
      ]
     },
     "execution_count": 2,
     "metadata": {},
     "output_type": "execute_result"
    }
   ],
   "source": [
    "a = pandas.read_csv('C:\\\\Users\\\\User\\\\Downloads\\\\iris-data\\\\Iris.csv')\n",
    "iris = pandas.DataFrame(a)\n",
    "iris.head()"
   ]
  },
  {
   "cell_type": "code",
   "execution_count": 3,
   "metadata": {},
   "outputs": [],
   "source": [
    "iris.drop('Id', axis = 1, inplace = True)"
   ]
  },
  {
   "cell_type": "code",
   "execution_count": 4,
   "metadata": {},
   "outputs": [],
   "source": [
    "iris['Species'].replace('Iris-setosa',0,inplace=True)\n",
    "iris['Species'].replace('Iris-versicolor',1,inplace=True)\n",
    "iris['Species'].replace('Iris-virginica',2,inplace=True)\n",
    "X = iris.drop('Species', axis=1).values\n",
    "y = iris.Species"
   ]
  },
  {
   "cell_type": "code",
   "execution_count": 5,
   "metadata": {},
   "outputs": [
    {
     "data": {
      "text/plain": [
       "array([0, 1, 2], dtype=int64)"
      ]
     },
     "execution_count": 5,
     "metadata": {},
     "output_type": "execute_result"
    }
   ],
   "source": [
    "y.unique()"
   ]
  },
  {
   "cell_type": "code",
   "execution_count": 6,
   "metadata": {},
   "outputs": [
    {
     "name": "stdout",
     "output_type": "stream",
     "text": [
      "Fold 1 :\n",
      "\n",
      "Accuracy: 97.44 %\n",
      "Fold 2 :\n",
      "\n",
      "Accuracy: 100.0 %\n",
      "Fold 3 :\n",
      "\n",
      "Accuracy: 94.44 %\n",
      "Fold 4 :\n",
      "\n",
      "Accuracy: 97.22 %\n"
     ]
    }
   ],
   "source": [
    "from sklearn.model_selection import StratifiedKFold\n",
    "#gamma=0.01 dan C=10\n",
    "#untuk k=4\n",
    "kf = StratifiedKFold(n_splits=4, random_state=None, shuffle=False)\n",
    "val_acc_cv = []\n",
    "j = 0\n",
    "for train_index, test_index in kf.split(X,y):\n",
    "    j+=1\n",
    "    print(f\"Fold {j} :\")\n",
    "    print(\"\")\n",
    "    X_train,X_test = X[train_index],X[test_index]\n",
    "    y_train,y_test = y[train_index],y[test_index]\n",
    "    \n",
    "    # Create a SVC classifier using an RBF kernel\n",
    "    model = SVC(kernel='rbf', random_state=0, gamma=.01, C=10)\n",
    "    model.fit(X_train, y_train)\n",
    "    val_acc_cv.append(round(model.score(X_test, y_test), 4)*100)\n",
    "    print('Accuracy:',round(model.score(X_test, y_test), 4)*100, '%')"
   ]
  },
  {
   "cell_type": "code",
   "execution_count": 7,
   "metadata": {},
   "outputs": [
    {
     "name": "stdout",
     "output_type": "stream",
     "text": [
      "val_acc_cv : [97.44, 100.0, 94.44, 97.22]\n",
      "mean_val_acc_cv : 97.275\n"
     ]
    }
   ],
   "source": [
    "print(f\"val_acc_cv : {val_acc_cv}\")\n",
    "print(f\"mean_val_acc_cv : {np.mean(val_acc_cv)}\")"
   ]
  },
  {
   "cell_type": "code",
   "execution_count": 8,
   "metadata": {},
   "outputs": [
    {
     "name": "stdout",
     "output_type": "stream",
     "text": [
      "Fold 1 :\n",
      "\n",
      "Accuracy: 96.67 %\n",
      "Fold 2 :\n",
      "\n",
      "Accuracy: 100.0 %\n",
      "Fold 3 :\n",
      "\n",
      "Accuracy: 96.67 %\n",
      "Fold 4 :\n",
      "\n",
      "Accuracy: 96.67 %\n",
      "Fold 5 :\n",
      "\n",
      "Accuracy: 100.0 %\n"
     ]
    }
   ],
   "source": [
    "#gamma=0.01 dan C=10\n",
    "#untuk k=5\n",
    "kf = StratifiedKFold(n_splits=5, random_state=None, shuffle=False)\n",
    "val_acc_cv = []\n",
    "j = 0\n",
    "for train_index, test_index in kf.split(X,y):\n",
    "    j+=1\n",
    "    print(f\"Fold {j} :\")\n",
    "    print(\"\")\n",
    "    X_train,X_test = X[train_index],X[test_index]\n",
    "    y_train,y_test = y[train_index],y[test_index]\n",
    "    \n",
    "    # Create a SVC classifier using an RBF kernel\n",
    "    model = SVC(kernel='rbf', random_state=0, gamma=.01, C=10)\n",
    "    model.fit(X_train, y_train)\n",
    "    val_acc_cv.append(round(model.score(X_test, y_test), 4)*100)\n",
    "    print('Accuracy:',round(model.score(X_test, y_test), 4)*100, '%')"
   ]
  },
  {
   "cell_type": "code",
   "execution_count": 9,
   "metadata": {},
   "outputs": [
    {
     "name": "stdout",
     "output_type": "stream",
     "text": [
      "val_acc_cv : [96.67, 100.0, 96.67, 96.67, 100.0]\n",
      "mean_val_acc_cv : 98.00200000000001\n"
     ]
    }
   ],
   "source": [
    "print(f\"val_acc_cv : {val_acc_cv}\")\n",
    "print(f\"mean_val_acc_cv : {np.mean(val_acc_cv)}\")"
   ]
  },
  {
   "cell_type": "code",
   "execution_count": 10,
   "metadata": {},
   "outputs": [
    {
     "name": "stdout",
     "output_type": "stream",
     "text": [
      "Fold 1 :\n",
      "\n",
      "Accuracy: 96.3 %\n",
      "Fold 2 :\n",
      "\n",
      "Accuracy: 100.0 %\n",
      "Fold 3 :\n",
      "\n",
      "Accuracy: 100.0 %\n",
      "Fold 4 :\n",
      "\n",
      "Accuracy: 91.67 %\n",
      "Fold 5 :\n",
      "\n",
      "Accuracy: 100.0 %\n",
      "Fold 6 :\n",
      "\n",
      "Accuracy: 100.0 %\n"
     ]
    }
   ],
   "source": [
    "#gamma=0.01 dan C=10\n",
    "#untuk k=6\n",
    "kf = StratifiedKFold(n_splits=6, random_state=None, shuffle=False)\n",
    "val_acc_cv = []\n",
    "j = 0\n",
    "for train_index, test_index in kf.split(X,y):\n",
    "    j+=1\n",
    "    print(f\"Fold {j} :\")\n",
    "    print(\"\")\n",
    "    X_train,X_test = X[train_index],X[test_index]\n",
    "    y_train,y_test = y[train_index],y[test_index]\n",
    "    \n",
    "    # Create a SVC classifier using an RBF kernel\n",
    "    model = SVC(kernel='rbf', random_state=0, gamma=.01, C=10)\n",
    "    model.fit(X_train, y_train)\n",
    "    val_acc_cv.append(round(model.score(X_test, y_test), 4)*100)\n",
    "    print('Accuracy:',round(model.score(X_test, y_test), 4)*100, '%')"
   ]
  },
  {
   "cell_type": "code",
   "execution_count": 11,
   "metadata": {},
   "outputs": [
    {
     "name": "stdout",
     "output_type": "stream",
     "text": [
      "val_acc_cv : [96.3, 100.0, 100.0, 91.67, 100.0, 100.0]\n",
      "mean_val_acc_cv : 97.995\n"
     ]
    }
   ],
   "source": [
    "print(f\"val_acc_cv : {val_acc_cv}\")\n",
    "print(f\"mean_val_acc_cv : {np.mean(val_acc_cv)}\")"
   ]
  },
  {
   "cell_type": "code",
   "execution_count": 12,
   "metadata": {},
   "outputs": [
    {
     "name": "stdout",
     "output_type": "stream",
     "text": [
      "Fold 1 :\n",
      "\n",
      "Accuracy: 95.83 %\n",
      "Fold 2 :\n",
      "\n",
      "Accuracy: 100.0 %\n",
      "Fold 3 :\n",
      "\n",
      "Accuracy: 95.24000000000001 %\n",
      "Fold 4 :\n",
      "\n",
      "Accuracy: 95.24000000000001 %\n",
      "Fold 5 :\n",
      "\n",
      "Accuracy: 95.24000000000001 %\n",
      "Fold 6 :\n",
      "\n",
      "Accuracy: 95.24000000000001 %\n",
      "Fold 7 :\n",
      "\n",
      "Accuracy: 100.0 %\n"
     ]
    }
   ],
   "source": [
    "#gamma=0.01 dan C=10\n",
    "#untuk k=7\n",
    "kf = StratifiedKFold(n_splits=7, random_state=None, shuffle=False)\n",
    "val_acc_cv = []\n",
    "j = 0\n",
    "for train_index, test_index in kf.split(X,y):\n",
    "    j+=1\n",
    "    print(f\"Fold {j} :\")\n",
    "    print(\"\")\n",
    "    X_train,X_test = X[train_index],X[test_index]\n",
    "    y_train,y_test = y[train_index],y[test_index]\n",
    "    \n",
    "    # Create a SVC classifier using an RBF kernel\n",
    "    model = SVC(kernel='rbf', random_state=0, gamma=.01, C=10)\n",
    "    model.fit(X_train, y_train)\n",
    "    val_acc_cv.append(round(model.score(X_test, y_test), 4)*100)\n",
    "    print('Accuracy:',round(model.score(X_test, y_test), 4)*100, '%')"
   ]
  },
  {
   "cell_type": "code",
   "execution_count": 13,
   "metadata": {},
   "outputs": [
    {
     "name": "stdout",
     "output_type": "stream",
     "text": [
      "val_acc_cv : [95.83, 100.0, 95.24000000000001, 95.24000000000001, 95.24000000000001, 95.24000000000001, 100.0]\n",
      "mean_val_acc_cv : 96.6842857142857\n"
     ]
    }
   ],
   "source": [
    "print(f\"val_acc_cv : {val_acc_cv}\")\n",
    "print(f\"mean_val_acc_cv : {np.mean(val_acc_cv)}\")"
   ]
  },
  {
   "cell_type": "code",
   "execution_count": 14,
   "metadata": {},
   "outputs": [
    {
     "name": "stdout",
     "output_type": "stream",
     "text": [
      "Fold 1 :\n",
      "\n",
      "Accuracy: 95.24000000000001 %\n",
      "Fold 2 :\n",
      "\n",
      "Accuracy: 100.0 %\n",
      "Fold 3 :\n",
      "\n",
      "Accuracy: 100.0 %\n",
      "Fold 4 :\n",
      "\n",
      "Accuracy: 100.0 %\n",
      "Fold 5 :\n",
      "\n",
      "Accuracy: 94.44 %\n",
      "Fold 6 :\n",
      "\n",
      "Accuracy: 94.44 %\n",
      "Fold 7 :\n",
      "\n",
      "Accuracy: 94.44 %\n",
      "Fold 8 :\n",
      "\n",
      "Accuracy: 100.0 %\n"
     ]
    }
   ],
   "source": [
    "#gamma=0.01 dan C=10\n",
    "#untuk k=8\n",
    "kf = StratifiedKFold(n_splits=8, random_state=None, shuffle=False)\n",
    "val_acc_cv = []\n",
    "j = 0\n",
    "for train_index, test_index in kf.split(X,y):\n",
    "    j+=1\n",
    "    print(f\"Fold {j} :\")\n",
    "    print(\"\")\n",
    "    X_train,X_test = X[train_index],X[test_index]\n",
    "    y_train,y_test = y[train_index],y[test_index]\n",
    "    \n",
    "    # Create a SVC classifier using an RBF kernel\n",
    "    model = SVC(kernel='rbf', random_state=0, gamma=.01, C=10)\n",
    "    model.fit(X_train, y_train)\n",
    "    val_acc_cv.append(round(model.score(X_test, y_test), 4)*100)\n",
    "    print('Accuracy:',round(model.score(X_test, y_test), 4)*100, '%')"
   ]
  },
  {
   "cell_type": "code",
   "execution_count": 15,
   "metadata": {},
   "outputs": [
    {
     "name": "stdout",
     "output_type": "stream",
     "text": [
      "val_acc_cv : [95.24000000000001, 100.0, 100.0, 100.0, 94.44, 94.44, 94.44, 100.0]\n",
      "mean_val_acc_cv : 97.32\n"
     ]
    }
   ],
   "source": [
    "print(f\"val_acc_cv : {val_acc_cv}\")\n",
    "print(f\"mean_val_acc_cv : {np.mean(val_acc_cv)}\")"
   ]
  },
  {
   "cell_type": "code",
   "execution_count": 16,
   "metadata": {},
   "outputs": [
    {
     "name": "stdout",
     "output_type": "stream",
     "text": [
      "Fold 1 :\n",
      "\n",
      "Accuracy: 100.0 %\n",
      "Fold 2 :\n",
      "\n",
      "Accuracy: 94.44 %\n",
      "Fold 3 :\n",
      "\n",
      "Accuracy: 100.0 %\n",
      "Fold 4 :\n",
      "\n",
      "Accuracy: 100.0 %\n",
      "Fold 5 :\n",
      "\n",
      "Accuracy: 94.44 %\n",
      "Fold 6 :\n",
      "\n",
      "Accuracy: 93.33 %\n",
      "Fold 7 :\n",
      "\n",
      "Accuracy: 100.0 %\n",
      "Fold 8 :\n",
      "\n",
      "Accuracy: 100.0 %\n",
      "Fold 9 :\n",
      "\n",
      "Accuracy: 100.0 %\n"
     ]
    }
   ],
   "source": [
    "#gamma=0.01 dan C=10\n",
    "#untuk k=9\n",
    "kf = StratifiedKFold(n_splits=9, random_state=None, shuffle=False)\n",
    "val_acc_cv = []\n",
    "j = 0\n",
    "for train_index, test_index in kf.split(X,y):\n",
    "    j+=1\n",
    "    print(f\"Fold {j} :\")\n",
    "    print(\"\")\n",
    "    X_train,X_test = X[train_index],X[test_index]\n",
    "    y_train,y_test = y[train_index],y[test_index]\n",
    "    \n",
    "    # Create a SVC classifier using an RBF kernel\n",
    "    model = SVC(kernel='rbf', random_state=0, gamma=.01, C=10)\n",
    "    model.fit(X_train, y_train)\n",
    "    val_acc_cv.append(round(model.score(X_test, y_test), 4)*100)\n",
    "    print('Accuracy:',round(model.score(X_test, y_test), 4)*100, '%')"
   ]
  },
  {
   "cell_type": "code",
   "execution_count": 17,
   "metadata": {},
   "outputs": [
    {
     "name": "stdout",
     "output_type": "stream",
     "text": [
      "val_acc_cv : [100.0, 94.44, 100.0, 100.0, 94.44, 93.33, 100.0, 100.0, 100.0]\n",
      "mean_val_acc_cv : 98.02333333333334\n"
     ]
    }
   ],
   "source": [
    "print(f\"val_acc_cv : {val_acc_cv}\")\n",
    "print(f\"mean_val_acc_cv : {np.mean(val_acc_cv)}\")"
   ]
  },
  {
   "cell_type": "code",
   "execution_count": 18,
   "metadata": {},
   "outputs": [
    {
     "name": "stdout",
     "output_type": "stream",
     "text": [
      "Fold 1 :\n",
      "\n",
      "Accuracy: 100.0 %\n",
      "Fold 2 :\n",
      "\n",
      "Accuracy: 93.33 %\n",
      "Fold 3 :\n",
      "\n",
      "Accuracy: 100.0 %\n",
      "Fold 4 :\n",
      "\n",
      "Accuracy: 100.0 %\n",
      "Fold 5 :\n",
      "\n",
      "Accuracy: 100.0 %\n",
      "Fold 6 :\n",
      "\n",
      "Accuracy: 93.33 %\n",
      "Fold 7 :\n",
      "\n",
      "Accuracy: 93.33 %\n",
      "Fold 8 :\n",
      "\n",
      "Accuracy: 100.0 %\n",
      "Fold 9 :\n",
      "\n",
      "Accuracy: 100.0 %\n",
      "Fold 10 :\n",
      "\n",
      "Accuracy: 100.0 %\n"
     ]
    }
   ],
   "source": [
    "#gamma=0.01 dan C=10\n",
    "#untuk k=10\n",
    "kf = StratifiedKFold(n_splits=10, random_state=None, shuffle=False)\n",
    "val_acc_cv = []\n",
    "j = 0\n",
    "for train_index, test_index in kf.split(X,y):\n",
    "    j+=1\n",
    "    print(f\"Fold {j} :\")\n",
    "    print(\"\")\n",
    "    X_train,X_test = X[train_index],X[test_index]\n",
    "    y_train,y_test = y[train_index],y[test_index]\n",
    "    \n",
    "    # Create a SVC classifier using an RBF kernel\n",
    "    model = SVC(kernel='rbf', random_state=0, gamma=.01, C=10)\n",
    "    model.fit(X_train, y_train)\n",
    "    val_acc_cv.append(round(model.score(X_test, y_test), 4)*100)\n",
    "    print('Accuracy:',round(model.score(X_test, y_test), 4)*100, '%')"
   ]
  },
  {
   "cell_type": "code",
   "execution_count": 19,
   "metadata": {},
   "outputs": [
    {
     "name": "stdout",
     "output_type": "stream",
     "text": [
      "val_acc_cv : [100.0, 93.33, 100.0, 100.0, 100.0, 93.33, 93.33, 100.0, 100.0, 100.0]\n",
      "mean_val_acc_cv : 97.999\n"
     ]
    }
   ],
   "source": [
    "print(f\"val_acc_cv : {val_acc_cv}\")\n",
    "print(f\"mean_val_acc_cv : {np.mean(val_acc_cv)}\")"
   ]
  },
  {
   "cell_type": "code",
   "execution_count": null,
   "metadata": {},
   "outputs": [],
   "source": []
  }
 ],
 "metadata": {
  "kernelspec": {
   "display_name": "Python 3",
   "language": "python",
   "name": "python3"
  },
  "language_info": {
   "codemirror_mode": {
    "name": "ipython",
    "version": 3
   },
   "file_extension": ".py",
   "mimetype": "text/x-python",
   "name": "python",
   "nbconvert_exporter": "python",
   "pygments_lexer": "ipython3",
   "version": "3.6.8"
  }
 },
 "nbformat": 4,
 "nbformat_minor": 2
}
