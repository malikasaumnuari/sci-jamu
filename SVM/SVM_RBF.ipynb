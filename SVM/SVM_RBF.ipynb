{
 "cells": [
  {
   "cell_type": "code",
   "execution_count": 1,
   "metadata": {},
   "outputs": [],
   "source": [
    "import numpy as np\n",
    "import pandas\n",
    "from sklearn.model_selection import StratifiedKFold\n",
    "from sklearn import svm\n",
    "\n",
    "import matplotlib.pyplot as plt\n",
    "from matplotlib.colors import Normalize\n",
    "\n",
    "from sklearn.svm import SVC\n",
    "from sklearn.preprocessing import StandardScaler\n",
    "from sklearn.model_selection import StratifiedShuffleSplit\n",
    "from sklearn.model_selection import GridSearchCV"
   ]
  },
  {
   "cell_type": "code",
   "execution_count": 2,
   "metadata": {},
   "outputs": [
    {
     "data": {
      "text/plain": [
       "array([['J00021', 0, 0, ..., 0, 0, 0],\n",
       "       ['J00050', 0, 0, ..., 0, 0, 0],\n",
       "       ['J00113', 1, 0, ..., 0, 0, 0],\n",
       "       ...,\n",
       "       ['J03006', 0, 0, ..., 0, 0, 0],\n",
       "       ['J03017', 0, 0, ..., 0, 0, 0],\n",
       "       ['J03023', 0, 0, ..., 0, 0, 0]], dtype=object)"
      ]
     },
     "execution_count": 2,
     "metadata": {},
     "output_type": "execute_result"
    }
   ],
   "source": [
    "#masukin data1\n",
    "data1=pandas.read_csv('D:\\\\SKRIPSI\\\\data\\\\data_praproses\\\\jamu_herbs.csv', sep=',')\n",
    "data1.values"
   ]
  },
  {
   "cell_type": "code",
   "execution_count": 3,
   "metadata": {},
   "outputs": [
    {
     "data": {
      "text/plain": [
       "array([['J00021', 17],\n",
       "       ['J00050', 17],\n",
       "       ['J00113', 17],\n",
       "       ...,\n",
       "       ['J03006', 16],\n",
       "       ['J03017', 16],\n",
       "       ['J03023', 16]], dtype=object)"
      ]
     },
     "execution_count": 3,
     "metadata": {},
     "output_type": "execute_result"
    }
   ],
   "source": [
    "#masukin data2\n",
    "data2=pandas.read_csv('D:\\\\SKRIPSI\\\\data\\\\data_praproses\\\\jamu_class.csv', sep=',')\n",
    "data2.values"
   ]
  },
  {
   "cell_type": "code",
   "execution_count": 4,
   "metadata": {},
   "outputs": [],
   "source": [
    "data_1 = data1.drop('IDJamu',axis=1)\n",
    "data_2 = data2.drop('Jamu ID',axis=1)\n",
    "data_1['Kelas']=data_2['Class of Diseases']\n",
    "X = data_1.drop('Kelas', axis=1).values\n",
    "y = data_1['Kelas'].values"
   ]
  },
  {
   "cell_type": "code",
   "execution_count": 5,
   "metadata": {},
   "outputs": [
    {
     "name": "stderr",
     "output_type": "stream",
     "text": [
      "C:\\Users\\User\\Anaconda3\\lib\\site-packages\\sklearn\\model_selection\\_split.py:652: Warning: The least populated class in y has only 1 members, which is too few. The minimum number of members in any class cannot be less than n_splits=4.\n",
      "  % (min_groups, self.n_splits)), Warning)\n"
     ]
    },
    {
     "name": "stdout",
     "output_type": "stream",
     "text": [
      "Fold 1 :\n",
      "\n",
      "Accuracy: 52.76 %\n",
      "Fold 2 :\n",
      "\n",
      "Accuracy: 57.82000000000001 %\n",
      "Fold 3 :\n",
      "\n",
      "Accuracy: 60.129999999999995 %\n",
      "Fold 4 :\n",
      "\n",
      "Accuracy: 58.48 %\n"
     ]
    }
   ],
   "source": [
    "#gamma=0.01 dan C=10\n",
    "#untuk k=4\n",
    "kf = StratifiedKFold(n_splits=4, random_state=None, shuffle=False)\n",
    "val_acc_cv = []\n",
    "j = 0\n",
    "for train_index, test_index in kf.split(X,y):\n",
    "    j+=1\n",
    "    print(f\"Fold {j} :\")\n",
    "    print(\"\")\n",
    "    X_train,X_test = X[train_index],X[test_index]\n",
    "    y_train,y_test = y[train_index],y[test_index]\n",
    "    \n",
    "    # Create a SVC classifier using an RBF kernel\n",
    "    model = SVC(kernel='rbf', random_state=0, gamma=.01, C=10)\n",
    "    model.fit(X_train, y_train)\n",
    "    val_acc_cv.append(round(model.score(X_test, y_test), 4)*100)\n",
    "    print('Accuracy:',round(model.score(X_test, y_test), 4)*100, '%')"
   ]
  },
  {
   "cell_type": "code",
   "execution_count": 6,
   "metadata": {},
   "outputs": [
    {
     "name": "stdout",
     "output_type": "stream",
     "text": [
      "val_acc_cv : [52.76, 57.82000000000001, 60.129999999999995, 58.48]\n",
      "mean_val_acc_cv : 57.2975\n"
     ]
    }
   ],
   "source": [
    "print(f\"val_acc_cv : {val_acc_cv}\")\n",
    "print(f\"mean_val_acc_cv : {np.mean(val_acc_cv)}\")"
   ]
  },
  {
   "cell_type": "code",
   "execution_count": 7,
   "metadata": {},
   "outputs": [
    {
     "name": "stderr",
     "output_type": "stream",
     "text": [
      "C:\\Users\\User\\Anaconda3\\lib\\site-packages\\sklearn\\model_selection\\_split.py:652: Warning: The least populated class in y has only 1 members, which is too few. The minimum number of members in any class cannot be less than n_splits=5.\n",
      "  % (min_groups, self.n_splits)), Warning)\n"
     ]
    },
    {
     "name": "stdout",
     "output_type": "stream",
     "text": [
      "Fold 1 :\n",
      "\n",
      "Accuracy: 52.61 %\n",
      "Fold 2 :\n",
      "\n",
      "Accuracy: 57.4 %\n",
      "Fold 3 :\n",
      "\n",
      "Accuracy: 60.17 %\n",
      "Fold 4 :\n",
      "\n",
      "Accuracy: 60.029999999999994 %\n",
      "Fold 5 :\n",
      "\n",
      "Accuracy: 60.8 %\n"
     ]
    }
   ],
   "source": [
    "#gamma=0.01 dan C=10\n",
    "#untuk k=5\n",
    "kf = StratifiedKFold(n_splits=5, random_state=None, shuffle=False)\n",
    "val_acc_cv = []\n",
    "j = 0\n",
    "for train_index, test_index in kf.split(X,y):\n",
    "    j+=1\n",
    "    print(f\"Fold {j} :\")\n",
    "    print(\"\")\n",
    "    X_train,X_test = X[train_index],X[test_index]\n",
    "    y_train,y_test = y[train_index],y[test_index]\n",
    "    \n",
    "    # Create a SVC classifier using an RBF kernel\n",
    "    model = SVC(kernel='rbf', random_state=0, gamma=.01, C=10)\n",
    "    model.fit(X_train, y_train)\n",
    "    val_acc_cv.append(round(model.score(X_test, y_test), 4)*100)\n",
    "    print('Accuracy:',round(model.score(X_test, y_test), 4)*100, '%')"
   ]
  },
  {
   "cell_type": "code",
   "execution_count": 8,
   "metadata": {},
   "outputs": [
    {
     "name": "stdout",
     "output_type": "stream",
     "text": [
      "val_acc_cv : [52.61, 57.4, 60.17, 60.029999999999994, 60.8]\n",
      "mean_val_acc_cv : 58.202\n"
     ]
    }
   ],
   "source": [
    "print(f\"val_acc_cv : {val_acc_cv}\")\n",
    "print(f\"mean_val_acc_cv : {np.mean(val_acc_cv)}\")"
   ]
  },
  {
   "cell_type": "code",
   "execution_count": 9,
   "metadata": {},
   "outputs": [
    {
     "name": "stderr",
     "output_type": "stream",
     "text": [
      "C:\\Users\\User\\Anaconda3\\lib\\site-packages\\sklearn\\model_selection\\_split.py:652: Warning: The least populated class in y has only 1 members, which is too few. The minimum number of members in any class cannot be less than n_splits=6.\n",
      "  % (min_groups, self.n_splits)), Warning)\n"
     ]
    },
    {
     "name": "stdout",
     "output_type": "stream",
     "text": [
      "Fold 1 :\n",
      "\n",
      "Accuracy: 54.790000000000006 %\n",
      "Fold 2 :\n",
      "\n",
      "Accuracy: 53.36 %\n",
      "Fold 3 :\n",
      "\n",
      "Accuracy: 61.029999999999994 %\n",
      "Fold 4 :\n",
      "\n",
      "Accuracy: 61.4 %\n",
      "Fold 5 :\n",
      "\n",
      "Accuracy: 60.64000000000001 %\n",
      "Fold 6 :\n",
      "\n",
      "Accuracy: 59.36 %\n"
     ]
    }
   ],
   "source": [
    "#gamma=0.01 dan C=10\n",
    "#untuk k=6\n",
    "kf = StratifiedKFold(n_splits=6, random_state=None, shuffle=False)\n",
    "val_acc_cv = []\n",
    "j = 0\n",
    "for train_index, test_index in kf.split(X,y):\n",
    "    j+=1\n",
    "    print(f\"Fold {j} :\")\n",
    "    print(\"\")\n",
    "    X_train,X_test = X[train_index],X[test_index]\n",
    "    y_train,y_test = y[train_index],y[test_index]\n",
    "    \n",
    "    # Create a SVC classifier using an RBF kernel\n",
    "    model = SVC(kernel='rbf', random_state=0, gamma=.01, C=10)\n",
    "    model.fit(X_train, y_train)\n",
    "    val_acc_cv.append(round(model.score(X_test, y_test), 4)*100)\n",
    "    print('Accuracy:',round(model.score(X_test, y_test), 4)*100, '%')"
   ]
  },
  {
   "cell_type": "code",
   "execution_count": 10,
   "metadata": {},
   "outputs": [
    {
     "name": "stdout",
     "output_type": "stream",
     "text": [
      "val_acc_cv : [54.790000000000006, 53.36, 61.029999999999994, 61.4, 60.64000000000001, 59.36]\n",
      "mean_val_acc_cv : 58.43000000000001\n"
     ]
    }
   ],
   "source": [
    "print(f\"val_acc_cv : {val_acc_cv}\")\n",
    "print(f\"mean_val_acc_cv : {np.mean(val_acc_cv)}\")"
   ]
  },
  {
   "cell_type": "code",
   "execution_count": 11,
   "metadata": {},
   "outputs": [
    {
     "name": "stderr",
     "output_type": "stream",
     "text": [
      "C:\\Users\\User\\Anaconda3\\lib\\site-packages\\sklearn\\model_selection\\_split.py:652: Warning: The least populated class in y has only 1 members, which is too few. The minimum number of members in any class cannot be less than n_splits=7.\n",
      "  % (min_groups, self.n_splits)), Warning)\n"
     ]
    },
    {
     "name": "stdout",
     "output_type": "stream",
     "text": [
      "Fold 1 :\n",
      "\n",
      "Accuracy: 56.489999999999995 %\n",
      "Fold 2 :\n",
      "\n",
      "Accuracy: 50.46000000000001 %\n",
      "Fold 3 :\n",
      "\n",
      "Accuracy: 58.099999999999994 %\n",
      "Fold 4 :\n",
      "\n",
      "Accuracy: 61.95 %\n",
      "Fold 5 :\n",
      "\n",
      "Accuracy: 61.919999999999995 %\n",
      "Fold 6 :\n",
      "\n",
      "Accuracy: 61.650000000000006 %\n",
      "Fold 7 :\n",
      "\n",
      "Accuracy: 61.08 %\n"
     ]
    }
   ],
   "source": [
    "#gamma=0.01 dan C=10\n",
    "#untuk k=7\n",
    "kf = StratifiedKFold(n_splits=7, random_state=None, shuffle=False)\n",
    "val_acc_cv = []\n",
    "j = 0\n",
    "for train_index, test_index in kf.split(X,y):\n",
    "    j+=1\n",
    "    print(f\"Fold {j} :\")\n",
    "    print(\"\")\n",
    "    X_train,X_test = X[train_index],X[test_index]\n",
    "    y_train,y_test = y[train_index],y[test_index]\n",
    "    \n",
    "    # Create a SVC classifier using an RBF kernel\n",
    "    model = SVC(kernel='rbf', random_state=0, gamma=.01, C=10)\n",
    "    model.fit(X_train, y_train)\n",
    "    val_acc_cv.append(round(model.score(X_test, y_test), 4)*100)\n",
    "    print('Accuracy:',round(model.score(X_test, y_test), 4)*100, '%')"
   ]
  },
  {
   "cell_type": "code",
   "execution_count": 12,
   "metadata": {},
   "outputs": [
    {
     "name": "stdout",
     "output_type": "stream",
     "text": [
      "val_acc_cv : [56.489999999999995, 50.46000000000001, 58.099999999999994, 61.95, 61.919999999999995, 61.650000000000006, 61.08]\n",
      "mean_val_acc_cv : 58.807142857142864\n"
     ]
    }
   ],
   "source": [
    "print(f\"val_acc_cv : {val_acc_cv}\")\n",
    "print(f\"mean_val_acc_cv : {np.mean(val_acc_cv)}\")"
   ]
  },
  {
   "cell_type": "code",
   "execution_count": 13,
   "metadata": {},
   "outputs": [
    {
     "name": "stderr",
     "output_type": "stream",
     "text": [
      "C:\\Users\\User\\Anaconda3\\lib\\site-packages\\sklearn\\model_selection\\_split.py:652: Warning: The least populated class in y has only 1 members, which is too few. The minimum number of members in any class cannot be less than n_splits=8.\n",
      "  % (min_groups, self.n_splits)), Warning)\n"
     ]
    },
    {
     "name": "stdout",
     "output_type": "stream",
     "text": [
      "Fold 1 :\n",
      "\n",
      "Accuracy: 57.50999999999999 %\n",
      "Fold 2 :\n",
      "\n",
      "Accuracy: 49.6 %\n",
      "Fold 3 :\n",
      "\n",
      "Accuracy: 57.82000000000001 %\n",
      "Fold 4 :\n",
      "\n",
      "Accuracy: 60.64000000000001 %\n",
      "Fold 5 :\n",
      "\n",
      "Accuracy: 59.57 %\n",
      "Fold 6 :\n",
      "\n",
      "Accuracy: 64.53 %\n",
      "Fold 7 :\n",
      "\n",
      "Accuracy: 63.54 %\n",
      "Fold 8 :\n",
      "\n",
      "Accuracy: 59.79 %\n"
     ]
    }
   ],
   "source": [
    "#gamma=0.01 dan C=10\n",
    "#untuk k=8\n",
    "kf = StratifiedKFold(n_splits=8, random_state=None, shuffle=False)\n",
    "val_acc_cv = []\n",
    "j = 0\n",
    "for train_index, test_index in kf.split(X,y):\n",
    "    j+=1\n",
    "    print(f\"Fold {j} :\")\n",
    "    print(\"\")\n",
    "    X_train,X_test = X[train_index],X[test_index]\n",
    "    y_train,y_test = y[train_index],y[test_index]\n",
    "    \n",
    "    # Create a SVC classifier using an RBF kernel\n",
    "    model = SVC(kernel='rbf', random_state=0, gamma=.01, C=10)\n",
    "    model.fit(X_train, y_train)\n",
    "    val_acc_cv.append(round(model.score(X_test, y_test), 4)*100)\n",
    "    print('Accuracy:',round(model.score(X_test, y_test), 4)*100, '%')"
   ]
  },
  {
   "cell_type": "code",
   "execution_count": 14,
   "metadata": {},
   "outputs": [
    {
     "name": "stdout",
     "output_type": "stream",
     "text": [
      "val_acc_cv : [57.50999999999999, 49.6, 57.82000000000001, 60.64000000000001, 59.57, 64.53, 63.54, 59.79]\n",
      "mean_val_acc_cv : 59.125\n"
     ]
    }
   ],
   "source": [
    "print(f\"val_acc_cv : {val_acc_cv}\")\n",
    "print(f\"mean_val_acc_cv : {np.mean(val_acc_cv)}\")"
   ]
  },
  {
   "cell_type": "code",
   "execution_count": 15,
   "metadata": {},
   "outputs": [
    {
     "name": "stderr",
     "output_type": "stream",
     "text": [
      "C:\\Users\\User\\Anaconda3\\lib\\site-packages\\sklearn\\model_selection\\_split.py:652: Warning: The least populated class in y has only 1 members, which is too few. The minimum number of members in any class cannot be less than n_splits=9.\n",
      "  % (min_groups, self.n_splits)), Warning)\n"
     ]
    },
    {
     "name": "stdout",
     "output_type": "stream",
     "text": [
      "Fold 1 :\n",
      "\n",
      "Accuracy: 57.43000000000001 %\n",
      "Fold 2 :\n",
      "\n",
      "Accuracy: 49.120000000000005 %\n",
      "Fold 3 :\n",
      "\n",
      "Accuracy: 55.75 %\n",
      "Fold 4 :\n",
      "\n",
      "Accuracy: 61.61 %\n",
      "Fold 5 :\n",
      "\n",
      "Accuracy: 62.870000000000005 %\n",
      "Fold 6 :\n",
      "\n",
      "Accuracy: 61.45 %\n",
      "Fold 7 :\n",
      "\n",
      "Accuracy: 62.050000000000004 %\n",
      "Fold 8 :\n",
      "\n",
      "Accuracy: 63.94 %\n",
      "Fold 9 :\n",
      "\n",
      "Accuracy: 61.09 %\n"
     ]
    }
   ],
   "source": [
    "#gamma=0.01 dan C=10\n",
    "#untuk k=9\n",
    "kf = StratifiedKFold(n_splits=9, random_state=None, shuffle=False)\n",
    "val_acc_cv = []\n",
    "j = 0\n",
    "for train_index, test_index in kf.split(X,y):\n",
    "    j+=1\n",
    "    print(f\"Fold {j} :\")\n",
    "    print(\"\")\n",
    "    X_train,X_test = X[train_index],X[test_index]\n",
    "    y_train,y_test = y[train_index],y[test_index]\n",
    "    \n",
    "    # Create a SVC classifier using an RBF kernel\n",
    "    model = SVC(kernel='rbf', random_state=0, gamma=.01, C=10)\n",
    "    model.fit(X_train, y_train)\n",
    "    val_acc_cv.append(round(model.score(X_test, y_test), 4)*100)\n",
    "    print('Accuracy:',round(model.score(X_test, y_test), 4)*100, '%')"
   ]
  },
  {
   "cell_type": "code",
   "execution_count": 16,
   "metadata": {},
   "outputs": [
    {
     "name": "stdout",
     "output_type": "stream",
     "text": [
      "val_acc_cv : [57.43000000000001, 49.120000000000005, 55.75, 61.61, 62.870000000000005, 61.45, 62.050000000000004, 63.94, 61.09]\n",
      "mean_val_acc_cv : 59.478888888888896\n"
     ]
    }
   ],
   "source": [
    "print(f\"val_acc_cv : {val_acc_cv}\")\n",
    "print(f\"mean_val_acc_cv : {np.mean(val_acc_cv)}\")"
   ]
  },
  {
   "cell_type": "code",
   "execution_count": 17,
   "metadata": {},
   "outputs": [
    {
     "name": "stderr",
     "output_type": "stream",
     "text": [
      "C:\\Users\\User\\Anaconda3\\lib\\site-packages\\sklearn\\model_selection\\_split.py:652: Warning: The least populated class in y has only 1 members, which is too few. The minimum number of members in any class cannot be less than n_splits=10.\n",
      "  % (min_groups, self.n_splits)), Warning)\n"
     ]
    },
    {
     "name": "stdout",
     "output_type": "stream",
     "text": [
      "Fold 1 :\n",
      "\n",
      "Accuracy: 56.589999999999996 %\n",
      "Fold 2 :\n",
      "\n",
      "Accuracy: 48.05 %\n",
      "Fold 3 :\n",
      "\n",
      "Accuracy: 56.44 %\n",
      "Fold 4 :\n",
      "\n",
      "Accuracy: 57.48 %\n",
      "Fold 5 :\n",
      "\n",
      "Accuracy: 62.129999999999995 %\n",
      "Fold 6 :\n",
      "\n",
      "Accuracy: 59.47 %\n",
      "Fold 7 :\n",
      "\n",
      "Accuracy: 63.33 %\n",
      "Fold 8 :\n",
      "\n",
      "Accuracy: 57.91 %\n",
      "Fold 9 :\n",
      "\n",
      "Accuracy: 67.0 %\n",
      "Fold 10 :\n",
      "\n",
      "Accuracy: 60.47 %\n"
     ]
    }
   ],
   "source": [
    "#gamma=0.01 dan C=10\n",
    "#untuk k=10\n",
    "kf = StratifiedKFold(n_splits=10, random_state=None, shuffle=False)\n",
    "val_acc_cv = []\n",
    "j = 0\n",
    "for train_index, test_index in kf.split(X,y):\n",
    "    j+=1\n",
    "    print(f\"Fold {j} :\")\n",
    "    print(\"\")\n",
    "    X_train,X_test = X[train_index],X[test_index]\n",
    "    y_train,y_test = y[train_index],y[test_index]\n",
    "    \n",
    "    # Create a SVC classifier using an RBF kernel\n",
    "    model = SVC(kernel='rbf', random_state=0, gamma=.01, C=10)\n",
    "    model.fit(X_train, y_train)\n",
    "    val_acc_cv.append(round(model.score(X_test, y_test), 4)*100)\n",
    "    print('Accuracy:',round(model.score(X_test, y_test), 4)*100, '%')"
   ]
  },
  {
   "cell_type": "code",
   "execution_count": 18,
   "metadata": {},
   "outputs": [
    {
     "name": "stdout",
     "output_type": "stream",
     "text": [
      "val_acc_cv : [56.589999999999996, 48.05, 56.44, 57.48, 62.129999999999995, 59.47, 63.33, 57.91, 67.0, 60.47]\n",
      "mean_val_acc_cv : 58.887\n"
     ]
    }
   ],
   "source": [
    "print(f\"val_acc_cv : {val_acc_cv}\")\n",
    "print(f\"mean_val_acc_cv : {np.mean(val_acc_cv)}\")"
   ]
  },
  {
   "cell_type": "code",
   "execution_count": null,
   "metadata": {},
   "outputs": [],
   "source": []
  }
 ],
 "metadata": {
  "kernelspec": {
   "display_name": "Python 3",
   "language": "python",
   "name": "python3"
  },
  "language_info": {
   "codemirror_mode": {
    "name": "ipython",
    "version": 3
   },
   "file_extension": ".py",
   "mimetype": "text/x-python",
   "name": "python",
   "nbconvert_exporter": "python",
   "pygments_lexer": "ipython3",
   "version": "3.6.8"
  }
 },
 "nbformat": 4,
 "nbformat_minor": 2
}
