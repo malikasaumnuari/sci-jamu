{
 "cells": [
  {
   "cell_type": "code",
   "execution_count": 1,
   "metadata": {},
   "outputs": [],
   "source": [
    "import numpy as np\n",
    "import pandas\n",
    "from sklearn.model_selection import KFold\n",
    "from sklearn.ensemble import RandomForestClassifier\n",
    "from sklearn.model_selection import StratifiedKFold"
   ]
  },
  {
   "cell_type": "code",
   "execution_count": 2,
   "metadata": {},
   "outputs": [
    {
     "data": {
      "text/plain": [
       "array([['J00021', 0, 0, ..., 0, 0, 0],\n",
       "       ['J00050', 0, 0, ..., 0, 0, 0],\n",
       "       ['J00113', 1, 0, ..., 0, 0, 0],\n",
       "       ...,\n",
       "       ['J03006', 0, 0, ..., 0, 0, 0],\n",
       "       ['J03017', 0, 0, ..., 0, 0, 0],\n",
       "       ['J03023', 0, 0, ..., 0, 0, 0]], dtype=object)"
      ]
     },
     "execution_count": 2,
     "metadata": {},
     "output_type": "execute_result"
    }
   ],
   "source": [
    "#masukin data1\n",
    "data1=pandas.read_csv('D:\\\\SKRIPSI\\\\data\\\\data_praproses\\\\jamu_herbs.csv', sep=',')\n",
    "data1.values"
   ]
  },
  {
   "cell_type": "code",
   "execution_count": 3,
   "metadata": {},
   "outputs": [
    {
     "data": {
      "text/plain": [
       "array([['J00021', 17],\n",
       "       ['J00050', 17],\n",
       "       ['J00113', 17],\n",
       "       ...,\n",
       "       ['J03006', 16],\n",
       "       ['J03017', 16],\n",
       "       ['J03023', 16]], dtype=object)"
      ]
     },
     "execution_count": 3,
     "metadata": {},
     "output_type": "execute_result"
    }
   ],
   "source": [
    "#masukin data2\n",
    "data2=pandas.read_csv('D:\\\\SKRIPSI\\\\data\\\\data_praproses\\\\jamu_class.csv', sep=',')\n",
    "data2.values"
   ]
  },
  {
   "cell_type": "code",
   "execution_count": 4,
   "metadata": {},
   "outputs": [],
   "source": [
    "data_1 = data1.drop('IDJamu',axis=1)\n",
    "data_2 = data2.drop('Jamu ID',axis=1)\n",
    "data_1['Kelas']=data_2['Class of Diseases']\n",
    "data_temp  = data_1[data_1['Kelas'] != 5]\n",
    "X = data_temp.drop('Kelas', axis=1).values\n",
    "y = data_temp['Kelas'].values"
   ]
  },
  {
   "cell_type": "code",
   "execution_count": 6,
   "metadata": {},
   "outputs": [
    {
     "name": "stdout",
     "output_type": "stream",
     "text": [
      "Accuracy: 68.21000000000001 %\n"
     ]
    }
   ],
   "source": [
    "#untuk k=10\n",
    "from sklearn.model_selection import StratifiedShuffleSplit\n",
    "sss = StratifiedShuffleSplit(n_splits=1, test_size=0.1, random_state=0)\n",
    "val_acc_cv = []\n",
    "for train_index, test_index in sss.split(X,y):\n",
    "    X_train,X_test = X[train_index],X[test_index]\n",
    "    y_train,y_test = y[train_index],y[test_index]\n",
    "    \n",
    "    # Instantiate model\n",
    "    #Create a Gaussian Classifier\n",
    "    model = RandomForestClassifier(n_estimators=500)\n",
    "    model.fit(X_train, y_train)\n",
    "    \n",
    "    y_pred=model.predict(X_test)\n",
    "    \n",
    "    #Import scikit-learn metrics module for accuracy calculation\n",
    "    from sklearn import metrics\n",
    "    val_acc_cv.append(round(metrics.accuracy_score(y_test, y_pred), 4)*100)\n",
    "    print('Accuracy:',round(metrics.accuracy_score(y_test, y_pred), 4)*100, '%')\n",
    "    predict = np.argmax(X_test,axis=1)"
   ]
  },
  {
   "cell_type": "code",
   "execution_count": 19,
   "metadata": {},
   "outputs": [
    {
     "name": "stdout",
     "output_type": "stream",
     "text": [
      "val_acc_cv : [57.56, 49.35, 60.4, 62.46000000000001, 71.43, 58.47, 62.0, 60.61, 67.34, 64.53]\n",
      "mean_val_acc_cv : 61.415\n"
     ]
    }
   ],
   "source": [
    "print(f\"val_acc_cv : {val_acc_cv}\")\n",
    "print(f\"mean_val_acc_cv : {np.mean(val_acc_cv)}\")"
   ]
  },
  {
   "cell_type": "code",
   "execution_count": null,
   "metadata": {},
   "outputs": [],
   "source": []
  }
 ],
 "metadata": {
  "kernelspec": {
   "display_name": "Python 3",
   "language": "python",
   "name": "python3"
  },
  "language_info": {
   "codemirror_mode": {
    "name": "ipython",
    "version": 3
   },
   "file_extension": ".py",
   "mimetype": "text/x-python",
   "name": "python",
   "nbconvert_exporter": "python",
   "pygments_lexer": "ipython3",
   "version": "3.6.8"
  }
 },
 "nbformat": 4,
 "nbformat_minor": 2
}
