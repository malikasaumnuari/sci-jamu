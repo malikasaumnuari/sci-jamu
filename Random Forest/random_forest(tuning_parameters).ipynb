{
 "cells": [
  {
   "cell_type": "code",
   "execution_count": 1,
   "metadata": {},
   "outputs": [],
   "source": [
    "import numpy as np\n",
    "import pandas\n",
    "from sklearn.model_selection import KFold\n",
    "from sklearn.ensemble import RandomForestClassifier\n",
    "from sklearn.model_selection import StratifiedKFold"
   ]
  },
  {
   "cell_type": "code",
   "execution_count": 2,
   "metadata": {},
   "outputs": [
    {
     "data": {
      "text/plain": [
       "array([['J00021', 17],\n",
       "       ['J00050', 17],\n",
       "       ['J00113', 17],\n",
       "       ...,\n",
       "       ['J03006', 16],\n",
       "       ['J03017', 16],\n",
       "       ['J03023', 16]], dtype=object)"
      ]
     },
     "execution_count": 2,
     "metadata": {},
     "output_type": "execute_result"
    }
   ],
   "source": [
    "#masukin data1\n",
    "data1=pandas.read_csv('D:\\\\SKRIPSI\\\\data\\\\data_praproses\\\\jamu_herbs.csv', sep=',')\n",
    "data1.values\n",
    "#masukin data2\n",
    "data2=pandas.read_csv('D:\\\\SKRIPSI\\\\data\\\\data_praproses\\\\jamu_class.csv', sep=',')\n",
    "data2.values"
   ]
  },
  {
   "cell_type": "code",
   "execution_count": 3,
   "metadata": {},
   "outputs": [],
   "source": [
    "data_1 = data1.drop('IDJamu',axis=1)\n",
    "data_2 = data2.drop('Jamu ID',axis=1)\n",
    "data_1['Kelas']=data_2['Class of Diseases']\n",
    "X = data_1.drop('Kelas', axis=1).values\n",
    "y = data_1['Kelas'].values"
   ]
  },
  {
   "cell_type": "code",
   "execution_count": 11,
   "metadata": {},
   "outputs": [
    {
     "name": "stderr",
     "output_type": "stream",
     "text": [
      "C:\\Users\\User\\Anaconda3\\lib\\site-packages\\sklearn\\model_selection\\_split.py:652: Warning: The least populated class in y has only 1 members, which is too few. The minimum number of members in any class cannot be less than n_splits=4.\n",
      "  % (min_groups, self.n_splits)), Warning)\n"
     ]
    },
    {
     "name": "stdout",
     "output_type": "stream",
     "text": [
      "Fold 1 :\n",
      "\n",
      "Accuracy: 52.62 %\n",
      "Fold 2 :\n",
      "\n",
      "Accuracy: 62.6 %\n",
      "Fold 3 :\n",
      "\n",
      "Accuracy: 60.4 %\n",
      "Fold 4 :\n",
      "\n",
      "Accuracy: 60.480000000000004 %\n"
     ]
    }
   ],
   "source": [
    "#n_estimators=500, k=4\n",
    "kf = StratifiedKFold(n_splits=4, random_state=None, shuffle=False)\n",
    "val_acc_cv = []\n",
    "j = 0\n",
    "for train_index, test_index in kf.split(X,y):\n",
    "    j+=1\n",
    "    print(f\"Fold {j} :\")\n",
    "    print(\"\")\n",
    "    X_train,X_test = X[train_index],X[test_index]\n",
    "    y_train,y_test = y[train_index],y[test_index]\n",
    "    \n",
    "    # Instantiate model\n",
    "    #Create a Gaussian Classifier\n",
    "    model = RandomForestClassifier(n_estimators=500)\n",
    "    model.fit(X_train, y_train)\n",
    "    \n",
    "    y_pred=model.predict(X_test)\n",
    "    \n",
    "    #Import scikit-learn metrics module for accuracy calculation\n",
    "    from sklearn import metrics\n",
    "    val_acc_cv.append(round(metrics.accuracy_score(y_test, y_pred), 4)*100)\n",
    "    print('Accuracy:',round(metrics.accuracy_score(y_test, y_pred), 4)*100, '%')"
   ]
  },
  {
   "cell_type": "code",
   "execution_count": 12,
   "metadata": {},
   "outputs": [
    {
     "name": "stdout",
     "output_type": "stream",
     "text": [
      "val_acc_cv : [52.62, 62.6, 60.4, 60.480000000000004]\n",
      "mean_val_acc_cv : 59.025000000000006\n"
     ]
    }
   ],
   "source": [
    "print(f\"val_acc_cv : {val_acc_cv}\")\n",
    "print(f\"mean_val_acc_cv : {np.mean(val_acc_cv)}\")"
   ]
  },
  {
   "cell_type": "code",
   "execution_count": 13,
   "metadata": {},
   "outputs": [
    {
     "name": "stderr",
     "output_type": "stream",
     "text": [
      "C:\\Users\\User\\Anaconda3\\lib\\site-packages\\sklearn\\model_selection\\_split.py:652: Warning: The least populated class in y has only 1 members, which is too few. The minimum number of members in any class cannot be less than n_splits=4.\n",
      "  % (min_groups, self.n_splits)), Warning)\n"
     ]
    },
    {
     "name": "stdout",
     "output_type": "stream",
     "text": [
      "Fold 1 :\n",
      "\n",
      "Accuracy: 53.02 %\n",
      "Fold 2 :\n",
      "\n",
      "Accuracy: 63.129999999999995 %\n",
      "Fold 3 :\n",
      "\n",
      "Accuracy: 60.0 %\n",
      "Fold 4 :\n",
      "\n",
      "Accuracy: 59.809999999999995 %\n"
     ]
    }
   ],
   "source": [
    "#n_estimators=1000, k=4\n",
    "kf = StratifiedKFold(n_splits=4, random_state=None, shuffle=False)\n",
    "val_acc_cv = []\n",
    "j = 0\n",
    "for train_index, test_index in kf.split(X,y):\n",
    "    j+=1\n",
    "    print(f\"Fold {j} :\")\n",
    "    print(\"\")\n",
    "    X_train,X_test = X[train_index],X[test_index]\n",
    "    y_train,y_test = y[train_index],y[test_index]\n",
    "    \n",
    "    # Instantiate model\n",
    "    #Create a Gaussian Classifier\n",
    "    model = RandomForestClassifier(n_estimators=1000)\n",
    "    model.fit(X_train, y_train)\n",
    "    \n",
    "    y_pred=model.predict(X_test)\n",
    "    \n",
    "    #Import scikit-learn metrics module for accuracy calculation\n",
    "    from sklearn import metrics\n",
    "    val_acc_cv.append(round(metrics.accuracy_score(y_test, y_pred), 4)*100)\n",
    "    print('Accuracy:',round(metrics.accuracy_score(y_test, y_pred), 4)*100, '%')"
   ]
  },
  {
   "cell_type": "code",
   "execution_count": 14,
   "metadata": {},
   "outputs": [
    {
     "name": "stdout",
     "output_type": "stream",
     "text": [
      "val_acc_cv : [53.02, 63.129999999999995, 60.0, 59.809999999999995]\n",
      "mean_val_acc_cv : 58.99\n"
     ]
    }
   ],
   "source": [
    "print(f\"val_acc_cv : {val_acc_cv}\")\n",
    "print(f\"mean_val_acc_cv : {np.mean(val_acc_cv)}\")"
   ]
  },
  {
   "cell_type": "code",
   "execution_count": 15,
   "metadata": {},
   "outputs": [
    {
     "name": "stderr",
     "output_type": "stream",
     "text": [
      "C:\\Users\\User\\Anaconda3\\lib\\site-packages\\sklearn\\model_selection\\_split.py:652: Warning: The least populated class in y has only 1 members, which is too few. The minimum number of members in any class cannot be less than n_splits=4.\n",
      "  % (min_groups, self.n_splits)), Warning)\n"
     ]
    },
    {
     "name": "stdout",
     "output_type": "stream",
     "text": [
      "Fold 1 :\n",
      "\n",
      "Accuracy: 53.15 %\n",
      "Fold 2 :\n",
      "\n",
      "Accuracy: 63.260000000000005 %\n",
      "Fold 3 :\n",
      "\n",
      "Accuracy: 59.730000000000004 %\n",
      "Fold 4 :\n",
      "\n",
      "Accuracy: 59.68 %\n"
     ]
    }
   ],
   "source": [
    "#n_estimators=10000, k=4\n",
    "kf = StratifiedKFold(n_splits=4, random_state=None, shuffle=False)\n",
    "val_acc_cv = []\n",
    "j = 0\n",
    "for train_index, test_index in kf.split(X,y):\n",
    "    j+=1\n",
    "    print(f\"Fold {j} :\")\n",
    "    print(\"\")\n",
    "    X_train,X_test = X[train_index],X[test_index]\n",
    "    y_train,y_test = y[train_index],y[test_index]\n",
    "    \n",
    "    # Instantiate model\n",
    "    #Create a Gaussian Classifier\n",
    "    model = RandomForestClassifier(n_estimators=10000)\n",
    "    model.fit(X_train, y_train)\n",
    "    \n",
    "    y_pred=model.predict(X_test)\n",
    "    \n",
    "    #Import scikit-learn metrics module for accuracy calculation\n",
    "    from sklearn import metrics\n",
    "    val_acc_cv.append(round(metrics.accuracy_score(y_test, y_pred), 4)*100)\n",
    "    print('Accuracy:',round(metrics.accuracy_score(y_test, y_pred), 4)*100, '%')"
   ]
  },
  {
   "cell_type": "code",
   "execution_count": 16,
   "metadata": {},
   "outputs": [
    {
     "name": "stdout",
     "output_type": "stream",
     "text": [
      "val_acc_cv : [53.15, 63.260000000000005, 59.730000000000004, 59.68]\n",
      "mean_val_acc_cv : 58.955\n"
     ]
    }
   ],
   "source": [
    "print(f\"val_acc_cv : {val_acc_cv}\")\n",
    "print(f\"mean_val_acc_cv : {np.mean(val_acc_cv)}\")"
   ]
  },
  {
   "cell_type": "code",
   "execution_count": null,
   "metadata": {},
   "outputs": [],
   "source": []
  }
 ],
 "metadata": {
  "kernelspec": {
   "display_name": "Python 3",
   "language": "python",
   "name": "python3"
  },
  "language_info": {
   "codemirror_mode": {
    "name": "ipython",
    "version": 3
   },
   "file_extension": ".py",
   "mimetype": "text/x-python",
   "name": "python",
   "nbconvert_exporter": "python",
   "pygments_lexer": "ipython3",
   "version": "3.6.8"
  }
 },
 "nbformat": 4,
 "nbformat_minor": 2
}
