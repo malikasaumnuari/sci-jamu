{
 "cells": [
  {
   "cell_type": "code",
   "execution_count": 1,
   "metadata": {},
   "outputs": [],
   "source": [
    "import numpy as np\n",
    "import pandas\n",
    "from sklearn.model_selection import KFold\n",
    "from sklearn.ensemble import RandomForestClassifier\n",
    "from sklearn.model_selection import StratifiedKFold"
   ]
  },
  {
   "cell_type": "code",
   "execution_count": 2,
   "metadata": {},
   "outputs": [],
   "source": [
    "#masukin data1\n",
    "data1=pandas.read_csv('D:\\\\SKRIPSI\\\\data\\\\data\\\\data pakai\\\\data_herbs(!5).csv', sep=',', header=None)\n",
    "#masukin data2\n",
    "data2=pandas.read_csv('D:\\\\SKRIPSI\\\\data\\\\data\\\\data pakai\\\\data_class(!5).csv', sep=',', header=None)"
   ]
  },
  {
   "cell_type": "code",
   "execution_count": 3,
   "metadata": {},
   "outputs": [],
   "source": [
    "X = data1\n",
    "y = data2\n",
    "z = pandas.read_csv('D:\\\\SKRIPSI\\\\data\\\\data\\\\data pakai\\\\class(!5).csv', sep=',', header=None)"
   ]
  },
  {
   "cell_type": "code",
   "execution_count": 4,
   "metadata": {},
   "outputs": [
    {
     "name": "stderr",
     "output_type": "stream",
     "text": [
      "C:\\Users\\User\\Anaconda3\\lib\\site-packages\\sklearn\\model_selection\\_split.py:652: Warning: The least populated class in y has only 2 members, which is too few. The minimum number of members in any class cannot be less than n_splits=4.\n",
      "  % (min_groups, self.n_splits)), Warning)\n"
     ]
    },
    {
     "name": "stdout",
     "output_type": "stream",
     "text": [
      "Fold 1 :\n",
      "\n",
      "Accuracy: 37.32 %\n",
      "Fold 2 :\n",
      "\n",
      "Accuracy: 43.769999999999996 %\n",
      "Fold 3 :\n",
      "\n",
      "Accuracy: 44.800000000000004 %\n",
      "Fold 4 :\n",
      "\n",
      "Accuracy: 42.059999999999995 %\n"
     ]
    }
   ],
   "source": [
    "#untuk k=4, n_estimators=500\n",
    "kf = StratifiedKFold(n_splits=4, random_state=None, shuffle=False)\n",
    "val_acc_cv = []\n",
    "j = 0\n",
    "for train_index, test_index in kf.split(X,z):\n",
    "    j+=1\n",
    "    print(f\"Fold {j} :\")\n",
    "    print(\"\")\n",
    "    X_train,X_test = X.iloc[train_index,:],X.iloc[test_index,:]\n",
    "    y_train,y_test = y.iloc[train_index,:],y.iloc[test_index,:]\n",
    "    \n",
    "    # Instantiate model\n",
    "    #Create a Gaussian Classifier\n",
    "    model = RandomForestClassifier(n_estimators=500)\n",
    "    model.fit(X_train, y_train)\n",
    "    \n",
    "    y_pred=model.predict(X_test)\n",
    "    \n",
    "    #Import scikit-learn metrics module for accuracy calculation\n",
    "    from sklearn import metrics\n",
    "    val_acc_cv.append(round(metrics.accuracy_score(y_test, y_pred), 4)*100)\n",
    "    print('Accuracy:',round(metrics.accuracy_score(y_test, y_pred), 4)*100, '%')"
   ]
  },
  {
   "cell_type": "code",
   "execution_count": 5,
   "metadata": {},
   "outputs": [
    {
     "name": "stdout",
     "output_type": "stream",
     "text": [
      "val_acc_cv : [37.32, 43.769999999999996, 44.800000000000004, 42.059999999999995]\n",
      "mean_val_acc_cv : 41.987500000000004\n"
     ]
    }
   ],
   "source": [
    "print(f\"val_acc_cv : {val_acc_cv}\")\n",
    "print(f\"mean_val_acc_cv : {np.mean(val_acc_cv)}\")"
   ]
  },
  {
   "cell_type": "code",
   "execution_count": 8,
   "metadata": {},
   "outputs": [
    {
     "name": "stderr",
     "output_type": "stream",
     "text": [
      "C:\\Users\\User\\Anaconda3\\lib\\site-packages\\sklearn\\model_selection\\_split.py:652: Warning: The least populated class in y has only 2 members, which is too few. The minimum number of members in any class cannot be less than n_splits=5.\n",
      "  % (min_groups, self.n_splits)), Warning)\n"
     ]
    },
    {
     "name": "stdout",
     "output_type": "stream",
     "text": [
      "Fold 1 :\n",
      "\n",
      "Accuracy: 38.46 %\n",
      "Fold 2 :\n",
      "\n",
      "Accuracy: 41.78 %\n",
      "Fold 3 :\n",
      "\n",
      "Accuracy: 47.5 %\n",
      "Fold 4 :\n",
      "\n",
      "Accuracy: 43.81 %\n",
      "Fold 5 :\n",
      "\n",
      "Accuracy: 45.56 %\n"
     ]
    }
   ],
   "source": [
    "#untuk k=5, n_estimators=500\n",
    "kf = StratifiedKFold(n_splits=5, random_state=None, shuffle=False)\n",
    "val_acc_cv = []\n",
    "j = 0\n",
    "for train_index, test_index in kf.split(X,z):\n",
    "    j+=1\n",
    "    print(f\"Fold {j} :\")\n",
    "    print(\"\")\n",
    "    X_train,X_test = X.iloc[train_index,:],X.iloc[test_index,:]\n",
    "    y_train,y_test = y.iloc[train_index,:],y.iloc[test_index,:]\n",
    "    \n",
    "    # Instantiate model\n",
    "    #Create a Gaussian Classifier\n",
    "    model = RandomForestClassifier(n_estimators=500)\n",
    "    model.fit(X_train, y_train)\n",
    "    \n",
    "    y_pred=model.predict(X_test)\n",
    "    \n",
    "    #Import scikit-learn metrics module for accuracy calculation\n",
    "    from sklearn import metrics\n",
    "    val_acc_cv.append(round(metrics.accuracy_score(y_test, y_pred), 4)*100)\n",
    "    print('Accuracy:',round(metrics.accuracy_score(y_test, y_pred), 4)*100, '%')"
   ]
  },
  {
   "cell_type": "code",
   "execution_count": 9,
   "metadata": {},
   "outputs": [
    {
     "name": "stdout",
     "output_type": "stream",
     "text": [
      "val_acc_cv : [38.46, 41.78, 47.5, 43.81, 45.56]\n",
      "mean_val_acc_cv : 43.422000000000004\n"
     ]
    }
   ],
   "source": [
    "print(f\"val_acc_cv : {val_acc_cv}\")\n",
    "print(f\"mean_val_acc_cv : {np.mean(val_acc_cv)}\")"
   ]
  },
  {
   "cell_type": "code",
   "execution_count": 10,
   "metadata": {},
   "outputs": [
    {
     "name": "stderr",
     "output_type": "stream",
     "text": [
      "C:\\Users\\User\\Anaconda3\\lib\\site-packages\\sklearn\\model_selection\\_split.py:652: Warning: The least populated class in y has only 2 members, which is too few. The minimum number of members in any class cannot be less than n_splits=6.\n",
      "  % (min_groups, self.n_splits)), Warning)\n"
     ]
    },
    {
     "name": "stdout",
     "output_type": "stream",
     "text": [
      "Fold 1 :\n",
      "\n",
      "Accuracy: 40.39 %\n",
      "Fold 2 :\n",
      "\n",
      "Accuracy: 39.53 %\n",
      "Fold 3 :\n",
      "\n",
      "Accuracy: 47.32 %\n",
      "Fold 4 :\n",
      "\n",
      "Accuracy: 49.4 %\n",
      "Fold 5 :\n",
      "\n",
      "Accuracy: 46.39 %\n",
      "Fold 6 :\n",
      "\n",
      "Accuracy: 45.879999999999995 %\n"
     ]
    }
   ],
   "source": [
    "#untuk k=6, n_estimators=500\n",
    "kf = StratifiedKFold(n_splits=6, random_state=None, shuffle=False)\n",
    "val_acc_cv = []\n",
    "j = 0\n",
    "for train_index, test_index in kf.split(X,z):\n",
    "    j+=1\n",
    "    print(f\"Fold {j} :\")\n",
    "    print(\"\")\n",
    "    X_train,X_test = X.iloc[train_index,:],X.iloc[test_index,:]\n",
    "    y_train,y_test = y.iloc[train_index,:],y.iloc[test_index,:]\n",
    "    \n",
    "    # Instantiate model\n",
    "    #Create a Gaussian Classifier\n",
    "    model = RandomForestClassifier(n_estimators=500)\n",
    "    model.fit(X_train, y_train)\n",
    "    \n",
    "    y_pred=model.predict(X_test)\n",
    "    \n",
    "    #Import scikit-learn metrics module for accuracy calculation\n",
    "    from sklearn import metrics\n",
    "    val_acc_cv.append(round(metrics.accuracy_score(y_test, y_pred), 4)*100)\n",
    "    print('Accuracy:',round(metrics.accuracy_score(y_test, y_pred), 4)*100, '%')"
   ]
  },
  {
   "cell_type": "code",
   "execution_count": 11,
   "metadata": {},
   "outputs": [
    {
     "name": "stdout",
     "output_type": "stream",
     "text": [
      "val_acc_cv : [40.39, 39.53, 47.32, 49.4, 46.39, 45.879999999999995]\n",
      "mean_val_acc_cv : 44.818333333333335\n"
     ]
    }
   ],
   "source": [
    "print(f\"val_acc_cv : {val_acc_cv}\")\n",
    "print(f\"mean_val_acc_cv : {np.mean(val_acc_cv)}\")"
   ]
  },
  {
   "cell_type": "code",
   "execution_count": 12,
   "metadata": {},
   "outputs": [
    {
     "name": "stderr",
     "output_type": "stream",
     "text": [
      "C:\\Users\\User\\Anaconda3\\lib\\site-packages\\sklearn\\model_selection\\_split.py:652: Warning: The least populated class in y has only 2 members, which is too few. The minimum number of members in any class cannot be less than n_splits=7.\n",
      "  % (min_groups, self.n_splits)), Warning)\n"
     ]
    },
    {
     "name": "stdout",
     "output_type": "stream",
     "text": [
      "Fold 1 :\n",
      "\n",
      "Accuracy: 42.69 %\n",
      "Fold 2 :\n",
      "\n",
      "Accuracy: 36.47 %\n",
      "Fold 3 :\n",
      "\n",
      "Accuracy: 43.980000000000004 %\n",
      "Fold 4 :\n",
      "\n",
      "Accuracy: 48.49 %\n",
      "Fold 5 :\n",
      "\n",
      "Accuracy: 46.73 %\n",
      "Fold 6 :\n",
      "\n",
      "Accuracy: 47.53 %\n",
      "Fold 7 :\n",
      "\n",
      "Accuracy: 49.059999999999995 %\n"
     ]
    }
   ],
   "source": [
    "#untuk k=7, n_estimators=500\n",
    "kf = StratifiedKFold(n_splits=7, random_state=None, shuffle=False)\n",
    "val_acc_cv = []\n",
    "j = 0\n",
    "for train_index, test_index in kf.split(X,z):\n",
    "    j+=1\n",
    "    print(f\"Fold {j} :\")\n",
    "    print(\"\")\n",
    "    X_train,X_test = X.iloc[train_index,:],X.iloc[test_index,:]\n",
    "    y_train,y_test = y.iloc[train_index,:],y.iloc[test_index,:]\n",
    "    \n",
    "    # Instantiate model\n",
    "    #Create a Gaussian Classifier\n",
    "    model = RandomForestClassifier(n_estimators=500)\n",
    "    model.fit(X_train, y_train)\n",
    "    \n",
    "    y_pred=model.predict(X_test)\n",
    "    \n",
    "    #Import scikit-learn metrics module for accuracy calculation\n",
    "    from sklearn import metrics\n",
    "    val_acc_cv.append(round(metrics.accuracy_score(y_test, y_pred), 4)*100)\n",
    "    print('Accuracy:',round(metrics.accuracy_score(y_test, y_pred), 4)*100, '%')"
   ]
  },
  {
   "cell_type": "code",
   "execution_count": 13,
   "metadata": {},
   "outputs": [
    {
     "name": "stdout",
     "output_type": "stream",
     "text": [
      "val_acc_cv : [42.69, 36.47, 43.980000000000004, 48.49, 46.73, 47.53, 49.059999999999995]\n",
      "mean_val_acc_cv : 44.99285714285714\n"
     ]
    }
   ],
   "source": [
    "print(f\"val_acc_cv : {val_acc_cv}\")\n",
    "print(f\"mean_val_acc_cv : {np.mean(val_acc_cv)}\")"
   ]
  },
  {
   "cell_type": "code",
   "execution_count": 14,
   "metadata": {},
   "outputs": [
    {
     "name": "stderr",
     "output_type": "stream",
     "text": [
      "C:\\Users\\User\\Anaconda3\\lib\\site-packages\\sklearn\\model_selection\\_split.py:652: Warning: The least populated class in y has only 2 members, which is too few. The minimum number of members in any class cannot be less than n_splits=8.\n",
      "  % (min_groups, self.n_splits)), Warning)\n"
     ]
    },
    {
     "name": "stdout",
     "output_type": "stream",
     "text": [
      "Fold 1 :\n",
      "\n",
      "Accuracy: 43.9 %\n",
      "Fold 2 :\n",
      "\n",
      "Accuracy: 37.2 %\n",
      "Fold 3 :\n",
      "\n",
      "Accuracy: 39.79 %\n",
      "Fold 4 :\n",
      "\n",
      "Accuracy: 49.730000000000004 %\n",
      "Fold 5 :\n",
      "\n",
      "Accuracy: 46.28 %\n",
      "Fold 6 :\n",
      "\n",
      "Accuracy: 48.53 %\n",
      "Fold 7 :\n",
      "\n",
      "Accuracy: 45.04 %\n",
      "Fold 8 :\n",
      "\n",
      "Accuracy: 49.6 %\n"
     ]
    }
   ],
   "source": [
    "#untuk k=8, n_estimators=500\n",
    "kf = StratifiedKFold(n_splits=8, random_state=None, shuffle=False)\n",
    "val_acc_cv = []\n",
    "j = 0\n",
    "for train_index, test_index in kf.split(X,z):\n",
    "    j+=1\n",
    "    print(f\"Fold {j} :\")\n",
    "    print(\"\")\n",
    "    X_train,X_test = X.iloc[train_index,:],X.iloc[test_index,:]\n",
    "    y_train,y_test = y.iloc[train_index,:],y.iloc[test_index,:]\n",
    "    \n",
    "    # Instantiate model\n",
    "    #Create a Gaussian Classifier\n",
    "    model = RandomForestClassifier(n_estimators=500)\n",
    "    model.fit(X_train, y_train)\n",
    "    \n",
    "    y_pred=model.predict(X_test)\n",
    "    \n",
    "    #Import scikit-learn metrics module for accuracy calculation\n",
    "    from sklearn import metrics\n",
    "    val_acc_cv.append(round(metrics.accuracy_score(y_test, y_pred), 4)*100)\n",
    "    print('Accuracy:',round(metrics.accuracy_score(y_test, y_pred), 4)*100, '%')"
   ]
  },
  {
   "cell_type": "code",
   "execution_count": 15,
   "metadata": {},
   "outputs": [
    {
     "name": "stdout",
     "output_type": "stream",
     "text": [
      "val_acc_cv : [43.9, 37.2, 39.79, 49.730000000000004, 46.28, 48.53, 45.04, 49.6]\n",
      "mean_val_acc_cv : 45.00875\n"
     ]
    }
   ],
   "source": [
    "print(f\"val_acc_cv : {val_acc_cv}\")\n",
    "print(f\"mean_val_acc_cv : {np.mean(val_acc_cv)}\")"
   ]
  },
  {
   "cell_type": "code",
   "execution_count": 16,
   "metadata": {},
   "outputs": [
    {
     "name": "stderr",
     "output_type": "stream",
     "text": [
      "C:\\Users\\User\\Anaconda3\\lib\\site-packages\\sklearn\\model_selection\\_split.py:652: Warning: The least populated class in y has only 2 members, which is too few. The minimum number of members in any class cannot be less than n_splits=9.\n",
      "  % (min_groups, self.n_splits)), Warning)\n"
     ]
    },
    {
     "name": "stdout",
     "output_type": "stream",
     "text": [
      "Fold 1 :\n",
      "\n",
      "Accuracy: 41.81 %\n",
      "Fold 2 :\n",
      "\n",
      "Accuracy: 33.53 %\n",
      "Fold 3 :\n",
      "\n",
      "Accuracy: 41.589999999999996 %\n",
      "Fold 4 :\n",
      "\n",
      "Accuracy: 46.73 %\n",
      "Fold 5 :\n",
      "\n",
      "Accuracy: 49.4 %\n",
      "Fold 6 :\n",
      "\n",
      "Accuracy: 50.6 %\n",
      "Fold 7 :\n",
      "\n",
      "Accuracy: 46.39 %\n",
      "Fold 8 :\n",
      "\n",
      "Accuracy: 46.06 %\n",
      "Fold 9 :\n",
      "\n",
      "Accuracy: 46.2 %\n"
     ]
    }
   ],
   "source": [
    "#untuk k=9, n_estimators=500\n",
    "kf = StratifiedKFold(n_splits=9, random_state=None, shuffle=False)\n",
    "val_acc_cv = []\n",
    "j = 0\n",
    "for train_index, test_index in kf.split(X,z):\n",
    "    j+=1\n",
    "    print(f\"Fold {j} :\")\n",
    "    print(\"\")\n",
    "    X_train,X_test = X.iloc[train_index,:],X.iloc[test_index,:]\n",
    "    y_train,y_test = y.iloc[train_index,:],y.iloc[test_index,:]\n",
    "    \n",
    "    # Instantiate model\n",
    "    #Create a Gaussian Classifier\n",
    "    model = RandomForestClassifier(n_estimators=500)\n",
    "    model.fit(X_train, y_train)\n",
    "    \n",
    "    y_pred=model.predict(X_test)\n",
    "    \n",
    "    #Import scikit-learn metrics module for accuracy calculation\n",
    "    from sklearn import metrics\n",
    "    val_acc_cv.append(round(metrics.accuracy_score(y_test, y_pred), 4)*100)\n",
    "    print('Accuracy:',round(metrics.accuracy_score(y_test, y_pred), 4)*100, '%')"
   ]
  },
  {
   "cell_type": "code",
   "execution_count": 17,
   "metadata": {},
   "outputs": [
    {
     "name": "stdout",
     "output_type": "stream",
     "text": [
      "val_acc_cv : [41.81, 33.53, 41.589999999999996, 46.73, 49.4, 50.6, 46.39, 46.06, 46.2]\n",
      "mean_val_acc_cv : 44.70111111111111\n"
     ]
    }
   ],
   "source": [
    "print(f\"val_acc_cv : {val_acc_cv}\")\n",
    "print(f\"mean_val_acc_cv : {np.mean(val_acc_cv)}\")"
   ]
  },
  {
   "cell_type": "code",
   "execution_count": 18,
   "metadata": {},
   "outputs": [
    {
     "name": "stderr",
     "output_type": "stream",
     "text": [
      "C:\\Users\\User\\Anaconda3\\lib\\site-packages\\sklearn\\model_selection\\_split.py:652: Warning: The least populated class in y has only 2 members, which is too few. The minimum number of members in any class cannot be less than n_splits=10.\n",
      "  % (min_groups, self.n_splits)), Warning)\n"
     ]
    },
    {
     "name": "stdout",
     "output_type": "stream",
     "text": [
      "Fold 1 :\n",
      "\n",
      "Accuracy: 43.230000000000004 %\n",
      "Fold 2 :\n",
      "\n",
      "Accuracy: 37.34 %\n",
      "Fold 3 :\n",
      "\n",
      "Accuracy: 47.19 %\n",
      "Fold 4 :\n",
      "\n",
      "Accuracy: 41.199999999999996 %\n",
      "Fold 5 :\n",
      "\n",
      "Accuracy: 55.48 %\n",
      "Fold 6 :\n",
      "\n",
      "Accuracy: 46.18 %\n",
      "Fold 7 :\n",
      "\n",
      "Accuracy: 50.0 %\n",
      "Fold 8 :\n",
      "\n",
      "Accuracy: 42.089999999999996 %\n",
      "Fold 9 :\n",
      "\n",
      "Accuracy: 50.839999999999996 %\n",
      "Fold 10 :\n",
      "\n",
      "Accuracy: 47.97 %\n"
     ]
    }
   ],
   "source": [
    "#untuk k=10, n_estimators=500\n",
    "kf = StratifiedKFold(n_splits=10, random_state=None, shuffle=False)\n",
    "val_acc_cv = []\n",
    "j = 0\n",
    "for train_index, test_index in kf.split(X,z):\n",
    "    j+=1\n",
    "    print(f\"Fold {j} :\")\n",
    "    print(\"\")\n",
    "    X_train,X_test = X.iloc[train_index,:],X.iloc[test_index,:]\n",
    "    y_train,y_test = y.iloc[train_index,:],y.iloc[test_index,:]\n",
    "    \n",
    "    # Instantiate model\n",
    "    #Create a Gaussian Classifier\n",
    "    model = RandomForestClassifier(n_estimators=500)\n",
    "    model.fit(X_train, y_train)\n",
    "    \n",
    "    y_pred=model.predict(X_test)\n",
    "    \n",
    "    #Import scikit-learn metrics module for accuracy calculation\n",
    "    from sklearn import metrics\n",
    "    val_acc_cv.append(round(metrics.accuracy_score(y_test, y_pred), 4)*100)\n",
    "    print('Accuracy:',round(metrics.accuracy_score(y_test, y_pred), 4)*100, '%')"
   ]
  },
  {
   "cell_type": "code",
   "execution_count": 19,
   "metadata": {},
   "outputs": [
    {
     "name": "stdout",
     "output_type": "stream",
     "text": [
      "val_acc_cv : [43.230000000000004, 37.34, 47.19, 41.199999999999996, 55.48, 46.18, 50.0, 42.089999999999996, 50.839999999999996, 47.97]\n",
      "mean_val_acc_cv : 46.152\n"
     ]
    }
   ],
   "source": [
    "print(f\"val_acc_cv : {val_acc_cv}\")\n",
    "print(f\"mean_val_acc_cv : {np.mean(val_acc_cv)}\")"
   ]
  },
  {
   "cell_type": "code",
   "execution_count": 6,
   "metadata": {},
   "outputs": [
    {
     "name": "stderr",
     "output_type": "stream",
     "text": [
      "C:\\Users\\User\\Anaconda3\\lib\\site-packages\\sklearn\\model_selection\\_split.py:652: Warning: The least populated class in y has only 2 members, which is too few. The minimum number of members in any class cannot be less than n_splits=4.\n",
      "  % (min_groups, self.n_splits)), Warning)\n"
     ]
    },
    {
     "name": "stdout",
     "output_type": "stream",
     "text": [
      "Fold 1 :\n",
      "\n",
      "Accuracy: 37.32 %\n",
      "Fold 2 :\n",
      "\n",
      "Accuracy: 43.9 %\n",
      "Fold 3 :\n",
      "\n",
      "Accuracy: 44.4 %\n",
      "Fold 4 :\n",
      "\n",
      "Accuracy: 41.92 %\n"
     ]
    }
   ],
   "source": [
    "#untuk k=4, n_estimators=1000\n",
    "kf = StratifiedKFold(n_splits=4, random_state=None, shuffle=False)\n",
    "val_acc_cv = []\n",
    "j = 0\n",
    "for train_index, test_index in kf.split(X,z):\n",
    "    j+=1\n",
    "    print(f\"Fold {j} :\")\n",
    "    print(\"\")\n",
    "    X_train,X_test = X.iloc[train_index,:],X.iloc[test_index,:]\n",
    "    y_train,y_test = y.iloc[train_index,:],y.iloc[test_index,:]\n",
    "    \n",
    "    # Instantiate model\n",
    "    #Create a Gaussian Classifier\n",
    "    model = RandomForestClassifier(n_estimators=1000)\n",
    "    model.fit(X_train, y_train)\n",
    "    \n",
    "    y_pred=model.predict(X_test)\n",
    "    \n",
    "    #Import scikit-learn metrics module for accuracy calculation\n",
    "    from sklearn import metrics\n",
    "    val_acc_cv.append(round(metrics.accuracy_score(y_test, y_pred), 4)*100)\n",
    "    print('Accuracy:',round(metrics.accuracy_score(y_test, y_pred), 4)*100, '%')"
   ]
  },
  {
   "cell_type": "code",
   "execution_count": 7,
   "metadata": {},
   "outputs": [
    {
     "name": "stdout",
     "output_type": "stream",
     "text": [
      "val_acc_cv : [37.32, 43.9, 44.4, 41.92]\n",
      "mean_val_acc_cv : 41.885000000000005\n"
     ]
    }
   ],
   "source": [
    "print(f\"val_acc_cv : {val_acc_cv}\")\n",
    "print(f\"mean_val_acc_cv : {np.mean(val_acc_cv)}\")"
   ]
  },
  {
   "cell_type": "code",
   "execution_count": 20,
   "metadata": {},
   "outputs": [
    {
     "name": "stderr",
     "output_type": "stream",
     "text": [
      "C:\\Users\\User\\Anaconda3\\lib\\site-packages\\sklearn\\model_selection\\_split.py:652: Warning: The least populated class in y has only 2 members, which is too few. The minimum number of members in any class cannot be less than n_splits=5.\n",
      "  % (min_groups, self.n_splits)), Warning)\n"
     ]
    },
    {
     "name": "stdout",
     "output_type": "stream",
     "text": [
      "Fold 1 :\n",
      "\n",
      "Accuracy: 37.97 %\n",
      "Fold 2 :\n",
      "\n",
      "Accuracy: 41.120000000000005 %\n",
      "Fold 3 :\n",
      "\n",
      "Accuracy: 47.33 %\n",
      "Fold 4 :\n",
      "\n",
      "Accuracy: 44.31 %\n",
      "Fold 5 :\n",
      "\n",
      "Accuracy: 44.89 %\n"
     ]
    }
   ],
   "source": [
    "#untuk k=5, n_estimators=1000\n",
    "kf = StratifiedKFold(n_splits=5, random_state=None, shuffle=False)\n",
    "val_acc_cv = []\n",
    "j = 0\n",
    "for train_index, test_index in kf.split(X,z):\n",
    "    j+=1\n",
    "    print(f\"Fold {j} :\")\n",
    "    print(\"\")\n",
    "    X_train,X_test = X.iloc[train_index,:],X.iloc[test_index,:]\n",
    "    y_train,y_test = y.iloc[train_index,:],y.iloc[test_index,:]\n",
    "    \n",
    "    # Instantiate model\n",
    "    #Create a Gaussian Classifier\n",
    "    model = RandomForestClassifier(n_estimators=1000)\n",
    "    model.fit(X_train, y_train)\n",
    "    \n",
    "    y_pred=model.predict(X_test)\n",
    "    \n",
    "    #Import scikit-learn metrics module for accuracy calculation\n",
    "    from sklearn import metrics\n",
    "    val_acc_cv.append(round(metrics.accuracy_score(y_test, y_pred), 4)*100)\n",
    "    print('Accuracy:',round(metrics.accuracy_score(y_test, y_pred), 4)*100, '%')"
   ]
  },
  {
   "cell_type": "code",
   "execution_count": 21,
   "metadata": {},
   "outputs": [
    {
     "name": "stdout",
     "output_type": "stream",
     "text": [
      "val_acc_cv : [37.97, 41.120000000000005, 47.33, 44.31, 44.89]\n",
      "mean_val_acc_cv : 43.124\n"
     ]
    }
   ],
   "source": [
    "print(f\"val_acc_cv : {val_acc_cv}\")\n",
    "print(f\"mean_val_acc_cv : {np.mean(val_acc_cv)}\")"
   ]
  },
  {
   "cell_type": "code",
   "execution_count": 22,
   "metadata": {},
   "outputs": [
    {
     "name": "stderr",
     "output_type": "stream",
     "text": [
      "C:\\Users\\User\\Anaconda3\\lib\\site-packages\\sklearn\\model_selection\\_split.py:652: Warning: The least populated class in y has only 2 members, which is too few. The minimum number of members in any class cannot be less than n_splits=6.\n",
      "  % (min_groups, self.n_splits)), Warning)\n"
     ]
    },
    {
     "name": "stdout",
     "output_type": "stream",
     "text": [
      "Fold 1 :\n",
      "\n",
      "Accuracy: 38.629999999999995 %\n",
      "Fold 2 :\n",
      "\n",
      "Accuracy: 39.33 %\n",
      "Fold 3 :\n",
      "\n",
      "Accuracy: 47.12 %\n",
      "Fold 4 :\n",
      "\n",
      "Accuracy: 49.2 %\n",
      "Fold 5 :\n",
      "\n",
      "Accuracy: 45.58 %\n",
      "Fold 6 :\n",
      "\n",
      "Accuracy: 46.28 %\n"
     ]
    }
   ],
   "source": [
    "#untuk k=6, n_estimators=1000\n",
    "kf = StratifiedKFold(n_splits=6, random_state=None, shuffle=False)\n",
    "val_acc_cv = []\n",
    "j = 0\n",
    "for train_index, test_index in kf.split(X,z):\n",
    "    j+=1\n",
    "    print(f\"Fold {j} :\")\n",
    "    print(\"\")\n",
    "    X_train,X_test = X.iloc[train_index,:],X.iloc[test_index,:]\n",
    "    y_train,y_test = y.iloc[train_index,:],y.iloc[test_index,:]\n",
    "    \n",
    "    # Instantiate model\n",
    "    #Create a Gaussian Classifier\n",
    "    model = RandomForestClassifier(n_estimators=1000)\n",
    "    model.fit(X_train, y_train)\n",
    "    \n",
    "    y_pred=model.predict(X_test)\n",
    "    \n",
    "    #Import scikit-learn metrics module for accuracy calculation\n",
    "    from sklearn import metrics\n",
    "    val_acc_cv.append(round(metrics.accuracy_score(y_test, y_pred), 4)*100)\n",
    "    print('Accuracy:',round(metrics.accuracy_score(y_test, y_pred), 4)*100, '%')"
   ]
  },
  {
   "cell_type": "code",
   "execution_count": 23,
   "metadata": {},
   "outputs": [
    {
     "name": "stdout",
     "output_type": "stream",
     "text": [
      "val_acc_cv : [38.629999999999995, 39.33, 47.12, 49.2, 45.58, 46.28]\n",
      "mean_val_acc_cv : 44.35666666666666\n"
     ]
    }
   ],
   "source": [
    "print(f\"val_acc_cv : {val_acc_cv}\")\n",
    "print(f\"mean_val_acc_cv : {np.mean(val_acc_cv)}\")"
   ]
  },
  {
   "cell_type": "code",
   "execution_count": 30,
   "metadata": {},
   "outputs": [
    {
     "name": "stderr",
     "output_type": "stream",
     "text": [
      "C:\\Users\\User\\Anaconda3\\lib\\site-packages\\sklearn\\model_selection\\_split.py:652: Warning: The least populated class in y has only 2 members, which is too few. The minimum number of members in any class cannot be less than n_splits=7.\n",
      "  % (min_groups, self.n_splits)), Warning)\n"
     ]
    },
    {
     "name": "stdout",
     "output_type": "stream",
     "text": [
      "Fold 1 :\n",
      "\n",
      "Accuracy: 42.69 %\n",
      "Fold 2 :\n",
      "\n",
      "Accuracy: 36.93 %\n",
      "Fold 3 :\n",
      "\n",
      "Accuracy: 44.21 %\n",
      "Fold 4 :\n",
      "\n",
      "Accuracy: 47.56 %\n",
      "Fold 5 :\n",
      "\n",
      "Accuracy: 46.73 %\n",
      "Fold 6 :\n",
      "\n",
      "Accuracy: 45.879999999999995 %\n",
      "Fold 7 :\n",
      "\n",
      "Accuracy: 48.82 %\n"
     ]
    }
   ],
   "source": [
    "#untuk k=7, n_estimators=1000\n",
    "kf = StratifiedKFold(n_splits=7, random_state=None, shuffle=False)\n",
    "val_acc_cv = []\n",
    "j = 0\n",
    "for train_index, test_index in kf.split(X,z):\n",
    "    j+=1\n",
    "    print(f\"Fold {j} :\")\n",
    "    print(\"\")\n",
    "    X_train,X_test = X.iloc[train_index,:],X.iloc[test_index,:]\n",
    "    y_train,y_test = y.iloc[train_index,:],y.iloc[test_index,:]\n",
    "    \n",
    "    # Instantiate model\n",
    "    #Create a Gaussian Classifier\n",
    "    model = RandomForestClassifier(n_estimators=1000)\n",
    "    model.fit(X_train, y_train)\n",
    "    \n",
    "    y_pred=model.predict(X_test)\n",
    "    \n",
    "    #Import scikit-learn metrics module for accuracy calculation\n",
    "    from sklearn import metrics\n",
    "    val_acc_cv.append(round(metrics.accuracy_score(y_test, y_pred), 4)*100)\n",
    "    print('Accuracy:',round(metrics.accuracy_score(y_test, y_pred), 4)*100, '%')"
   ]
  },
  {
   "cell_type": "code",
   "execution_count": 31,
   "metadata": {},
   "outputs": [
    {
     "name": "stdout",
     "output_type": "stream",
     "text": [
      "val_acc_cv : [42.69, 36.93, 44.21, 47.56, 46.73, 45.879999999999995, 48.82]\n",
      "mean_val_acc_cv : 44.68857142857143\n"
     ]
    }
   ],
   "source": [
    "print(f\"val_acc_cv : {val_acc_cv}\")\n",
    "print(f\"mean_val_acc_cv : {np.mean(val_acc_cv)}\")"
   ]
  },
  {
   "cell_type": "code",
   "execution_count": 24,
   "metadata": {},
   "outputs": [
    {
     "name": "stderr",
     "output_type": "stream",
     "text": [
      "C:\\Users\\User\\Anaconda3\\lib\\site-packages\\sklearn\\model_selection\\_split.py:652: Warning: The least populated class in y has only 2 members, which is too few. The minimum number of members in any class cannot be less than n_splits=8.\n",
      "  % (min_groups, self.n_splits)), Warning)\n"
     ]
    },
    {
     "name": "stdout",
     "output_type": "stream",
     "text": [
      "Fold 1 :\n",
      "\n",
      "Accuracy: 43.120000000000005 %\n",
      "Fold 2 :\n",
      "\n",
      "Accuracy: 37.730000000000004 %\n",
      "Fold 3 :\n",
      "\n",
      "Accuracy: 40.050000000000004 %\n",
      "Fold 4 :\n",
      "\n",
      "Accuracy: 50.8 %\n",
      "Fold 5 :\n",
      "\n",
      "Accuracy: 46.54 %\n",
      "Fold 6 :\n",
      "\n",
      "Accuracy: 48.27 %\n",
      "Fold 7 :\n",
      "\n",
      "Accuracy: 46.11 %\n",
      "Fold 8 :\n",
      "\n",
      "Accuracy: 49.059999999999995 %\n"
     ]
    }
   ],
   "source": [
    "#untuk k=8, n_estimators=1000\n",
    "kf = StratifiedKFold(n_splits=8, random_state=None, shuffle=False)\n",
    "val_acc_cv = []\n",
    "j = 0\n",
    "for train_index, test_index in kf.split(X,z):\n",
    "    j+=1\n",
    "    print(f\"Fold {j} :\")\n",
    "    print(\"\")\n",
    "    X_train,X_test = X.iloc[train_index,:],X.iloc[test_index,:]\n",
    "    y_train,y_test = y.iloc[train_index,:],y.iloc[test_index,:]\n",
    "    \n",
    "    # Instantiate model\n",
    "    #Create a Gaussian Classifier\n",
    "    model = RandomForestClassifier(n_estimators=1000)\n",
    "    model.fit(X_train, y_train)\n",
    "    \n",
    "    y_pred=model.predict(X_test)\n",
    "    \n",
    "    #Import scikit-learn metrics module for accuracy calculation\n",
    "    from sklearn import metrics\n",
    "    val_acc_cv.append(round(metrics.accuracy_score(y_test, y_pred), 4)*100)\n",
    "    print('Accuracy:',round(metrics.accuracy_score(y_test, y_pred), 4)*100, '%')"
   ]
  },
  {
   "cell_type": "code",
   "execution_count": 25,
   "metadata": {},
   "outputs": [
    {
     "name": "stdout",
     "output_type": "stream",
     "text": [
      "val_acc_cv : [43.120000000000005, 37.730000000000004, 40.050000000000004, 50.8, 46.54, 48.27, 46.11, 49.059999999999995]\n",
      "mean_val_acc_cv : 45.209999999999994\n"
     ]
    }
   ],
   "source": [
    "print(f\"val_acc_cv : {val_acc_cv}\")\n",
    "print(f\"mean_val_acc_cv : {np.mean(val_acc_cv)}\")"
   ]
  },
  {
   "cell_type": "code",
   "execution_count": 26,
   "metadata": {},
   "outputs": [
    {
     "name": "stderr",
     "output_type": "stream",
     "text": [
      "C:\\Users\\User\\Anaconda3\\lib\\site-packages\\sklearn\\model_selection\\_split.py:652: Warning: The least populated class in y has only 2 members, which is too few. The minimum number of members in any class cannot be less than n_splits=9.\n",
      "  % (min_groups, self.n_splits)), Warning)\n"
     ]
    },
    {
     "name": "stdout",
     "output_type": "stream",
     "text": [
      "Fold 1 :\n",
      "\n",
      "Accuracy: 42.4 %\n",
      "Fold 2 :\n",
      "\n",
      "Accuracy: 34.410000000000004 %\n",
      "Fold 3 :\n",
      "\n",
      "Accuracy: 41.3 %\n",
      "Fold 4 :\n",
      "\n",
      "Accuracy: 48.209999999999994 %\n",
      "Fold 5 :\n",
      "\n",
      "Accuracy: 48.5 %\n",
      "Fold 6 :\n",
      "\n",
      "Accuracy: 50.0 %\n",
      "Fold 7 :\n",
      "\n",
      "Accuracy: 46.08 %\n",
      "Fold 8 :\n",
      "\n",
      "Accuracy: 47.27 %\n",
      "Fold 9 :\n",
      "\n",
      "Accuracy: 46.81 %\n"
     ]
    }
   ],
   "source": [
    "#untuk k=9, n_estimators=1000\n",
    "kf = StratifiedKFold(n_splits=9, random_state=None, shuffle=False)\n",
    "val_acc_cv = []\n",
    "j = 0\n",
    "for train_index, test_index in kf.split(X,z):\n",
    "    j+=1\n",
    "    print(f\"Fold {j} :\")\n",
    "    print(\"\")\n",
    "    X_train,X_test = X.iloc[train_index,:],X.iloc[test_index,:]\n",
    "    y_train,y_test = y.iloc[train_index,:],y.iloc[test_index,:]\n",
    "    \n",
    "    # Instantiate model\n",
    "    #Create a Gaussian Classifier\n",
    "    model = RandomForestClassifier(n_estimators=1000)\n",
    "    model.fit(X_train, y_train)\n",
    "    \n",
    "    y_pred=model.predict(X_test)\n",
    "    \n",
    "    #Import scikit-learn metrics module for accuracy calculation\n",
    "    from sklearn import metrics\n",
    "    val_acc_cv.append(round(metrics.accuracy_score(y_test, y_pred), 4)*100)\n",
    "    print('Accuracy:',round(metrics.accuracy_score(y_test, y_pred), 4)*100, '%')"
   ]
  },
  {
   "cell_type": "code",
   "execution_count": 27,
   "metadata": {},
   "outputs": [
    {
     "name": "stdout",
     "output_type": "stream",
     "text": [
      "val_acc_cv : [42.4, 34.410000000000004, 41.3, 48.209999999999994, 48.5, 50.0, 46.08, 47.27, 46.81]\n",
      "mean_val_acc_cv : 44.99777777777777\n"
     ]
    }
   ],
   "source": [
    "print(f\"val_acc_cv : {val_acc_cv}\")\n",
    "print(f\"mean_val_acc_cv : {np.mean(val_acc_cv)}\")"
   ]
  },
  {
   "cell_type": "code",
   "execution_count": 28,
   "metadata": {},
   "outputs": [
    {
     "name": "stdout",
     "output_type": "stream",
     "text": [
      "Fold 1 :\n",
      "\n"
     ]
    },
    {
     "name": "stderr",
     "output_type": "stream",
     "text": [
      "C:\\Users\\User\\Anaconda3\\lib\\site-packages\\sklearn\\model_selection\\_split.py:652: Warning: The least populated class in y has only 2 members, which is too few. The minimum number of members in any class cannot be less than n_splits=10.\n",
      "  % (min_groups, self.n_splits)), Warning)\n"
     ]
    },
    {
     "name": "stdout",
     "output_type": "stream",
     "text": [
      "Accuracy: 43.55 %\n",
      "Fold 2 :\n",
      "\n",
      "Accuracy: 36.69 %\n",
      "Fold 3 :\n",
      "\n",
      "Accuracy: 48.84 %\n",
      "Fold 4 :\n",
      "\n",
      "Accuracy: 40.86 %\n",
      "Fold 5 :\n",
      "\n",
      "Accuracy: 54.82 %\n",
      "Fold 6 :\n",
      "\n",
      "Accuracy: 46.839999999999996 %\n",
      "Fold 7 :\n",
      "\n",
      "Accuracy: 48.67 %\n",
      "Fold 8 :\n",
      "\n",
      "Accuracy: 43.1 %\n",
      "Fold 9 :\n",
      "\n",
      "Accuracy: 51.849999999999994 %\n",
      "Fold 10 :\n",
      "\n",
      "Accuracy: 48.309999999999995 %\n"
     ]
    }
   ],
   "source": [
    "#untuk k=10, n_estimators=1000\n",
    "kf = StratifiedKFold(n_splits=10, random_state=None, shuffle=False)\n",
    "val_acc_cv = []\n",
    "j = 0\n",
    "for train_index, test_index in kf.split(X,z):\n",
    "    j+=1\n",
    "    print(f\"Fold {j} :\")\n",
    "    print(\"\")\n",
    "    X_train,X_test = X.iloc[train_index,:],X.iloc[test_index,:]\n",
    "    y_train,y_test = y.iloc[train_index,:],y.iloc[test_index,:]\n",
    "    \n",
    "    # Instantiate model\n",
    "    #Create a Gaussian Classifier\n",
    "    model = RandomForestClassifier(n_estimators=1000)\n",
    "    model.fit(X_train, y_train)\n",
    "    \n",
    "    y_pred=model.predict(X_test)\n",
    "    \n",
    "    #Import scikit-learn metrics module for accuracy calculation\n",
    "    from sklearn import metrics\n",
    "    val_acc_cv.append(round(metrics.accuracy_score(y_test, y_pred), 4)*100)\n",
    "    print('Accuracy:',round(metrics.accuracy_score(y_test, y_pred), 4)*100, '%')"
   ]
  },
  {
   "cell_type": "code",
   "execution_count": 29,
   "metadata": {},
   "outputs": [
    {
     "name": "stdout",
     "output_type": "stream",
     "text": [
      "val_acc_cv : [43.55, 36.69, 48.84, 40.86, 54.82, 46.839999999999996, 48.67, 43.1, 51.849999999999994, 48.309999999999995]\n",
      "mean_val_acc_cv : 46.353\n"
     ]
    }
   ],
   "source": [
    "print(f\"val_acc_cv : {val_acc_cv}\")\n",
    "print(f\"mean_val_acc_cv : {np.mean(val_acc_cv)}\")"
   ]
  },
  {
   "cell_type": "code",
   "execution_count": null,
   "metadata": {},
   "outputs": [],
   "source": []
  }
 ],
 "metadata": {
  "kernelspec": {
   "display_name": "Python 3",
   "language": "python",
   "name": "python3"
  },
  "language_info": {
   "codemirror_mode": {
    "name": "ipython",
    "version": 3
   },
   "file_extension": ".py",
   "mimetype": "text/x-python",
   "name": "python",
   "nbconvert_exporter": "python",
   "pygments_lexer": "ipython3",
   "version": "3.6.8"
  }
 },
 "nbformat": 4,
 "nbformat_minor": 2
}
