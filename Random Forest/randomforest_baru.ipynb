{
 "cells": [
  {
   "cell_type": "code",
   "execution_count": 1,
   "metadata": {},
   "outputs": [],
   "source": [
    "import numpy as np\n",
    "import pandas\n",
    "from sklearn.model_selection import KFold\n",
    "from sklearn.ensemble import RandomForestClassifier\n",
    "from sklearn.model_selection import StratifiedKFold"
   ]
  },
  {
   "cell_type": "code",
   "execution_count": 2,
   "metadata": {},
   "outputs": [],
   "source": [
    "#masukin data1\n",
    "data1=pandas.read_csv('D:\\\\SKRIPSI\\\\data\\\\data_praproses\\\\jamu_herbs.csv', sep=',')\n",
    "#masukin data2\n",
    "data2=pandas.read_csv('D:\\\\SKRIPSI\\\\data\\\\data_praproses\\\\jamu_class.csv', sep=',')\n",
    "data_1 = data1.drop('IDJamu',axis=1)\n",
    "data_2 = data2.drop('Jamu ID',axis=1)\n",
    "data_1['Kelas']=data_2['Class of Diseases']\n",
    "X = data_1.drop('Kelas', axis=1).values\n",
    "y = data_1['Kelas'].values"
   ]
  },
  {
   "cell_type": "code",
   "execution_count": 4,
   "metadata": {},
   "outputs": [
    {
     "name": "stderr",
     "output_type": "stream",
     "text": [
      "C:\\Users\\User\\Anaconda3\\lib\\site-packages\\sklearn\\model_selection\\_split.py:652: Warning: The least populated class in y has only 1 members, which is too few. The minimum number of members in any class cannot be less than n_splits=4.\n",
      "  % (min_groups, self.n_splits)), Warning)\n"
     ]
    },
    {
     "name": "stdout",
     "output_type": "stream",
     "text": [
      "Fold 1 :\n",
      "\n",
      "Accuracy: 38.45 %\n",
      "Fold 2 :\n",
      "\n",
      "Accuracy: 40.19 %\n",
      "Fold 3 :\n",
      "\n",
      "Accuracy: 36.8 %\n",
      "Fold 4 :\n",
      "\n",
      "Accuracy: 40.99 %\n"
     ]
    }
   ],
   "source": [
    "#untuk k=4, n_estimators=500, max_depth=2, random_state=0\n",
    "kf = StratifiedKFold(n_splits=4, random_state=None, shuffle=False)\n",
    "val_acc_cv = []\n",
    "j = 0\n",
    "for train_index, test_index in kf.split(X,y):\n",
    "    j+=1\n",
    "    print(f\"Fold {j} :\")\n",
    "    print(\"\")\n",
    "    X_train,X_test = X[train_index],X[test_index]\n",
    "    y_train,y_test = y[train_index],y[test_index]\n",
    "    \n",
    "    # Instantiate model\n",
    "    #Create a Gaussian Classifier\n",
    "    model = RandomForestClassifier(n_estimators=500, max_depth=2, random_state=0)\n",
    "    model.fit(X_train, y_train)\n",
    "    \n",
    "    y_pred=model.predict(X_test)\n",
    "    \n",
    "    #Import scikit-learn metrics module for accuracy calculation\n",
    "    from sklearn import metrics\n",
    "    val_acc_cv.append(round(metrics.accuracy_score(y_test, y_pred), 4)*100)\n",
    "    print('Accuracy:',round(metrics.accuracy_score(y_test, y_pred), 4)*100, '%')"
   ]
  },
  {
   "cell_type": "code",
   "execution_count": 5,
   "metadata": {},
   "outputs": [
    {
     "name": "stdout",
     "output_type": "stream",
     "text": [
      "val_acc_cv : [38.45, 40.19, 36.8, 40.99]\n",
      "mean_val_acc_cv : 39.1075\n"
     ]
    }
   ],
   "source": [
    "print(f\"val_acc_cv : {val_acc_cv}\")\n",
    "print(f\"mean_val_acc_cv : {np.mean(val_acc_cv)}\")"
   ]
  },
  {
   "cell_type": "code",
   "execution_count": 6,
   "metadata": {},
   "outputs": [
    {
     "name": "stderr",
     "output_type": "stream",
     "text": [
      "C:\\Users\\User\\Anaconda3\\lib\\site-packages\\sklearn\\model_selection\\_split.py:652: Warning: The least populated class in y has only 1 members, which is too few. The minimum number of members in any class cannot be less than n_splits=5.\n",
      "  % (min_groups, self.n_splits)), Warning)\n"
     ]
    },
    {
     "name": "stdout",
     "output_type": "stream",
     "text": [
      "Fold 1 :\n",
      "\n",
      "Accuracy: 36.76 %\n",
      "Fold 2 :\n",
      "\n",
      "Accuracy: 39.31 %\n",
      "Fold 3 :\n",
      "\n",
      "Accuracy: 35.0 %\n",
      "Fold 4 :\n",
      "\n",
      "Accuracy: 38.800000000000004 %\n",
      "Fold 5 :\n",
      "\n",
      "Accuracy: 31.319999999999997 %\n"
     ]
    }
   ],
   "source": [
    "#untuk k=5, n_estimators=500, max_depth=2, random_state=0\n",
    "kf = StratifiedKFold(n_splits=5, random_state=None, shuffle=False)\n",
    "val_acc_cv = []\n",
    "j = 0\n",
    "for train_index, test_index in kf.split(X,y):\n",
    "    j+=1\n",
    "    print(f\"Fold {j} :\")\n",
    "    print(\"\")\n",
    "    X_train,X_test = X[train_index],X[test_index]\n",
    "    y_train,y_test = y[train_index],y[test_index]\n",
    "    \n",
    "    # Instantiate model\n",
    "    #Create a Gaussian Classifier\n",
    "    model = RandomForestClassifier(n_estimators=500, max_depth=2, random_state=0)\n",
    "    model.fit(X_train, y_train)\n",
    "    \n",
    "    y_pred=model.predict(X_test)\n",
    "    \n",
    "    #Import scikit-learn metrics module for accuracy calculation\n",
    "    from sklearn import metrics\n",
    "    val_acc_cv.append(round(metrics.accuracy_score(y_test, y_pred), 4)*100)\n",
    "    print('Accuracy:',round(metrics.accuracy_score(y_test, y_pred), 4)*100, '%')"
   ]
  },
  {
   "cell_type": "code",
   "execution_count": 7,
   "metadata": {},
   "outputs": [
    {
     "name": "stdout",
     "output_type": "stream",
     "text": [
      "val_acc_cv : [36.76, 39.31, 35.0, 38.800000000000004, 31.319999999999997]\n",
      "mean_val_acc_cv : 36.238\n"
     ]
    }
   ],
   "source": [
    "print(f\"val_acc_cv : {val_acc_cv}\")\n",
    "print(f\"mean_val_acc_cv : {np.mean(val_acc_cv)}\")"
   ]
  },
  {
   "cell_type": "code",
   "execution_count": 8,
   "metadata": {},
   "outputs": [
    {
     "name": "stderr",
     "output_type": "stream",
     "text": [
      "C:\\Users\\User\\Anaconda3\\lib\\site-packages\\sklearn\\model_selection\\_split.py:652: Warning: The least populated class in y has only 1 members, which is too few. The minimum number of members in any class cannot be less than n_splits=6.\n",
      "  % (min_groups, self.n_splits)), Warning)\n"
     ]
    },
    {
     "name": "stdout",
     "output_type": "stream",
     "text": [
      "Fold 1 :\n",
      "\n",
      "Accuracy: 38.16 %\n",
      "Fold 2 :\n",
      "\n",
      "Accuracy: 37.940000000000005 %\n",
      "Fold 3 :\n",
      "\n",
      "Accuracy: 40.949999999999996 %\n",
      "Fold 4 :\n",
      "\n",
      "Accuracy: 34.0 %\n",
      "Fold 5 :\n",
      "\n",
      "Accuracy: 34.54 %\n",
      "Fold 6 :\n",
      "\n",
      "Accuracy: 41.25 %\n"
     ]
    }
   ],
   "source": [
    "#untuk k=6, n_estimators=500, max_depth=2, random_state=0\n",
    "kf = StratifiedKFold(n_splits=6, random_state=None, shuffle=False)\n",
    "val_acc_cv = []\n",
    "j = 0\n",
    "for train_index, test_index in kf.split(X,y):\n",
    "    j+=1\n",
    "    print(f\"Fold {j} :\")\n",
    "    print(\"\")\n",
    "    X_train,X_test = X[train_index],X[test_index]\n",
    "    y_train,y_test = y[train_index],y[test_index]\n",
    "    \n",
    "    # Instantiate model\n",
    "    #Create a Gaussian Classifier\n",
    "    model = RandomForestClassifier(n_estimators=500, max_depth=2, random_state=0)\n",
    "    model.fit(X_train, y_train)\n",
    "    \n",
    "    y_pred=model.predict(X_test)\n",
    "    \n",
    "    #Import scikit-learn metrics module for accuracy calculation\n",
    "    from sklearn import metrics\n",
    "    val_acc_cv.append(round(metrics.accuracy_score(y_test, y_pred), 4)*100)\n",
    "    print('Accuracy:',round(metrics.accuracy_score(y_test, y_pred), 4)*100, '%')"
   ]
  },
  {
   "cell_type": "code",
   "execution_count": 9,
   "metadata": {},
   "outputs": [
    {
     "name": "stdout",
     "output_type": "stream",
     "text": [
      "val_acc_cv : [38.16, 37.940000000000005, 40.949999999999996, 34.0, 34.54, 41.25]\n",
      "mean_val_acc_cv : 37.806666666666665\n"
     ]
    }
   ],
   "source": [
    "print(f\"val_acc_cv : {val_acc_cv}\")\n",
    "print(f\"mean_val_acc_cv : {np.mean(val_acc_cv)}\")"
   ]
  },
  {
   "cell_type": "code",
   "execution_count": 10,
   "metadata": {},
   "outputs": [
    {
     "name": "stderr",
     "output_type": "stream",
     "text": [
      "C:\\Users\\User\\Anaconda3\\lib\\site-packages\\sklearn\\model_selection\\_split.py:652: Warning: The least populated class in y has only 1 members, which is too few. The minimum number of members in any class cannot be less than n_splits=7.\n",
      "  % (min_groups, self.n_splits)), Warning)\n"
     ]
    },
    {
     "name": "stdout",
     "output_type": "stream",
     "text": [
      "Fold 1 :\n",
      "\n",
      "Accuracy: 38.5 %\n",
      "Fold 2 :\n",
      "\n",
      "Accuracy: 38.76 %\n",
      "Fold 3 :\n",
      "\n",
      "Accuracy: 39.58 %\n",
      "Fold 4 :\n",
      "\n",
      "Accuracy: 37.35 %\n",
      "Fold 5 :\n",
      "\n",
      "Accuracy: 38.080000000000005 %\n",
      "Fold 6 :\n",
      "\n",
      "Accuracy: 35.29 %\n",
      "Fold 7 :\n",
      "\n",
      "Accuracy: 41.27 %\n"
     ]
    }
   ],
   "source": [
    "#untuk k=7, n_estimators=500, max_depth=2, random_state=0\n",
    "kf = StratifiedKFold(n_splits=7, random_state=None, shuffle=False)\n",
    "val_acc_cv = []\n",
    "j = 0\n",
    "for train_index, test_index in kf.split(X,y):\n",
    "    j+=1\n",
    "    print(f\"Fold {j} :\")\n",
    "    print(\"\")\n",
    "    X_train,X_test = X[train_index],X[test_index]\n",
    "    y_train,y_test = y[train_index],y[test_index]\n",
    "    \n",
    "    # Instantiate model\n",
    "    #Create a Gaussian Classifier\n",
    "    model = RandomForestClassifier(n_estimators=500, max_depth=2, random_state=0)\n",
    "    model.fit(X_train, y_train)\n",
    "    \n",
    "    y_pred=model.predict(X_test)\n",
    "    \n",
    "    #Import scikit-learn metrics module for accuracy calculation\n",
    "    from sklearn import metrics\n",
    "    val_acc_cv.append(round(metrics.accuracy_score(y_test, y_pred), 4)*100)\n",
    "    print('Accuracy:',round(metrics.accuracy_score(y_test, y_pred), 4)*100, '%')"
   ]
  },
  {
   "cell_type": "code",
   "execution_count": 11,
   "metadata": {},
   "outputs": [
    {
     "name": "stdout",
     "output_type": "stream",
     "text": [
      "val_acc_cv : [38.5, 38.76, 39.58, 37.35, 38.080000000000005, 35.29, 41.27]\n",
      "mean_val_acc_cv : 38.40428571428571\n"
     ]
    }
   ],
   "source": [
    "print(f\"val_acc_cv : {val_acc_cv}\")\n",
    "print(f\"mean_val_acc_cv : {np.mean(val_acc_cv)}\")"
   ]
  },
  {
   "cell_type": "code",
   "execution_count": 12,
   "metadata": {},
   "outputs": [
    {
     "name": "stderr",
     "output_type": "stream",
     "text": [
      "C:\\Users\\User\\Anaconda3\\lib\\site-packages\\sklearn\\model_selection\\_split.py:652: Warning: The least populated class in y has only 1 members, which is too few. The minimum number of members in any class cannot be less than n_splits=8.\n",
      "  % (min_groups, self.n_splits)), Warning)\n"
     ]
    },
    {
     "name": "stdout",
     "output_type": "stream",
     "text": [
      "Fold 1 :\n",
      "\n",
      "Accuracy: 39.379999999999995 %\n",
      "Fold 2 :\n",
      "\n",
      "Accuracy: 36.68 %\n",
      "Fold 3 :\n",
      "\n",
      "Accuracy: 39.519999999999996 %\n",
      "Fold 4 :\n",
      "\n",
      "Accuracy: 41.49 %\n",
      "Fold 5 :\n",
      "\n",
      "Accuracy: 36.7 %\n",
      "Fold 6 :\n",
      "\n",
      "Accuracy: 33.87 %\n",
      "Fold 7 :\n",
      "\n",
      "Accuracy: 40.75 %\n",
      "Fold 8 :\n",
      "\n",
      "Accuracy: 39.14 %\n"
     ]
    }
   ],
   "source": [
    "#untuk k=8, n_estimators=500, max_depth=2, random_state=0\n",
    "kf = StratifiedKFold(n_splits=8, random_state=None, shuffle=False)\n",
    "val_acc_cv = []\n",
    "j = 0\n",
    "for train_index, test_index in kf.split(X,y):\n",
    "    j+=1\n",
    "    print(f\"Fold {j} :\")\n",
    "    print(\"\")\n",
    "    X_train,X_test = X[train_index],X[test_index]\n",
    "    y_train,y_test = y[train_index],y[test_index]\n",
    "    \n",
    "    # Instantiate model\n",
    "    #Create a Gaussian Classifier\n",
    "    model = RandomForestClassifier(n_estimators=500, max_depth=2, random_state=0)\n",
    "    model.fit(X_train, y_train)\n",
    "    \n",
    "    y_pred=model.predict(X_test)\n",
    "    \n",
    "    #Import scikit-learn metrics module for accuracy calculation\n",
    "    from sklearn import metrics\n",
    "    val_acc_cv.append(round(metrics.accuracy_score(y_test, y_pred), 4)*100)\n",
    "    print('Accuracy:',round(metrics.accuracy_score(y_test, y_pred), 4)*100, '%')"
   ]
  },
  {
   "cell_type": "code",
   "execution_count": 13,
   "metadata": {},
   "outputs": [
    {
     "name": "stdout",
     "output_type": "stream",
     "text": [
      "val_acc_cv : [39.379999999999995, 36.68, 39.519999999999996, 41.49, 36.7, 33.87, 40.75, 39.14]\n",
      "mean_val_acc_cv : 38.44125\n"
     ]
    }
   ],
   "source": [
    "print(f\"val_acc_cv : {val_acc_cv}\")\n",
    "print(f\"mean_val_acc_cv : {np.mean(val_acc_cv)}\")"
   ]
  },
  {
   "cell_type": "code",
   "execution_count": 14,
   "metadata": {},
   "outputs": [
    {
     "name": "stderr",
     "output_type": "stream",
     "text": [
      "C:\\Users\\User\\Anaconda3\\lib\\site-packages\\sklearn\\model_selection\\_split.py:652: Warning: The least populated class in y has only 1 members, which is too few. The minimum number of members in any class cannot be less than n_splits=9.\n",
      "  % (min_groups, self.n_splits)), Warning)\n"
     ]
    },
    {
     "name": "stdout",
     "output_type": "stream",
     "text": [
      "Fold 1 :\n",
      "\n",
      "Accuracy: 39.07 %\n",
      "Fold 2 :\n",
      "\n",
      "Accuracy: 34.12 %\n",
      "Fold 3 :\n",
      "\n",
      "Accuracy: 39.53 %\n",
      "Fold 4 :\n",
      "\n",
      "Accuracy: 40.77 %\n",
      "Fold 5 :\n",
      "\n",
      "Accuracy: 33.53 %\n",
      "Fold 6 :\n",
      "\n",
      "Accuracy: 38.550000000000004 %\n",
      "Fold 7 :\n",
      "\n",
      "Accuracy: 34.94 %\n",
      "Fold 8 :\n",
      "\n",
      "Accuracy: 36.67 %\n",
      "Fold 9 :\n",
      "\n",
      "Accuracy: 42.55 %\n"
     ]
    }
   ],
   "source": [
    "#untuk k=9, n_estimators=500, max_depth=2, random_state=0\n",
    "kf = StratifiedKFold(n_splits=9, random_state=None, shuffle=False)\n",
    "val_acc_cv = []\n",
    "j = 0\n",
    "for train_index, test_index in kf.split(X,y):\n",
    "    j+=1\n",
    "    print(f\"Fold {j} :\")\n",
    "    print(\"\")\n",
    "    X_train,X_test = X[train_index],X[test_index]\n",
    "    y_train,y_test = y[train_index],y[test_index]\n",
    "    \n",
    "    # Instantiate model\n",
    "    #Create a Gaussian Classifier\n",
    "    model = RandomForestClassifier(n_estimators=500, max_depth=2, random_state=0)\n",
    "    model.fit(X_train, y_train)\n",
    "    \n",
    "    y_pred=model.predict(X_test)\n",
    "    \n",
    "    #Import scikit-learn metrics module for accuracy calculation\n",
    "    from sklearn import metrics\n",
    "    val_acc_cv.append(round(metrics.accuracy_score(y_test, y_pred), 4)*100)\n",
    "    print('Accuracy:',round(metrics.accuracy_score(y_test, y_pred), 4)*100, '%')"
   ]
  },
  {
   "cell_type": "code",
   "execution_count": 15,
   "metadata": {},
   "outputs": [
    {
     "name": "stdout",
     "output_type": "stream",
     "text": [
      "val_acc_cv : [39.07, 34.12, 39.53, 40.77, 33.53, 38.550000000000004, 34.94, 36.67, 42.55]\n",
      "mean_val_acc_cv : 37.74777777777778\n"
     ]
    }
   ],
   "source": [
    "print(f\"val_acc_cv : {val_acc_cv}\")\n",
    "print(f\"mean_val_acc_cv : {np.mean(val_acc_cv)}\")"
   ]
  },
  {
   "cell_type": "code",
   "execution_count": 16,
   "metadata": {},
   "outputs": [
    {
     "name": "stderr",
     "output_type": "stream",
     "text": [
      "C:\\Users\\User\\Anaconda3\\lib\\site-packages\\sklearn\\model_selection\\_split.py:652: Warning: The least populated class in y has only 1 members, which is too few. The minimum number of members in any class cannot be less than n_splits=10.\n",
      "  % (min_groups, self.n_splits)), Warning)\n"
     ]
    },
    {
     "name": "stdout",
     "output_type": "stream",
     "text": [
      "Fold 1 :\n",
      "\n",
      "Accuracy: 40.19 %\n",
      "Fold 2 :\n",
      "\n",
      "Accuracy: 34.089999999999996 %\n",
      "Fold 3 :\n",
      "\n",
      "Accuracy: 42.9 %\n",
      "Fold 4 :\n",
      "\n",
      "Accuracy: 38.21 %\n",
      "Fold 5 :\n",
      "\n",
      "Accuracy: 41.199999999999996 %\n",
      "Fold 6 :\n",
      "\n",
      "Accuracy: 35.88 %\n",
      "Fold 7 :\n",
      "\n",
      "Accuracy: 38.0 %\n",
      "Fold 8 :\n",
      "\n",
      "Accuracy: 39.39 %\n",
      "Fold 9 :\n",
      "\n",
      "Accuracy: 36.03 %\n",
      "Fold 10 :\n",
      "\n",
      "Accuracy: 41.89 %\n"
     ]
    }
   ],
   "source": [
    "#untuk k=10, n_estimators=500, max_depth=2, random_state=0\n",
    "kf = StratifiedKFold(n_splits=10, random_state=None, shuffle=False)\n",
    "val_acc_cv = []\n",
    "j = 0\n",
    "for train_index, test_index in kf.split(X,y):\n",
    "    j+=1\n",
    "    print(f\"Fold {j} :\")\n",
    "    print(\"\")\n",
    "    X_train,X_test = X[train_index],X[test_index]\n",
    "    y_train,y_test = y[train_index],y[test_index]\n",
    "    \n",
    "    # Instantiate model\n",
    "    #Create a Gaussian Classifier\n",
    "    model = RandomForestClassifier(n_estimators=500, max_depth=2, random_state=0)\n",
    "    model.fit(X_train, y_train)\n",
    "    \n",
    "    y_pred=model.predict(X_test)\n",
    "    \n",
    "    #Import scikit-learn metrics module for accuracy calculation\n",
    "    from sklearn import metrics\n",
    "    val_acc_cv.append(round(metrics.accuracy_score(y_test, y_pred), 4)*100)\n",
    "    print('Accuracy:',round(metrics.accuracy_score(y_test, y_pred), 4)*100, '%')"
   ]
  },
  {
   "cell_type": "code",
   "execution_count": 17,
   "metadata": {},
   "outputs": [
    {
     "name": "stdout",
     "output_type": "stream",
     "text": [
      "val_acc_cv : [40.19, 34.089999999999996, 42.9, 38.21, 41.199999999999996, 35.88, 38.0, 39.39, 36.03, 41.89]\n",
      "mean_val_acc_cv : 38.778\n"
     ]
    }
   ],
   "source": [
    "print(f\"val_acc_cv : {val_acc_cv}\")\n",
    "print(f\"mean_val_acc_cv : {np.mean(val_acc_cv)}\")"
   ]
  },
  {
   "cell_type": "code",
   "execution_count": 18,
   "metadata": {},
   "outputs": [],
   "source": [
    "#1000"
   ]
  },
  {
   "cell_type": "code",
   "execution_count": 19,
   "metadata": {},
   "outputs": [
    {
     "name": "stderr",
     "output_type": "stream",
     "text": [
      "C:\\Users\\User\\Anaconda3\\lib\\site-packages\\sklearn\\model_selection\\_split.py:652: Warning: The least populated class in y has only 1 members, which is too few. The minimum number of members in any class cannot be less than n_splits=4.\n",
      "  % (min_groups, self.n_splits)), Warning)\n"
     ]
    },
    {
     "name": "stdout",
     "output_type": "stream",
     "text": [
      "Fold 1 :\n",
      "\n",
      "Accuracy: 38.190000000000005 %\n",
      "Fold 2 :\n",
      "\n",
      "Accuracy: 40.72 %\n",
      "Fold 3 :\n",
      "\n",
      "Accuracy: 37.2 %\n",
      "Fold 4 :\n",
      "\n",
      "Accuracy: 39.25 %\n"
     ]
    }
   ],
   "source": [
    "#untuk k=4, n_estimators=1000, max_depth=2, random_state=0\n",
    "kf = StratifiedKFold(n_splits=4, random_state=None, shuffle=False)\n",
    "val_acc_cv = []\n",
    "j = 0\n",
    "for train_index, test_index in kf.split(X,y):\n",
    "    j+=1\n",
    "    print(f\"Fold {j} :\")\n",
    "    print(\"\")\n",
    "    X_train,X_test = X[train_index],X[test_index]\n",
    "    y_train,y_test = y[train_index],y[test_index]\n",
    "    \n",
    "    # Instantiate model\n",
    "    #Create a Gaussian Classifier\n",
    "    model = RandomForestClassifier(n_estimators=1000, max_depth=2, random_state=0)\n",
    "    model.fit(X_train, y_train)\n",
    "    \n",
    "    y_pred=model.predict(X_test)\n",
    "    \n",
    "    #Import scikit-learn metrics module for accuracy calculation\n",
    "    from sklearn import metrics\n",
    "    val_acc_cv.append(round(metrics.accuracy_score(y_test, y_pred), 4)*100)\n",
    "    print('Accuracy:',round(metrics.accuracy_score(y_test, y_pred), 4)*100, '%')"
   ]
  },
  {
   "cell_type": "code",
   "execution_count": 20,
   "metadata": {},
   "outputs": [
    {
     "name": "stdout",
     "output_type": "stream",
     "text": [
      "val_acc_cv : [38.190000000000005, 40.72, 37.2, 39.25]\n",
      "mean_val_acc_cv : 38.84\n"
     ]
    }
   ],
   "source": [
    "print(f\"val_acc_cv : {val_acc_cv}\")\n",
    "print(f\"mean_val_acc_cv : {np.mean(val_acc_cv)}\")"
   ]
  },
  {
   "cell_type": "code",
   "execution_count": 21,
   "metadata": {},
   "outputs": [
    {
     "name": "stderr",
     "output_type": "stream",
     "text": [
      "C:\\Users\\User\\Anaconda3\\lib\\site-packages\\sklearn\\model_selection\\_split.py:652: Warning: The least populated class in y has only 1 members, which is too few. The minimum number of members in any class cannot be less than n_splits=5.\n",
      "  % (min_groups, self.n_splits)), Warning)\n"
     ]
    },
    {
     "name": "stdout",
     "output_type": "stream",
     "text": [
      "Fold 1 :\n",
      "\n",
      "Accuracy: 36.6 %\n",
      "Fold 2 :\n",
      "\n",
      "Accuracy: 39.800000000000004 %\n",
      "Fold 3 :\n",
      "\n",
      "Accuracy: 33.83 %\n",
      "Fold 4 :\n",
      "\n",
      "Accuracy: 38.96 %\n",
      "Fold 5 :\n",
      "\n",
      "Accuracy: 31.990000000000002 %\n"
     ]
    }
   ],
   "source": [
    "#untuk k=5, n_estimators=1000, max_depth=2, random_state=0\n",
    "kf = StratifiedKFold(n_splits=5, random_state=None, shuffle=False)\n",
    "val_acc_cv = []\n",
    "j = 0\n",
    "for train_index, test_index in kf.split(X,y):\n",
    "    j+=1\n",
    "    print(f\"Fold {j} :\")\n",
    "    print(\"\")\n",
    "    X_train,X_test = X[train_index],X[test_index]\n",
    "    y_train,y_test = y[train_index],y[test_index]\n",
    "    \n",
    "    # Instantiate model\n",
    "    #Create a Gaussian Classifier\n",
    "    model = RandomForestClassifier(n_estimators=1000, max_depth=2, random_state=0)\n",
    "    model.fit(X_train, y_train)\n",
    "    \n",
    "    y_pred=model.predict(X_test)\n",
    "    \n",
    "    #Import scikit-learn metrics module for accuracy calculation\n",
    "    from sklearn import metrics\n",
    "    val_acc_cv.append(round(metrics.accuracy_score(y_test, y_pred), 4)*100)\n",
    "    print('Accuracy:',round(metrics.accuracy_score(y_test, y_pred), 4)*100, '%')"
   ]
  },
  {
   "cell_type": "code",
   "execution_count": 22,
   "metadata": {},
   "outputs": [
    {
     "name": "stdout",
     "output_type": "stream",
     "text": [
      "val_acc_cv : [36.6, 39.800000000000004, 33.83, 38.96, 31.990000000000002]\n",
      "mean_val_acc_cv : 36.236000000000004\n"
     ]
    }
   ],
   "source": [
    "print(f\"val_acc_cv : {val_acc_cv}\")\n",
    "print(f\"mean_val_acc_cv : {np.mean(val_acc_cv)}\")"
   ]
  },
  {
   "cell_type": "code",
   "execution_count": 23,
   "metadata": {},
   "outputs": [
    {
     "name": "stderr",
     "output_type": "stream",
     "text": [
      "C:\\Users\\User\\Anaconda3\\lib\\site-packages\\sklearn\\model_selection\\_split.py:652: Warning: The least populated class in y has only 1 members, which is too few. The minimum number of members in any class cannot be less than n_splits=6.\n",
      "  % (min_groups, self.n_splits)), Warning)\n"
     ]
    },
    {
     "name": "stdout",
     "output_type": "stream",
     "text": [
      "Fold 1 :\n",
      "\n",
      "Accuracy: 37.18 %\n",
      "Fold 2 :\n",
      "\n",
      "Accuracy: 38.34 %\n",
      "Fold 3 :\n",
      "\n",
      "Accuracy: 39.96 %\n",
      "Fold 4 :\n",
      "\n",
      "Accuracy: 36.0 %\n",
      "Fold 5 :\n",
      "\n",
      "Accuracy: 39.96 %\n",
      "Fold 6 :\n",
      "\n",
      "Accuracy: 38.23 %\n"
     ]
    }
   ],
   "source": [
    "#untuk k=6, n_estimators=1000, max_depth=2, random_state=0\n",
    "kf = StratifiedKFold(n_splits=6, random_state=None, shuffle=False)\n",
    "val_acc_cv = []\n",
    "j = 0\n",
    "for train_index, test_index in kf.split(X,y):\n",
    "    j+=1\n",
    "    print(f\"Fold {j} :\")\n",
    "    print(\"\")\n",
    "    X_train,X_test = X[train_index],X[test_index]\n",
    "    y_train,y_test = y[train_index],y[test_index]\n",
    "    \n",
    "    # Instantiate model\n",
    "    #Create a Gaussian Classifier\n",
    "    model = RandomForestClassifier(n_estimators=1000, max_depth=2, random_state=0)\n",
    "    model.fit(X_train, y_train)\n",
    "    \n",
    "    y_pred=model.predict(X_test)\n",
    "    \n",
    "    #Import scikit-learn metrics module for accuracy calculation\n",
    "    from sklearn import metrics\n",
    "    val_acc_cv.append(round(metrics.accuracy_score(y_test, y_pred), 4)*100)\n",
    "    print('Accuracy:',round(metrics.accuracy_score(y_test, y_pred), 4)*100, '%')"
   ]
  },
  {
   "cell_type": "code",
   "execution_count": 24,
   "metadata": {},
   "outputs": [
    {
     "name": "stdout",
     "output_type": "stream",
     "text": [
      "val_acc_cv : [37.18, 38.34, 39.96, 36.0, 39.96, 38.23]\n",
      "mean_val_acc_cv : 38.278333333333336\n"
     ]
    }
   ],
   "source": [
    "print(f\"val_acc_cv : {val_acc_cv}\")\n",
    "print(f\"mean_val_acc_cv : {np.mean(val_acc_cv)}\")"
   ]
  },
  {
   "cell_type": "code",
   "execution_count": 25,
   "metadata": {},
   "outputs": [
    {
     "name": "stderr",
     "output_type": "stream",
     "text": [
      "C:\\Users\\User\\Anaconda3\\lib\\site-packages\\sklearn\\model_selection\\_split.py:652: Warning: The least populated class in y has only 1 members, which is too few. The minimum number of members in any class cannot be less than n_splits=7.\n",
      "  % (min_groups, self.n_splits)), Warning)\n"
     ]
    },
    {
     "name": "stdout",
     "output_type": "stream",
     "text": [
      "Fold 1 :\n",
      "\n",
      "Accuracy: 39.18 %\n",
      "Fold 2 :\n",
      "\n",
      "Accuracy: 38.07 %\n",
      "Fold 3 :\n",
      "\n",
      "Accuracy: 40.050000000000004 %\n",
      "Fold 4 :\n",
      "\n",
      "Accuracy: 33.18 %\n",
      "Fold 5 :\n",
      "\n",
      "Accuracy: 37.62 %\n",
      "Fold 6 :\n",
      "\n",
      "Accuracy: 36.0 %\n",
      "Fold 7 :\n",
      "\n",
      "Accuracy: 41.27 %\n"
     ]
    }
   ],
   "source": [
    "#untuk k=7, n_estimators=1000, max_depth=2, random_state=0\n",
    "kf = StratifiedKFold(n_splits=7, random_state=None, shuffle=False)\n",
    "val_acc_cv = []\n",
    "j = 0\n",
    "for train_index, test_index in kf.split(X,y):\n",
    "    j+=1\n",
    "    print(f\"Fold {j} :\")\n",
    "    print(\"\")\n",
    "    X_train,X_test = X[train_index],X[test_index]\n",
    "    y_train,y_test = y[train_index],y[test_index]\n",
    "    \n",
    "    # Instantiate model\n",
    "    #Create a Gaussian Classifier\n",
    "    model = RandomForestClassifier(n_estimators=1000, max_depth=2, random_state=0)\n",
    "    model.fit(X_train, y_train)\n",
    "    \n",
    "    y_pred=model.predict(X_test)\n",
    "    \n",
    "    #Import scikit-learn metrics module for accuracy calculation\n",
    "    from sklearn import metrics\n",
    "    val_acc_cv.append(round(metrics.accuracy_score(y_test, y_pred), 4)*100)\n",
    "    print('Accuracy:',round(metrics.accuracy_score(y_test, y_pred), 4)*100, '%')"
   ]
  },
  {
   "cell_type": "code",
   "execution_count": 26,
   "metadata": {},
   "outputs": [
    {
     "name": "stdout",
     "output_type": "stream",
     "text": [
      "val_acc_cv : [39.18, 38.07, 40.050000000000004, 33.18, 37.62, 36.0, 41.27]\n",
      "mean_val_acc_cv : 37.910000000000004\n"
     ]
    }
   ],
   "source": [
    "print(f\"val_acc_cv : {val_acc_cv}\")\n",
    "print(f\"mean_val_acc_cv : {np.mean(val_acc_cv)}\")"
   ]
  },
  {
   "cell_type": "code",
   "execution_count": 27,
   "metadata": {},
   "outputs": [
    {
     "name": "stderr",
     "output_type": "stream",
     "text": [
      "C:\\Users\\User\\Anaconda3\\lib\\site-packages\\sklearn\\model_selection\\_split.py:652: Warning: The least populated class in y has only 1 members, which is too few. The minimum number of members in any class cannot be less than n_splits=8.\n",
      "  % (min_groups, self.n_splits)), Warning)\n"
     ]
    },
    {
     "name": "stdout",
     "output_type": "stream",
     "text": [
      "Fold 1 :\n",
      "\n",
      "Accuracy: 39.12 %\n",
      "Fold 2 :\n",
      "\n",
      "Accuracy: 36.94 %\n",
      "Fold 3 :\n",
      "\n",
      "Accuracy: 39.519999999999996 %\n",
      "Fold 4 :\n",
      "\n",
      "Accuracy: 37.5 %\n",
      "Fold 5 :\n",
      "\n",
      "Accuracy: 36.17 %\n",
      "Fold 6 :\n",
      "\n",
      "Accuracy: 38.93 %\n",
      "Fold 7 :\n",
      "\n",
      "Accuracy: 40.48 %\n",
      "Fold 8 :\n",
      "\n",
      "Accuracy: 39.14 %\n"
     ]
    }
   ],
   "source": [
    "#untuk k=8, n_estimators=1000, max_depth=2, random_state=0\n",
    "kf = StratifiedKFold(n_splits=8, random_state=None, shuffle=False)\n",
    "val_acc_cv = []\n",
    "j = 0\n",
    "for train_index, test_index in kf.split(X,y):\n",
    "    j+=1\n",
    "    print(f\"Fold {j} :\")\n",
    "    print(\"\")\n",
    "    X_train,X_test = X[train_index],X[test_index]\n",
    "    y_train,y_test = y[train_index],y[test_index]\n",
    "    \n",
    "    # Instantiate model\n",
    "    #Create a Gaussian Classifier\n",
    "    model = RandomForestClassifier(n_estimators=1000, max_depth=2, random_state=0)\n",
    "    model.fit(X_train, y_train)\n",
    "    \n",
    "    y_pred=model.predict(X_test)\n",
    "    \n",
    "    #Import scikit-learn metrics module for accuracy calculation\n",
    "    from sklearn import metrics\n",
    "    val_acc_cv.append(round(metrics.accuracy_score(y_test, y_pred), 4)*100)\n",
    "    print('Accuracy:',round(metrics.accuracy_score(y_test, y_pred), 4)*100, '%')"
   ]
  },
  {
   "cell_type": "code",
   "execution_count": 28,
   "metadata": {},
   "outputs": [
    {
     "name": "stdout",
     "output_type": "stream",
     "text": [
      "val_acc_cv : [39.12, 36.94, 39.519999999999996, 37.5, 36.17, 38.93, 40.48, 39.14]\n",
      "mean_val_acc_cv : 38.474999999999994\n"
     ]
    }
   ],
   "source": [
    "print(f\"val_acc_cv : {val_acc_cv}\")\n",
    "print(f\"mean_val_acc_cv : {np.mean(val_acc_cv)}\")"
   ]
  },
  {
   "cell_type": "code",
   "execution_count": 29,
   "metadata": {},
   "outputs": [
    {
     "name": "stderr",
     "output_type": "stream",
     "text": [
      "C:\\Users\\User\\Anaconda3\\lib\\site-packages\\sklearn\\model_selection\\_split.py:652: Warning: The least populated class in y has only 1 members, which is too few. The minimum number of members in any class cannot be less than n_splits=9.\n",
      "  % (min_groups, self.n_splits)), Warning)\n"
     ]
    },
    {
     "name": "stdout",
     "output_type": "stream",
     "text": [
      "Fold 1 :\n",
      "\n",
      "Accuracy: 39.07 %\n",
      "Fold 2 :\n",
      "\n",
      "Accuracy: 34.410000000000004 %\n",
      "Fold 3 :\n",
      "\n",
      "Accuracy: 39.82 %\n",
      "Fold 4 :\n",
      "\n",
      "Accuracy: 41.370000000000005 %\n",
      "Fold 5 :\n",
      "\n",
      "Accuracy: 33.53 %\n",
      "Fold 6 :\n",
      "\n",
      "Accuracy: 37.95 %\n",
      "Fold 7 :\n",
      "\n",
      "Accuracy: 39.76 %\n",
      "Fold 8 :\n",
      "\n",
      "Accuracy: 38.18 %\n",
      "Fold 9 :\n",
      "\n",
      "Accuracy: 42.25 %\n"
     ]
    }
   ],
   "source": [
    "#untuk k=9, n_estimators=1000, max_depth=2, random_state=0\n",
    "kf = StratifiedKFold(n_splits=9, random_state=None, shuffle=False)\n",
    "val_acc_cv = []\n",
    "j = 0\n",
    "for train_index, test_index in kf.split(X,y):\n",
    "    j+=1\n",
    "    print(f\"Fold {j} :\")\n",
    "    print(\"\")\n",
    "    X_train,X_test = X[train_index],X[test_index]\n",
    "    y_train,y_test = y[train_index],y[test_index]\n",
    "    \n",
    "    # Instantiate model\n",
    "    #Create a Gaussian Classifier\n",
    "    model = RandomForestClassifier(n_estimators=1000, max_depth=2, random_state=0)\n",
    "    model.fit(X_train, y_train)\n",
    "    \n",
    "    y_pred=model.predict(X_test)\n",
    "    \n",
    "    #Import scikit-learn metrics module for accuracy calculation\n",
    "    from sklearn import metrics\n",
    "    val_acc_cv.append(round(metrics.accuracy_score(y_test, y_pred), 4)*100)\n",
    "    print('Accuracy:',round(metrics.accuracy_score(y_test, y_pred), 4)*100, '%')"
   ]
  },
  {
   "cell_type": "code",
   "execution_count": 30,
   "metadata": {},
   "outputs": [
    {
     "name": "stdout",
     "output_type": "stream",
     "text": [
      "val_acc_cv : [39.07, 34.410000000000004, 39.82, 41.370000000000005, 33.53, 37.95, 39.76, 38.18, 42.25]\n",
      "mean_val_acc_cv : 38.48222222222223\n"
     ]
    }
   ],
   "source": [
    "print(f\"val_acc_cv : {val_acc_cv}\")\n",
    "print(f\"mean_val_acc_cv : {np.mean(val_acc_cv)}\")"
   ]
  },
  {
   "cell_type": "code",
   "execution_count": 31,
   "metadata": {},
   "outputs": [
    {
     "name": "stderr",
     "output_type": "stream",
     "text": [
      "C:\\Users\\User\\Anaconda3\\lib\\site-packages\\sklearn\\model_selection\\_split.py:652: Warning: The least populated class in y has only 1 members, which is too few. The minimum number of members in any class cannot be less than n_splits=10.\n",
      "  % (min_groups, self.n_splits)), Warning)\n"
     ]
    },
    {
     "name": "stdout",
     "output_type": "stream",
     "text": [
      "Fold 1 :\n",
      "\n",
      "Accuracy: 39.23 %\n",
      "Fold 2 :\n",
      "\n",
      "Accuracy: 33.44 %\n",
      "Fold 3 :\n",
      "\n",
      "Accuracy: 43.230000000000004 %\n",
      "Fold 4 :\n",
      "\n",
      "Accuracy: 38.21 %\n",
      "Fold 5 :\n",
      "\n",
      "Accuracy: 41.53 %\n",
      "Fold 6 :\n",
      "\n",
      "Accuracy: 36.21 %\n",
      "Fold 7 :\n",
      "\n",
      "Accuracy: 38.0 %\n",
      "Fold 8 :\n",
      "\n",
      "Accuracy: 39.39 %\n",
      "Fold 9 :\n",
      "\n",
      "Accuracy: 40.400000000000006 %\n",
      "Fold 10 :\n",
      "\n",
      "Accuracy: 41.89 %\n"
     ]
    }
   ],
   "source": [
    "#untuk k=10, n_estimators=1000, max_depth=2, random_state=0\n",
    "kf = StratifiedKFold(n_splits=10, random_state=None, shuffle=False)\n",
    "val_acc_cv = []\n",
    "j = 0\n",
    "for train_index, test_index in kf.split(X,y):\n",
    "    j+=1\n",
    "    print(f\"Fold {j} :\")\n",
    "    print(\"\")\n",
    "    X_train,X_test = X[train_index],X[test_index]\n",
    "    y_train,y_test = y[train_index],y[test_index]\n",
    "    \n",
    "    # Instantiate model\n",
    "    #Create a Gaussian Classifier\n",
    "    model = RandomForestClassifier(n_estimators=1000, max_depth=2, random_state=0)\n",
    "    model.fit(X_train, y_train)\n",
    "    \n",
    "    y_pred=model.predict(X_test)\n",
    "    \n",
    "    #Import scikit-learn metrics module for accuracy calculation\n",
    "    from sklearn import metrics\n",
    "    val_acc_cv.append(round(metrics.accuracy_score(y_test, y_pred), 4)*100)\n",
    "    print('Accuracy:',round(metrics.accuracy_score(y_test, y_pred), 4)*100, '%')"
   ]
  },
  {
   "cell_type": "code",
   "execution_count": 32,
   "metadata": {},
   "outputs": [
    {
     "name": "stdout",
     "output_type": "stream",
     "text": [
      "val_acc_cv : [39.23, 33.44, 43.230000000000004, 38.21, 41.53, 36.21, 38.0, 39.39, 40.400000000000006, 41.89]\n",
      "mean_val_acc_cv : 39.153\n"
     ]
    }
   ],
   "source": [
    "print(f\"val_acc_cv : {val_acc_cv}\")\n",
    "print(f\"mean_val_acc_cv : {np.mean(val_acc_cv)}\")"
   ]
  },
  {
   "cell_type": "code",
   "execution_count": 34,
   "metadata": {},
   "outputs": [
    {
     "name": "stdout",
     "output_type": "stream",
     "text": [
      "Fold 1 :\n",
      "\n"
     ]
    },
    {
     "name": "stderr",
     "output_type": "stream",
     "text": [
      "C:\\Users\\User\\Anaconda3\\lib\\site-packages\\sklearn\\model_selection\\_split.py:652: Warning: The least populated class in y has only 1 members, which is too few. The minimum number of members in any class cannot be less than n_splits=4.\n",
      "  % (min_groups, self.n_splits)), Warning)\n"
     ]
    },
    {
     "name": "stdout",
     "output_type": "stream",
     "text": [
      "Accuracy: 37.53 %\n",
      "Fold 2 :\n",
      "\n",
      "Accuracy: 40.45 %\n",
      "Fold 3 :\n",
      "\n",
      "Accuracy: 32.269999999999996 %\n",
      "Fold 4 :\n",
      "\n",
      "Accuracy: 34.18 %\n"
     ]
    }
   ],
   "source": [
    "#untuk k=4, n_estimators=10000, max_depth=2, random_state=0\n",
    "kf = StratifiedKFold(n_splits=4, random_state=None, shuffle=False)\n",
    "val_acc_cv = []\n",
    "j = 0\n",
    "for train_index, test_index in kf.split(X,y):\n",
    "    j+=1\n",
    "    print(f\"Fold {j} :\")\n",
    "    print(\"\")\n",
    "    X_train,X_test = X[train_index],X[test_index]\n",
    "    y_train,y_test = y[train_index],y[test_index]\n",
    "    \n",
    "    # Instantiate model\n",
    "    #Create a Gaussian Classifier\n",
    "    model = RandomForestClassifier(n_estimators=10000, max_depth=2, random_state=0)\n",
    "    model.fit(X_train, y_train)\n",
    "    \n",
    "    y_pred=model.predict(X_test)\n",
    "    \n",
    "    #Import scikit-learn metrics module for accuracy calculation\n",
    "    from sklearn import metrics\n",
    "    val_acc_cv.append(round(metrics.accuracy_score(y_test, y_pred), 4)*100)\n",
    "    print('Accuracy:',round(metrics.accuracy_score(y_test, y_pred), 4)*100, '%')"
   ]
  },
  {
   "cell_type": "code",
   "execution_count": 35,
   "metadata": {},
   "outputs": [
    {
     "name": "stdout",
     "output_type": "stream",
     "text": [
      "val_acc_cv : [37.53, 40.45, 32.269999999999996, 34.18]\n",
      "mean_val_acc_cv : 36.1075\n"
     ]
    }
   ],
   "source": [
    "print(f\"val_acc_cv : {val_acc_cv}\")\n",
    "print(f\"mean_val_acc_cv : {np.mean(val_acc_cv)}\")"
   ]
  },
  {
   "cell_type": "code",
   "execution_count": 36,
   "metadata": {},
   "outputs": [
    {
     "name": "stderr",
     "output_type": "stream",
     "text": [
      "C:\\Users\\User\\Anaconda3\\lib\\site-packages\\sklearn\\model_selection\\_split.py:652: Warning: The least populated class in y has only 1 members, which is too few. The minimum number of members in any class cannot be less than n_splits=5.\n",
      "  % (min_groups, self.n_splits)), Warning)\n"
     ]
    },
    {
     "name": "stdout",
     "output_type": "stream",
     "text": [
      "Fold 1 :\n",
      "\n",
      "Accuracy: 36.27 %\n",
      "Fold 2 :\n",
      "\n",
      "Accuracy: 40.129999999999995 %\n",
      "Fold 3 :\n",
      "\n",
      "Accuracy: 35.17 %\n",
      "Fold 4 :\n",
      "\n",
      "Accuracy: 38.629999999999995 %\n",
      "Fold 5 :\n",
      "\n",
      "Accuracy: 36.35 %\n"
     ]
    }
   ],
   "source": [
    "#untuk k=5, n_estimators=10000, max_depth=2, random_state=0\n",
    "kf = StratifiedKFold(n_splits=5, random_state=None, shuffle=False)\n",
    "val_acc_cv = []\n",
    "j = 0\n",
    "for train_index, test_index in kf.split(X,y):\n",
    "    j+=1\n",
    "    print(f\"Fold {j} :\")\n",
    "    print(\"\")\n",
    "    X_train,X_test = X[train_index],X[test_index]\n",
    "    y_train,y_test = y[train_index],y[test_index]\n",
    "    \n",
    "    # Instantiate model\n",
    "    #Create a Gaussian Classifier\n",
    "    model = RandomForestClassifier(n_estimators=10000, max_depth=2, random_state=0)\n",
    "    model.fit(X_train, y_train)\n",
    "    \n",
    "    y_pred=model.predict(X_test)\n",
    "    \n",
    "    #Import scikit-learn metrics module for accuracy calculation\n",
    "    from sklearn import metrics\n",
    "    val_acc_cv.append(round(metrics.accuracy_score(y_test, y_pred), 4)*100)\n",
    "    print('Accuracy:',round(metrics.accuracy_score(y_test, y_pred), 4)*100, '%')"
   ]
  },
  {
   "cell_type": "code",
   "execution_count": 37,
   "metadata": {},
   "outputs": [
    {
     "name": "stdout",
     "output_type": "stream",
     "text": [
      "val_acc_cv : [36.27, 40.129999999999995, 35.17, 38.629999999999995, 36.35]\n",
      "mean_val_acc_cv : 37.309999999999995\n"
     ]
    }
   ],
   "source": [
    "print(f\"val_acc_cv : {val_acc_cv}\")\n",
    "print(f\"mean_val_acc_cv : {np.mean(val_acc_cv)}\")"
   ]
  },
  {
   "cell_type": "code",
   "execution_count": 38,
   "metadata": {},
   "outputs": [
    {
     "name": "stderr",
     "output_type": "stream",
     "text": [
      "C:\\Users\\User\\Anaconda3\\lib\\site-packages\\sklearn\\model_selection\\_split.py:652: Warning: The least populated class in y has only 1 members, which is too few. The minimum number of members in any class cannot be less than n_splits=6.\n",
      "  % (min_groups, self.n_splits)), Warning)\n"
     ]
    },
    {
     "name": "stdout",
     "output_type": "stream",
     "text": [
      "Fold 1 :\n",
      "\n",
      "Accuracy: 37.38 %\n",
      "Fold 2 :\n",
      "\n",
      "Accuracy: 38.14 %\n",
      "Fold 3 :\n",
      "\n",
      "Accuracy: 39.96 %\n",
      "Fold 4 :\n",
      "\n",
      "Accuracy: 36.8 %\n",
      "Fold 5 :\n",
      "\n",
      "Accuracy: 35.54 %\n",
      "Fold 6 :\n",
      "\n",
      "Accuracy: 40.64 %\n"
     ]
    }
   ],
   "source": [
    "#untuk k=6, n_estimators=10000, max_depth=2, random_state=0\n",
    "kf = StratifiedKFold(n_splits=6, random_state=None, shuffle=False)\n",
    "val_acc_cv = []\n",
    "j = 0\n",
    "for train_index, test_index in kf.split(X,y):\n",
    "    j+=1\n",
    "    print(f\"Fold {j} :\")\n",
    "    print(\"\")\n",
    "    X_train,X_test = X[train_index],X[test_index]\n",
    "    y_train,y_test = y[train_index],y[test_index]\n",
    "    \n",
    "    # Instantiate model\n",
    "    #Create a Gaussian Classifier\n",
    "    model = RandomForestClassifier(n_estimators=10000, max_depth=2, random_state=0)\n",
    "    model.fit(X_train, y_train)\n",
    "    \n",
    "    y_pred=model.predict(X_test)\n",
    "    \n",
    "    #Import scikit-learn metrics module for accuracy calculation\n",
    "    from sklearn import metrics\n",
    "    val_acc_cv.append(round(metrics.accuracy_score(y_test, y_pred), 4)*100)\n",
    "    print('Accuracy:',round(metrics.accuracy_score(y_test, y_pred), 4)*100, '%')"
   ]
  },
  {
   "cell_type": "code",
   "execution_count": 39,
   "metadata": {},
   "outputs": [
    {
     "name": "stdout",
     "output_type": "stream",
     "text": [
      "val_acc_cv : [37.38, 38.14, 39.96, 36.8, 35.54, 40.64]\n",
      "mean_val_acc_cv : 38.076666666666675\n"
     ]
    }
   ],
   "source": [
    "print(f\"val_acc_cv : {val_acc_cv}\")\n",
    "print(f\"mean_val_acc_cv : {np.mean(val_acc_cv)}\")"
   ]
  },
  {
   "cell_type": "code",
   "execution_count": 40,
   "metadata": {},
   "outputs": [
    {
     "name": "stderr",
     "output_type": "stream",
     "text": [
      "C:\\Users\\User\\Anaconda3\\lib\\site-packages\\sklearn\\model_selection\\_split.py:652: Warning: The least populated class in y has only 1 members, which is too few. The minimum number of members in any class cannot be less than n_splits=7.\n",
      "  % (min_groups, self.n_splits)), Warning)\n"
     ]
    },
    {
     "name": "stdout",
     "output_type": "stream",
     "text": [
      "Fold 1 :\n",
      "\n",
      "Accuracy: 38.72 %\n",
      "Fold 2 :\n",
      "\n",
      "Accuracy: 38.53 %\n",
      "Fold 3 :\n",
      "\n",
      "Accuracy: 40.050000000000004 %\n",
      "Fold 4 :\n",
      "\n",
      "Accuracy: 35.27 %\n",
      "Fold 5 :\n",
      "\n",
      "Accuracy: 38.080000000000005 %\n",
      "Fold 6 :\n",
      "\n",
      "Accuracy: 40.239999999999995 %\n",
      "Fold 7 :\n",
      "\n",
      "Accuracy: 41.510000000000005 %\n"
     ]
    }
   ],
   "source": [
    "#untuk k=7, n_estimators=10000, max_depth=2, random_state=0\n",
    "kf = StratifiedKFold(n_splits=7, random_state=None, shuffle=False)\n",
    "val_acc_cv = []\n",
    "j = 0\n",
    "for train_index, test_index in kf.split(X,y):\n",
    "    j+=1\n",
    "    print(f\"Fold {j} :\")\n",
    "    print(\"\")\n",
    "    X_train,X_test = X[train_index],X[test_index]\n",
    "    y_train,y_test = y[train_index],y[test_index]\n",
    "    \n",
    "    # Instantiate model\n",
    "    #Create a Gaussian Classifier\n",
    "    model = RandomForestClassifier(n_estimators=10000, max_depth=2, random_state=0)\n",
    "    model.fit(X_train, y_train)\n",
    "    \n",
    "    y_pred=model.predict(X_test)\n",
    "    \n",
    "    #Import scikit-learn metrics module for accuracy calculation\n",
    "    from sklearn import metrics\n",
    "    val_acc_cv.append(round(metrics.accuracy_score(y_test, y_pred), 4)*100)\n",
    "    print('Accuracy:',round(metrics.accuracy_score(y_test, y_pred), 4)*100, '%')"
   ]
  },
  {
   "cell_type": "code",
   "execution_count": 41,
   "metadata": {},
   "outputs": [
    {
     "name": "stdout",
     "output_type": "stream",
     "text": [
      "val_acc_cv : [38.72, 38.53, 40.050000000000004, 35.27, 38.080000000000005, 40.239999999999995, 41.510000000000005]\n",
      "mean_val_acc_cv : 38.91428571428572\n"
     ]
    }
   ],
   "source": [
    "print(f\"val_acc_cv : {val_acc_cv}\")\n",
    "print(f\"mean_val_acc_cv : {np.mean(val_acc_cv)}\")"
   ]
  },
  {
   "cell_type": "code",
   "execution_count": 42,
   "metadata": {},
   "outputs": [
    {
     "name": "stdout",
     "output_type": "stream",
     "text": [
      "Fold 1 :\n",
      "\n"
     ]
    },
    {
     "name": "stderr",
     "output_type": "stream",
     "text": [
      "C:\\Users\\User\\Anaconda3\\lib\\site-packages\\sklearn\\model_selection\\_split.py:652: Warning: The least populated class in y has only 1 members, which is too few. The minimum number of members in any class cannot be less than n_splits=8.\n",
      "  % (min_groups, self.n_splits)), Warning)\n"
     ]
    },
    {
     "name": "stdout",
     "output_type": "stream",
     "text": [
      "Accuracy: 38.86 %\n",
      "Fold 2 :\n",
      "\n",
      "Accuracy: 36.68 %\n",
      "Fold 3 :\n",
      "\n",
      "Accuracy: 39.26 %\n",
      "Fold 4 :\n",
      "\n",
      "Accuracy: 41.22 %\n",
      "Fold 5 :\n",
      "\n",
      "Accuracy: 36.17 %\n",
      "Fold 6 :\n",
      "\n",
      "Accuracy: 39.2 %\n",
      "Fold 7 :\n",
      "\n",
      "Accuracy: 41.02 %\n",
      "Fold 8 :\n",
      "\n",
      "Accuracy: 41.29 %\n"
     ]
    }
   ],
   "source": [
    "#untuk k=8, n_estimators=10000, max_depth=2, random_state=0\n",
    "kf = StratifiedKFold(n_splits=8, random_state=None, shuffle=False)\n",
    "val_acc_cv = []\n",
    "j = 0\n",
    "for train_index, test_index in kf.split(X,y):\n",
    "    j+=1\n",
    "    print(f\"Fold {j} :\")\n",
    "    print(\"\")\n",
    "    X_train,X_test = X[train_index],X[test_index]\n",
    "    y_train,y_test = y[train_index],y[test_index]\n",
    "    \n",
    "    # Instantiate model\n",
    "    #Create a Gaussian Classifier\n",
    "    model = RandomForestClassifier(n_estimators=10000, max_depth=2, random_state=0)\n",
    "    model.fit(X_train, y_train)\n",
    "    \n",
    "    y_pred=model.predict(X_test)\n",
    "    \n",
    "    #Import scikit-learn metrics module for accuracy calculation\n",
    "    from sklearn import metrics\n",
    "    val_acc_cv.append(round(metrics.accuracy_score(y_test, y_pred), 4)*100)\n",
    "    print('Accuracy:',round(metrics.accuracy_score(y_test, y_pred), 4)*100, '%')"
   ]
  },
  {
   "cell_type": "code",
   "execution_count": 43,
   "metadata": {},
   "outputs": [
    {
     "name": "stdout",
     "output_type": "stream",
     "text": [
      "val_acc_cv : [38.86, 36.68, 39.26, 41.22, 36.17, 39.2, 41.02, 41.29]\n",
      "mean_val_acc_cv : 39.2125\n"
     ]
    }
   ],
   "source": [
    "print(f\"val_acc_cv : {val_acc_cv}\")\n",
    "print(f\"mean_val_acc_cv : {np.mean(val_acc_cv)}\")"
   ]
  },
  {
   "cell_type": "code",
   "execution_count": 44,
   "metadata": {},
   "outputs": [
    {
     "name": "stderr",
     "output_type": "stream",
     "text": [
      "C:\\Users\\User\\Anaconda3\\lib\\site-packages\\sklearn\\model_selection\\_split.py:652: Warning: The least populated class in y has only 1 members, which is too few. The minimum number of members in any class cannot be less than n_splits=9.\n",
      "  % (min_groups, self.n_splits)), Warning)\n"
     ]
    },
    {
     "name": "stdout",
     "output_type": "stream",
     "text": [
      "Fold 1 :\n",
      "\n",
      "Accuracy: 39.36 %\n",
      "Fold 2 :\n",
      "\n",
      "Accuracy: 33.82 %\n",
      "Fold 3 :\n",
      "\n",
      "Accuracy: 40.12 %\n",
      "Fold 4 :\n",
      "\n",
      "Accuracy: 41.07 %\n",
      "Fold 5 :\n",
      "\n",
      "Accuracy: 38.62 %\n",
      "Fold 6 :\n",
      "\n",
      "Accuracy: 38.25 %\n",
      "Fold 7 :\n",
      "\n",
      "Accuracy: 39.76 %\n",
      "Fold 8 :\n",
      "\n",
      "Accuracy: 40.300000000000004 %\n",
      "Fold 9 :\n",
      "\n",
      "Accuracy: 42.25 %\n"
     ]
    }
   ],
   "source": [
    "#untuk k=9, n_estimators=10000, max_depth=2, random_state=0\n",
    "kf = StratifiedKFold(n_splits=9, random_state=None, shuffle=False)\n",
    "val_acc_cv = []\n",
    "j = 0\n",
    "for train_index, test_index in kf.split(X,y):\n",
    "    j+=1\n",
    "    print(f\"Fold {j} :\")\n",
    "    print(\"\")\n",
    "    X_train,X_test = X[train_index],X[test_index]\n",
    "    y_train,y_test = y[train_index],y[test_index]\n",
    "    \n",
    "    # Instantiate model\n",
    "    #Create a Gaussian Classifier\n",
    "    model = RandomForestClassifier(n_estimators=10000, max_depth=2, random_state=0)\n",
    "    model.fit(X_train, y_train)\n",
    "    \n",
    "    y_pred=model.predict(X_test)\n",
    "    \n",
    "    #Import scikit-learn metrics module for accuracy calculation\n",
    "    from sklearn import metrics\n",
    "    val_acc_cv.append(round(metrics.accuracy_score(y_test, y_pred), 4)*100)\n",
    "    print('Accuracy:',round(metrics.accuracy_score(y_test, y_pred), 4)*100, '%')"
   ]
  },
  {
   "cell_type": "code",
   "execution_count": 45,
   "metadata": {},
   "outputs": [
    {
     "name": "stdout",
     "output_type": "stream",
     "text": [
      "val_acc_cv : [39.36, 33.82, 40.12, 41.07, 38.62, 38.25, 39.76, 40.300000000000004, 42.25]\n",
      "mean_val_acc_cv : 39.28333333333333\n"
     ]
    }
   ],
   "source": [
    "print(f\"val_acc_cv : {val_acc_cv}\")\n",
    "print(f\"mean_val_acc_cv : {np.mean(val_acc_cv)}\")"
   ]
  },
  {
   "cell_type": "code",
   "execution_count": 46,
   "metadata": {},
   "outputs": [
    {
     "name": "stderr",
     "output_type": "stream",
     "text": [
      "C:\\Users\\User\\Anaconda3\\lib\\site-packages\\sklearn\\model_selection\\_split.py:652: Warning: The least populated class in y has only 1 members, which is too few. The minimum number of members in any class cannot be less than n_splits=10.\n",
      "  % (min_groups, self.n_splits)), Warning)\n"
     ]
    },
    {
     "name": "stdout",
     "output_type": "stream",
     "text": [
      "Fold 1 :\n",
      "\n",
      "Accuracy: 39.23 %\n",
      "Fold 2 :\n",
      "\n",
      "Accuracy: 33.44 %\n",
      "Fold 3 :\n",
      "\n",
      "Accuracy: 42.57 %\n",
      "Fold 4 :\n",
      "\n",
      "Accuracy: 39.2 %\n",
      "Fold 5 :\n",
      "\n",
      "Accuracy: 41.53 %\n",
      "Fold 6 :\n",
      "\n",
      "Accuracy: 37.21 %\n",
      "Fold 7 :\n",
      "\n",
      "Accuracy: 38.33 %\n",
      "Fold 8 :\n",
      "\n",
      "Accuracy: 39.39 %\n",
      "Fold 9 :\n",
      "\n",
      "Accuracy: 40.400000000000006 %\n",
      "Fold 10 :\n",
      "\n",
      "Accuracy: 41.89 %\n"
     ]
    }
   ],
   "source": [
    "#untuk k=10, n_estimators=10000, max_depth=2, random_state=0\n",
    "kf = StratifiedKFold(n_splits=10, random_state=None, shuffle=False)\n",
    "val_acc_cv = []\n",
    "j = 0\n",
    "for train_index, test_index in kf.split(X,y):\n",
    "    j+=1\n",
    "    print(f\"Fold {j} :\")\n",
    "    print(\"\")\n",
    "    X_train,X_test = X[train_index],X[test_index]\n",
    "    y_train,y_test = y[train_index],y[test_index]\n",
    "    \n",
    "    # Instantiate model\n",
    "    #Create a Gaussian Classifier\n",
    "    model = RandomForestClassifier(n_estimators=10000, max_depth=2, random_state=0)\n",
    "    model.fit(X_train, y_train)\n",
    "    \n",
    "    y_pred=model.predict(X_test)\n",
    "    \n",
    "    #Import scikit-learn metrics module for accuracy calculation\n",
    "    from sklearn import metrics\n",
    "    val_acc_cv.append(round(metrics.accuracy_score(y_test, y_pred), 4)*100)\n",
    "    print('Accuracy:',round(metrics.accuracy_score(y_test, y_pred), 4)*100, '%')"
   ]
  },
  {
   "cell_type": "code",
   "execution_count": 47,
   "metadata": {},
   "outputs": [
    {
     "name": "stdout",
     "output_type": "stream",
     "text": [
      "val_acc_cv : [39.23, 33.44, 42.57, 39.2, 41.53, 37.21, 38.33, 39.39, 40.400000000000006, 41.89]\n",
      "mean_val_acc_cv : 39.318999999999996\n"
     ]
    }
   ],
   "source": [
    "print(f\"val_acc_cv : {val_acc_cv}\")\n",
    "print(f\"mean_val_acc_cv : {np.mean(val_acc_cv)}\")"
   ]
  },
  {
   "cell_type": "code",
   "execution_count": null,
   "metadata": {},
   "outputs": [],
   "source": []
  }
 ],
 "metadata": {
  "kernelspec": {
   "display_name": "Python 3",
   "language": "python",
   "name": "python3"
  },
  "language_info": {
   "codemirror_mode": {
    "name": "ipython",
    "version": 3
   },
   "file_extension": ".py",
   "mimetype": "text/x-python",
   "name": "python",
   "nbconvert_exporter": "python",
   "pygments_lexer": "ipython3",
   "version": "3.6.8"
  }
 },
 "nbformat": 4,
 "nbformat_minor": 2
}
