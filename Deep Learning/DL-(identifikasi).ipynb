{
 "cells": [
  {
   "cell_type": "code",
   "execution_count": 2,
   "metadata": {},
   "outputs": [
    {
     "name": "stderr",
     "output_type": "stream",
     "text": [
      "Using TensorFlow backend.\n"
     ]
    }
   ],
   "source": [
    "import numpy as np\n",
    "import pandas\n",
    "from tensorflow import keras\n",
    "from keras.models import Sequential\n",
    "from keras.optimizers import SGD, RMSprop, Adam\n",
    "from keras.layers import Dense, Activation, Dropout\n",
    "from sklearn.model_selection import StratifiedKFold"
   ]
  },
  {
   "cell_type": "code",
   "execution_count": 3,
   "metadata": {},
   "outputs": [],
   "source": [
    "#masukin data1\n",
    "data1=pandas.read_csv('D:\\\\SKRIPSI\\\\data\\\\data\\\\data pakai\\\\data_herbs(!5).csv', sep=',', header=None)\n",
    "#masukin data2\n",
    "data2=pandas.read_csv('D:\\\\SKRIPSI\\\\data\\\\data\\\\data pakai\\\\data_class(!5).csv', sep=',', header=None)"
   ]
  },
  {
   "cell_type": "code",
   "execution_count": 4,
   "metadata": {},
   "outputs": [],
   "source": [
    "X = data1\n",
    "y = data2\n",
    "z = pandas.read_csv('D:\\\\SKRIPSI\\\\data\\\\data\\\\data pakai\\\\class(!5).csv', sep=',', header=None)"
   ]
  },
  {
   "cell_type": "code",
   "execution_count": 6,
   "metadata": {},
   "outputs": [
    {
     "name": "stdout",
     "output_type": "stream",
     "text": [
      "Train on 2109 samples, validate on 905 samples\n",
      "Epoch 1/30\n",
      "2109/2109 [==============================] - 5s 2ms/step - loss: 0.1723 - binary_accuracy: 0.9453 - val_loss: 0.1547 - val_binary_accuracy: 0.9491\n",
      "Epoch 2/30\n",
      "2109/2109 [==============================] - 4s 2ms/step - loss: 0.1421 - binary_accuracy: 0.9531 - val_loss: 0.1392 - val_binary_accuracy: 0.9537\n",
      "Epoch 3/30\n",
      "2109/2109 [==============================] - 4s 2ms/step - loss: 0.1215 - binary_accuracy: 0.9587 - val_loss: 0.1322 - val_binary_accuracy: 0.9577\n",
      "Epoch 4/30\n",
      "2109/2109 [==============================] - 4s 2ms/step - loss: 0.1075 - binary_accuracy: 0.9651 - val_loss: 0.1254 - val_binary_accuracy: 0.9619\n",
      "Epoch 5/30\n",
      "2109/2109 [==============================] - 4s 2ms/step - loss: 0.0958 - binary_accuracy: 0.9689 - val_loss: 0.1387 - val_binary_accuracy: 0.9617\n",
      "Epoch 6/30\n",
      "2109/2109 [==============================] - 4s 2ms/step - loss: 0.0848 - binary_accuracy: 0.9729 - val_loss: 0.1413 - val_binary_accuracy: 0.9596\n",
      "Epoch 7/30\n",
      "2109/2109 [==============================] - 4s 2ms/step - loss: 0.0781 - binary_accuracy: 0.9747 - val_loss: 0.1526 - val_binary_accuracy: 0.9627\n",
      "Epoch 8/30\n",
      "2109/2109 [==============================] - 4s 2ms/step - loss: 0.0689 - binary_accuracy: 0.9769 - val_loss: 0.1684 - val_binary_accuracy: 0.9626\n",
      "Epoch 9/30\n",
      "2109/2109 [==============================] - 4s 2ms/step - loss: 0.0665 - binary_accuracy: 0.9791 - val_loss: 0.1613 - val_binary_accuracy: 0.9624\n",
      "Epoch 10/30\n",
      "2109/2109 [==============================] - 4s 2ms/step - loss: 0.0579 - binary_accuracy: 0.9812 - val_loss: 0.1566 - val_binary_accuracy: 0.9626\n",
      "Epoch 11/30\n",
      "2109/2109 [==============================] - 4s 2ms/step - loss: 0.0508 - binary_accuracy: 0.9832 - val_loss: 0.1993 - val_binary_accuracy: 0.9603\n",
      "Epoch 12/30\n",
      "2109/2109 [==============================] - 4s 2ms/step - loss: 0.0479 - binary_accuracy: 0.9846 - val_loss: 0.1812 - val_binary_accuracy: 0.9618\n",
      "Epoch 13/30\n",
      "2109/2109 [==============================] - 4s 2ms/step - loss: 0.0437 - binary_accuracy: 0.9864 - val_loss: 0.2072 - val_binary_accuracy: 0.9635\n",
      "Epoch 14/30\n",
      "2109/2109 [==============================] - 4s 2ms/step - loss: 0.0418 - binary_accuracy: 0.9871 - val_loss: 0.1849 - val_binary_accuracy: 0.9621\n",
      "Epoch 15/30\n",
      "2109/2109 [==============================] - 4s 2ms/step - loss: 0.0403 - binary_accuracy: 0.9876 - val_loss: 0.2056 - val_binary_accuracy: 0.9624\n",
      "Epoch 16/30\n",
      "2109/2109 [==============================] - 4s 2ms/step - loss: 0.0385 - binary_accuracy: 0.9881 - val_loss: 0.1949 - val_binary_accuracy: 0.9624\n",
      "Epoch 17/30\n",
      "2109/2109 [==============================] - 4s 2ms/step - loss: 0.0361 - binary_accuracy: 0.9891 - val_loss: 0.2048 - val_binary_accuracy: 0.9610\n",
      "Epoch 18/30\n",
      "2109/2109 [==============================] - 4s 2ms/step - loss: 0.0328 - binary_accuracy: 0.9900 - val_loss: 0.2241 - val_binary_accuracy: 0.9621\n",
      "Epoch 19/30\n",
      "2109/2109 [==============================] - 5s 2ms/step - loss: 0.0297 - binary_accuracy: 0.9912 - val_loss: 0.2519 - val_binary_accuracy: 0.9620\n",
      "Epoch 20/30\n",
      "2109/2109 [==============================] - 5s 2ms/step - loss: 0.0297 - binary_accuracy: 0.9913 - val_loss: 0.2103 - val_binary_accuracy: 0.9624\n",
      "Epoch 21/30\n",
      "2109/2109 [==============================] - 4s 2ms/step - loss: 0.0324 - binary_accuracy: 0.9904 - val_loss: 0.2166 - val_binary_accuracy: 0.9622\n",
      "Epoch 22/30\n",
      "2109/2109 [==============================] - 4s 2ms/step - loss: 0.0302 - binary_accuracy: 0.9909 - val_loss: 0.2244 - val_binary_accuracy: 0.9600\n",
      "Epoch 23/30\n",
      "2109/2109 [==============================] - 4s 2ms/step - loss: 0.0310 - binary_accuracy: 0.9913 - val_loss: 0.2539 - val_binary_accuracy: 0.9611\n",
      "Epoch 24/30\n",
      "2109/2109 [==============================] - 5s 2ms/step - loss: 0.0296 - binary_accuracy: 0.9917 - val_loss: 0.2498 - val_binary_accuracy: 0.9620\n",
      "Epoch 25/30\n",
      "2109/2109 [==============================] - 4s 2ms/step - loss: 0.0259 - binary_accuracy: 0.9922 - val_loss: 0.2538 - val_binary_accuracy: 0.9608\n",
      "Epoch 26/30\n",
      "2109/2109 [==============================] - 4s 2ms/step - loss: 0.0260 - binary_accuracy: 0.9922 - val_loss: 0.2640 - val_binary_accuracy: 0.9619\n",
      "Epoch 27/30\n",
      "2109/2109 [==============================] - 4s 2ms/step - loss: 0.0249 - binary_accuracy: 0.9927 - val_loss: 0.2638 - val_binary_accuracy: 0.9611\n",
      "Epoch 28/30\n",
      "2109/2109 [==============================] - 4s 2ms/step - loss: 0.0261 - binary_accuracy: 0.9923 - val_loss: 0.2368 - val_binary_accuracy: 0.9611\n",
      "Epoch 29/30\n",
      "2109/2109 [==============================] - 4s 2ms/step - loss: 0.0239 - binary_accuracy: 0.9927 - val_loss: 0.2543 - val_binary_accuracy: 0.9619\n",
      "Epoch 30/30\n",
      "2109/2109 [==============================] - 4s 2ms/step - loss: 0.0213 - binary_accuracy: 0.9934 - val_loss: 0.2529 - val_binary_accuracy: 0.9622\n",
      "905/905 [==============================] - 0s 185us/step\n"
     ]
    }
   ],
   "source": [
    "from sklearn.model_selection import StratifiedShuffleSplit\n",
    "sss = StratifiedShuffleSplit(n_splits=1, test_size=0.3, random_state=0)\n",
    "for train_index, test_index in sss.split(X,z):\n",
    "    X_train,X_test = X.iloc[train_index,:],X.iloc[test_index,:]\n",
    "    y_train,y_test = y.iloc[train_index,:],y.iloc[test_index,:]\n",
    "    model = Sequential()\n",
    "    model.add(Dense(input_dim=X_train.shape[1], units=463,\n",
    "                     kernel_initializer='normal', bias_initializer='zeros'))\n",
    "    model.add(Activation('relu'))\n",
    "\n",
    "    for i in range(0, 6):\n",
    "        model.add(Dense(units=463, kernel_initializer='normal',\n",
    "                         bias_initializer='zeros'))\n",
    "        model.add(Activation('relu'))\n",
    "        model.add(Dropout(.4))\n",
    "\n",
    "    model.add(Dense(units=18))\n",
    "    model.add(Activation('softmax'))\n",
    "    model.compile(loss='binary_crossentropy', optimizer='adam', metrics=['binary_accuracy'])\n",
    "    model.fit(X_train, y_train,batch_size=24,epochs=30,verbose=1,validation_data=(X_test, y_test))\n",
    "    score = model.evaluate(X_test, y_test, verbose=1)\n",
    "    predict = model.predict_classes(X_test)"
   ]
  },
  {
   "cell_type": "code",
   "execution_count": 7,
   "metadata": {},
   "outputs": [
    {
     "ename": "ValueError",
     "evalue": "Classification metrics can't handle a mix of multilabel-indicator and multiclass targets",
     "output_type": "error",
     "traceback": [
      "\u001b[1;31m---------------------------------------------------------------------------\u001b[0m",
      "\u001b[1;31mValueError\u001b[0m                                Traceback (most recent call last)",
      "\u001b[1;32m<ipython-input-7-aeaaa6e7f74e>\u001b[0m in \u001b[0;36m<module>\u001b[1;34m\u001b[0m\n\u001b[0;32m      1\u001b[0m \u001b[1;32mfrom\u001b[0m \u001b[0msklearn\u001b[0m\u001b[1;33m.\u001b[0m\u001b[0mmetrics\u001b[0m \u001b[1;32mimport\u001b[0m \u001b[0maccuracy_score\u001b[0m\u001b[1;33m\u001b[0m\u001b[1;33m\u001b[0m\u001b[0m\n\u001b[1;32m----> 2\u001b[1;33m \u001b[0maccuracy_score\u001b[0m\u001b[1;33m(\u001b[0m\u001b[0my_test\u001b[0m\u001b[1;33m,\u001b[0m\u001b[0mpredict\u001b[0m\u001b[1;33m)\u001b[0m\u001b[1;33m\u001b[0m\u001b[1;33m\u001b[0m\u001b[0m\n\u001b[0m",
      "\u001b[1;32m~\\Anaconda3\\lib\\site-packages\\sklearn\\metrics\\classification.py\u001b[0m in \u001b[0;36maccuracy_score\u001b[1;34m(y_true, y_pred, normalize, sample_weight)\u001b[0m\n\u001b[0;32m    174\u001b[0m \u001b[1;33m\u001b[0m\u001b[0m\n\u001b[0;32m    175\u001b[0m     \u001b[1;31m# Compute accuracy for each possible representation\u001b[0m\u001b[1;33m\u001b[0m\u001b[1;33m\u001b[0m\u001b[1;33m\u001b[0m\u001b[0m\n\u001b[1;32m--> 176\u001b[1;33m     \u001b[0my_type\u001b[0m\u001b[1;33m,\u001b[0m \u001b[0my_true\u001b[0m\u001b[1;33m,\u001b[0m \u001b[0my_pred\u001b[0m \u001b[1;33m=\u001b[0m \u001b[0m_check_targets\u001b[0m\u001b[1;33m(\u001b[0m\u001b[0my_true\u001b[0m\u001b[1;33m,\u001b[0m \u001b[0my_pred\u001b[0m\u001b[1;33m)\u001b[0m\u001b[1;33m\u001b[0m\u001b[1;33m\u001b[0m\u001b[0m\n\u001b[0m\u001b[0;32m    177\u001b[0m     \u001b[0mcheck_consistent_length\u001b[0m\u001b[1;33m(\u001b[0m\u001b[0my_true\u001b[0m\u001b[1;33m,\u001b[0m \u001b[0my_pred\u001b[0m\u001b[1;33m,\u001b[0m \u001b[0msample_weight\u001b[0m\u001b[1;33m)\u001b[0m\u001b[1;33m\u001b[0m\u001b[1;33m\u001b[0m\u001b[0m\n\u001b[0;32m    178\u001b[0m     \u001b[1;32mif\u001b[0m \u001b[0my_type\u001b[0m\u001b[1;33m.\u001b[0m\u001b[0mstartswith\u001b[0m\u001b[1;33m(\u001b[0m\u001b[1;34m'multilabel'\u001b[0m\u001b[1;33m)\u001b[0m\u001b[1;33m:\u001b[0m\u001b[1;33m\u001b[0m\u001b[1;33m\u001b[0m\u001b[0m\n",
      "\u001b[1;32m~\\Anaconda3\\lib\\site-packages\\sklearn\\metrics\\classification.py\u001b[0m in \u001b[0;36m_check_targets\u001b[1;34m(y_true, y_pred)\u001b[0m\n\u001b[0;32m     79\u001b[0m     \u001b[1;32mif\u001b[0m \u001b[0mlen\u001b[0m\u001b[1;33m(\u001b[0m\u001b[0my_type\u001b[0m\u001b[1;33m)\u001b[0m \u001b[1;33m>\u001b[0m \u001b[1;36m1\u001b[0m\u001b[1;33m:\u001b[0m\u001b[1;33m\u001b[0m\u001b[1;33m\u001b[0m\u001b[0m\n\u001b[0;32m     80\u001b[0m         raise ValueError(\"Classification metrics can't handle a mix of {0} \"\n\u001b[1;32m---> 81\u001b[1;33m                          \"and {1} targets\".format(type_true, type_pred))\n\u001b[0m\u001b[0;32m     82\u001b[0m \u001b[1;33m\u001b[0m\u001b[0m\n\u001b[0;32m     83\u001b[0m     \u001b[1;31m# We can't have more than one value on y_type => The set is no more needed\u001b[0m\u001b[1;33m\u001b[0m\u001b[1;33m\u001b[0m\u001b[1;33m\u001b[0m\u001b[0m\n",
      "\u001b[1;31mValueError\u001b[0m: Classification metrics can't handle a mix of multilabel-indicator and multiclass targets"
     ]
    }
   ],
   "source": [
    "from sklearn.metrics import accuracy_score\n",
    "accuracy_score(y_test,predict)"
   ]
  },
  {
   "cell_type": "code",
   "execution_count": 57,
   "metadata": {},
   "outputs": [
    {
     "data": {
      "text/plain": [
       "array([0, 0, 0, 0, 0, 0, 0, 0, 0, 0, 0, 0, 0, 0, 0, 0, 0, 0, 0, 0, 0, 0,\n",
       "       0, 0, 0, 0, 0, 0, 0, 0, 0, 0, 0, 0, 0, 0, 0, 0, 0, 0, 0, 0, 0, 0,\n",
       "       0, 0, 0, 0, 0, 0, 0, 0, 0, 0, 0, 0, 0, 0, 0, 0, 0, 0, 0, 0, 0, 0,\n",
       "       0, 0, 0, 0, 0, 0, 0, 0, 0, 0, 0, 0, 0, 0, 0, 0, 0, 0, 0, 0, 0, 0,\n",
       "       0, 0, 0, 0, 0, 0, 0, 0, 0, 0, 0, 0, 0, 0, 0, 0, 0, 1, 0, 0, 0, 0,\n",
       "       0, 0, 0, 0, 0, 0, 0, 0, 0, 0, 0, 0, 0, 0, 0, 0, 0, 0, 0, 0, 0, 0,\n",
       "       0, 0, 0, 0, 0, 0, 0, 0, 0, 0, 0, 0, 0, 0, 0, 0, 0, 0, 0, 0, 0, 0,\n",
       "       0, 0, 0, 0, 0, 0, 0, 0, 0, 0, 0, 0, 0, 0, 0, 0, 0, 0, 0, 0, 0, 0,\n",
       "       0, 0, 0, 0, 0, 0, 0, 0, 0, 0, 0, 0, 0, 0, 0, 0, 0, 0, 0, 0, 0, 0,\n",
       "       0, 0, 0, 0, 0, 0, 0, 0, 0, 0, 0, 0, 0, 0, 0, 0, 0, 0, 0, 0, 0, 0,\n",
       "       0, 0, 0, 0, 0, 0, 0, 0, 0, 0, 0, 0, 0, 0, 0, 0, 0, 0, 0, 0, 0, 0,\n",
       "       0, 0, 0, 0, 0, 0, 0, 0, 0, 0, 0, 0, 0, 0, 0, 0, 0, 0, 0, 0, 0, 0,\n",
       "       0, 0, 0, 0, 0, 0, 0, 0, 0, 0, 0, 0, 0, 0, 0, 0, 0, 0, 0, 0, 0, 0,\n",
       "       0, 0, 0, 0, 0, 0, 0, 0, 0, 0, 0, 0, 0, 0, 0, 0, 0, 0, 0, 0, 0, 0,\n",
       "       0, 0, 0, 0, 0, 0, 0, 0, 0, 0, 0, 0, 0, 0, 0, 0, 0, 0, 0, 0, 0, 0,\n",
       "       0, 0, 0, 0, 0, 0, 0, 0, 0, 0, 0, 0, 0, 0, 0, 0, 0, 0, 0, 0, 0, 0,\n",
       "       0, 0, 0, 0, 0, 0, 0, 0, 0, 0, 0, 0, 0, 0, 0, 0, 0, 1, 0, 0, 0, 0,\n",
       "       0, 0, 0, 0, 0, 0, 0, 0, 0, 0, 0, 0, 0, 0, 0, 0, 0, 0, 0, 0, 0, 0,\n",
       "       0, 0, 0, 0, 0, 0, 0, 0, 0, 0, 0, 0, 0, 0, 0, 0, 0, 0, 0, 0, 0, 0,\n",
       "       0, 0, 0, 0, 0, 0, 0, 0, 0, 0, 0, 0, 1, 0, 0, 0, 0, 1, 0, 0, 0, 0,\n",
       "       0, 0, 0, 0, 0, 0, 0, 0, 0, 0, 0, 0, 0, 0, 0, 0, 0, 0, 0, 0, 0, 0,\n",
       "       0, 0, 0], dtype=int64)"
      ]
     },
     "execution_count": 57,
     "metadata": {},
     "output_type": "execute_result"
    }
   ],
   "source": [
    "X_test[0]"
   ]
  },
  {
   "cell_type": "code",
   "execution_count": 60,
   "metadata": {},
   "outputs": [
    {
     "data": {
      "text/plain": [
       "array([14,  3, 14,  8, 14, 11,  6,  3, 14, 11, 11, 16, 11, 16,  6, 14, 14,\n",
       "        6, 14,  6,  6,  1,  1, 15, 17, 13, 14,  3, 11, 11, 16,  3, 15,  6,\n",
       "        1,  6, 16, 15,  6,  3, 14, 18, 14, 14, 14,  6, 15,  6, 16, 14, 15,\n",
       "       11,  3, 14, 11, 14, 11,  3, 14,  6, 11,  1,  6, 17, 15, 14, 14,  1,\n",
       "        3, 14, 14, 11, 14,  3, 14,  3, 17,  3, 13,  1, 16, 11,  3, 14, 14,\n",
       "       11, 11,  3,  1,  1,  6,  9, 15, 15,  6, 11, 11, 11, 14, 15,  3, 14,\n",
       "       13, 15,  8, 15,  3, 14, 14, 11,  3, 16, 16, 16, 14, 15,  3, 13,  3,\n",
       "        3, 14, 11,  9, 16,  6, 15,  3, 15,  3,  3, 15,  1,  8, 14, 16,  1,\n",
       "       11,  3, 15, 16, 18, 16,  3,  3,  3, 14, 14,  3, 17,  1,  3, 14, 17,\n",
       "       11, 11,  6,  6, 13,  1, 16, 15,  6,  9, 17,  9, 15, 13,  6,  6, 11,\n",
       "       14,  3, 15,  1, 16, 15,  6, 11,  3, 11,  6, 14, 11, 15,  3, 17, 11,\n",
       "        3,  6, 15, 11,  6, 14,  6, 11, 14, 14,  3, 18, 11,  9, 15,  6,  3,\n",
       "        6, 16, 14,  3, 17, 15,  8, 14, 11, 14, 14, 14,  8, 11,  3,  3, 14,\n",
       "       15, 15,  6,  6, 18,  8, 14, 11, 13,  1,  1, 11,  3,  3, 17,  9, 18,\n",
       "       14,  3, 14, 11, 16, 14, 16, 15, 18, 15, 15, 11, 11,  3, 14, 15, 14,\n",
       "       16,  6, 16, 15, 16,  1, 15,  8, 15, 14, 14, 15, 15, 15, 11,  6, 14,\n",
       "        6, 11, 15,  9, 15,  8,  6,  3,  6, 15, 11, 11, 14, 14, 15, 11,  6,\n",
       "       14,  3, 18,  3, 11, 14, 11, 15,  3, 11, 14,  1,  6, 11,  8,  3, 11,\n",
       "       13,  3,  6,  6, 14, 15,  9, 14, 14, 15, 11, 11, 14,  3, 11, 14,  3,\n",
       "        6,  3, 15, 17,  6, 14, 14,  6,  3, 14,  3, 13, 14,  2,  3, 16,  1,\n",
       "       14, 11, 11,  6, 14, 15, 15, 15, 16, 15,  1,  6,  3,  8, 16,  6,  1,\n",
       "       15,  1,  3, 11,  6,  3, 14,  6,  3, 11, 14, 11,  3, 11, 16, 14, 16,\n",
       "        6, 11,  3,  6, 17,  3, 15,  6, 11,  1, 14, 11, 11,  6,  6,  1, 11,\n",
       "       16, 15, 14, 16,  6, 14, 15,  3, 14,  6, 11, 11, 11, 17, 16, 14, 15,\n",
       "        6, 11,  1, 11,  6, 11, 14, 13, 17, 11, 14, 11, 14,  6, 14,  8, 11,\n",
       "        1,  6, 11,  6, 15,  6,  3, 14, 14, 11,  3,  1,  6, 14, 11,  3, 14,\n",
       "       16, 11, 15, 11, 14, 14,  6,  6,  6, 16,  6,  6, 16, 11, 11, 11, 11,\n",
       "       11, 14, 14,  6, 11, 14,  3,  1, 15, 11,  3, 14, 11, 11,  3,  6,  6,\n",
       "        1,  3, 15,  3, 14, 14, 15, 14, 14, 15, 11,  3,  3, 14,  3, 14,  3,\n",
       "       14, 13, 13,  2,  9,  6, 14, 11,  9, 13, 11, 11, 14, 14,  3, 11,  9,\n",
       "        3, 14,  3, 11, 11, 15, 17,  6, 11,  1,  1,  6, 11, 14, 14, 14, 15,\n",
       "        1, 11,  3, 14,  3,  1,  3, 16, 13, 13, 14, 13,  3, 11,  3, 11, 14,\n",
       "       14, 11, 15, 16,  1, 16, 11, 15,  8,  3,  3, 16, 11,  3, 18, 11, 15,\n",
       "       16,  6,  6, 11,  6, 16, 11, 11,  3, 11,  3,  8,  6,  3, 14,  8,  9,\n",
       "        1, 11, 16,  1, 11,  3, 15,  3,  3, 11, 14,  6,  8,  3,  3,  3, 11,\n",
       "       16,  3, 14,  3,  3, 15,  3, 13,  3, 16, 11, 15,  6,  1,  6,  6,  6,\n",
       "        2, 15,  3,  6, 14,  6,  6, 14, 14, 11, 11, 15, 14, 11,  1,  6, 15,\n",
       "       11, 15, 14, 13, 11, 11, 11, 15, 11,  6,  6,  3, 11,  9, 11, 15, 15,\n",
       "        1, 15,  1, 15, 14,  3,  3,  6, 14,  3,  6, 15, 11, 14, 14, 16, 15,\n",
       "       17, 14, 11,  6,  1,  3,  2,  1,  3, 11,  6, 11, 11,  3,  3,  3,  6,\n",
       "        6, 15, 17, 11, 11,  8, 14, 14, 15, 14, 13, 16, 11, 16,  3, 11, 11,\n",
       "       15,  3, 11,  6, 15,  3,  3, 17,  3,  3, 18,  3,  6, 11,  8,  3, 16,\n",
       "       15, 15,  3, 11, 14, 11,  9,  3, 14,  9, 15, 16,  1, 14, 17,  3, 17,\n",
       "       11,  3,  6, 17,  3,  6, 14, 11,  8,  6, 13, 17, 15,  3,  3,  8, 14,\n",
       "        3, 11,  6, 14, 15, 11,  3, 11, 13, 16, 16, 11,  3,  3,  6, 15, 16,\n",
       "       15, 14, 11,  6, 15,  2,  6,  6,  3,  6, 11,  6, 11,  3, 16, 13, 15,\n",
       "        2, 15, 14,  6,  6,  6,  3, 14, 14,  3, 15, 11, 15, 11,  3, 11, 14,\n",
       "       15, 15, 14,  3,  2,  1,  9,  3, 17,  3,  1, 15, 11, 14, 14, 14, 14,\n",
       "        6, 11, 14, 14, 11,  6, 14, 16,  1, 16,  6,  3, 14, 14,  6, 15, 11,\n",
       "        3, 16, 15, 15,  6, 16, 15, 11,  3, 11, 15, 15, 17, 14, 11,  6, 13,\n",
       "       16,  6,  1,  3, 11,  3,  3,  6,  3,  3, 17, 11, 15, 15, 14, 11, 11,\n",
       "       15,  3, 15, 15,  3,  6,  3,  3, 15, 11, 11, 14,  6, 15,  1,  3,  6,\n",
       "        6,  9, 14, 15, 14, 14, 14, 14, 14,  6, 14, 11,  3, 11, 14,  8, 15,\n",
       "        6, 11,  6,  1], dtype=int64)"
      ]
     },
     "execution_count": 60,
     "metadata": {},
     "output_type": "execute_result"
    }
   ],
   "source": [
    "predict"
   ]
  },
  {
   "cell_type": "code",
   "execution_count": 61,
   "metadata": {},
   "outputs": [
    {
     "data": {
      "text/plain": [
       "array([14,  9, 14,  8, 14, 11,  6,  3, 14, 11, 11, 16, 11, 16, 14, 14, 14,\n",
       "       14, 14,  6, 11, 17, 11, 15, 17, 11, 14,  3, 11, 11,  1,  3, 17,  6,\n",
       "       11,  6,  3, 15, 14,  6, 14, 16, 14, 14,  6,  6, 15, 14, 11, 14, 11,\n",
       "       11, 11, 14, 11, 14, 14, 14, 14,  6, 11,  6,  6,  3, 11,  8, 11,  3,\n",
       "       11, 14, 11, 15, 14, 14, 14,  3, 15,  3,  3, 13, 15, 11,  3, 14, 14,\n",
       "       11, 11,  3,  1,  1, 14, 16, 15, 15, 14, 11, 15,  6, 14, 15,  6, 14,\n",
       "       11, 15, 10,  1,  3, 14,  3, 16,  3, 16, 16, 11,  8,  1,  3, 14,  3,\n",
       "        6, 14, 11,  9,  6,  6, 11,  3,  6,  3,  3, 15,  1,  8, 14,  3, 14,\n",
       "       13,  3, 11,  1, 11, 16, 15, 18,  3,  8, 14,  9, 14, 18,  3, 14, 11,\n",
       "       14, 15, 16,  6,  6,  8, 14, 15, 11, 16,  8,  1, 15,  6,  6,  6, 11,\n",
       "       11,  3, 11,  1, 11, 15,  6, 14, 17, 17,  6,  6, 11, 15,  3, 17, 11,\n",
       "        3,  6, 15, 15,  6, 14,  6, 11, 14, 14,  3, 17, 11, 14, 15, 14,  3,\n",
       "       14, 16,  6,  3, 17, 15, 11,  6, 11,  8, 14,  6,  8, 11,  3,  3, 14,\n",
       "       11, 15,  6,  6,  3,  8, 14, 11, 11,  1,  1,  1,  6,  3, 17, 14,  2,\n",
       "       14,  6, 14, 11,  2, 14, 16, 15, 14, 11, 11, 11, 15,  6, 14,  3, 14,\n",
       "        3, 11, 16, 15,  3,  3, 15, 14, 15, 14, 14,  1, 15,  1,  3,  3, 11,\n",
       "       11, 11, 11, 11, 13,  3,  6,  3,  1, 11,  3, 11, 14, 14, 15, 11,  6,\n",
       "       14,  3, 16,  3, 11, 11, 11, 11,  3,  1, 14,  1,  6, 11,  8,  3,  1,\n",
       "        1,  1, 14,  1, 14, 15, 14, 14,  2, 15, 11, 11, 14,  3, 11, 14,  3,\n",
       "        6,  3, 11, 17, 14, 14, 14,  6,  3, 14, 15, 11,  6, 16,  3, 16, 13,\n",
       "       14, 11, 17,  6, 14, 15, 18,  3, 18, 11, 13,  3,  1,  3, 11,  6, 11,\n",
       "        3, 11,  3,  1, 11, 15, 11,  6, 15, 11,  3, 16, 11, 11, 15, 14, 16,\n",
       "        6, 11,  3,  6, 17, 13, 15,  6, 17, 11, 14, 11, 11,  6,  6,  1, 14,\n",
       "       14,  3,  6, 16,  6, 14, 15, 15,  1, 10,  6,  1, 11, 17,  3,  3, 15,\n",
       "        6,  3,  1, 14, 14, 11, 14,  3, 11,  1,  6, 17, 11,  6,  6,  3, 11,\n",
       "        1,  3, 11, 11, 15,  6, 15, 14, 14, 14, 16, 13,  3, 11, 11,  3, 14,\n",
       "       16,  6, 15, 14, 14, 14,  6, 16, 15,  3,  3,  6, 16, 14, 11, 11, 11,\n",
       "       11, 14, 14,  6, 11, 14,  3, 11, 11, 14,  3,  6, 11, 11, 15,  6,  3,\n",
       "       17,  6, 11, 14, 14, 14, 11, 14, 14, 15, 11,  6,  1,  1,  6, 14, 15,\n",
       "        6, 11,  1,  2,  9,  6, 14, 11, 14, 10, 11, 11, 14, 14,  3, 11,  9,\n",
       "        3, 11,  3, 11, 11, 15, 15, 10, 11, 15,  1,  6, 11, 14, 14, 14, 17,\n",
       "       11, 11, 14, 14,  3,  1,  3,  3, 13, 11, 14, 11, 15, 11,  3, 11,  3,\n",
       "       14, 11, 15, 16, 14, 16, 11, 15,  8,  6,  3, 16, 11, 16, 11, 11,  6,\n",
       "        3, 11,  6, 11,  6, 16, 11, 11,  3,  1, 16,  8,  6,  3,  6,  3, 14,\n",
       "       11, 11, 16, 11, 11,  1, 11, 14,  3, 18, 14,  6, 17, 17,  3,  3, 11,\n",
       "        1, 16, 14,  3,  3, 15,  3, 13,  3,  6,  1, 15, 17,  1,  6, 11,  6,\n",
       "        2, 15, 16,  6, 14,  1, 18, 14, 14, 11, 11,  1, 14,  3,  1,  6, 15,\n",
       "       11,  1, 14,  8, 11, 11, 11, 15, 11, 11,  6,  3, 11,  8, 16, 11, 15,\n",
       "       15, 11,  1, 15, 14,  3,  3,  6, 14,  3,  6, 15, 11, 14, 14, 15, 11,\n",
       "       17, 14,  3, 11,  1, 11,  2,  1,  1, 14,  3, 15, 11, 14,  3,  3,  6,\n",
       "        6, 15, 15, 11, 15, 14, 14, 14, 15, 14, 11, 16, 11, 16,  6, 11, 11,\n",
       "       15,  3, 11, 14, 11,  6,  3, 17,  3, 14, 16,  3,  6, 11,  2,  3, 16,\n",
       "       15, 15,  3,  6, 14,  6, 14, 11, 14, 14, 11,  3,  6, 14, 17, 11, 17,\n",
       "       11,  3,  6, 15,  2, 11, 14, 14,  8,  3, 11, 17, 15,  3,  3, 17, 14,\n",
       "        6,  1,  6, 14, 11, 11,  3, 11, 11, 16, 16, 17,  3,  6,  6, 15,  3,\n",
       "       10, 14, 11,  6, 15,  6,  3,  3,  3,  6, 11, 14, 11,  3, 16, 15, 15,\n",
       "        8, 11, 14, 11, 14,  6,  3, 14, 14,  3, 15, 15,  3, 11, 15, 11,  1,\n",
       "       15,  1, 14, 16,  2, 16,  2,  3, 11,  6, 15, 15, 11, 14,  6, 14, 16,\n",
       "        6, 11, 11, 14, 11,  3,  6, 14,  1, 15, 14,  3,  3, 14,  3,  1,  1,\n",
       "        3, 16,  3, 15,  6,  3, 15, 11,  9, 11, 11, 15, 14, 14,  1, 16, 14,\n",
       "       16,  6, 15,  6, 11,  1,  3,  6,  3, 16, 11,  1, 15,  6, 14, 11, 15,\n",
       "       15, 11, 11, 11, 16,  6, 11,  3, 15,  1, 15, 14, 11, 13,  1,  3,  3,\n",
       "        6,  1, 14,  3, 14, 14, 14, 14, 14,  6, 14,  6, 16, 11, 14,  9,  3,\n",
       "        6, 11, 14,  1], dtype=int64)"
      ]
     },
     "execution_count": 61,
     "metadata": {},
     "output_type": "execute_result"
    }
   ],
   "source": [
    "y_test"
   ]
  },
  {
   "cell_type": "code",
   "execution_count": 62,
   "metadata": {},
   "outputs": [
    {
     "data": {
      "text/plain": [
       "0.569060773480663"
      ]
     },
     "execution_count": 62,
     "metadata": {},
     "output_type": "execute_result"
    }
   ],
   "source": []
  },
  {
   "cell_type": "code",
   "execution_count": 64,
   "metadata": {},
   "outputs": [
    {
     "data": {
      "text/plain": [
       "array([[ 20,   0,   6,   3,   0,   2,   0,  13,   2,   3,   8,   3,   0,\n",
       "          0],\n",
       "       [  0,   4,   1,   0,   1,   1,   0,   0,   0,   1,   0,   1,   0,\n",
       "          1],\n",
       "       [  2,   0,  85,  13,   4,   0,   0,   5,   2,   5,   8,  11,   1,\n",
       "          1],\n",
       "       [  2,   1,  16,  69,   0,   0,   0,   6,   2,  14,   3,   2,   0,\n",
       "          0],\n",
       "       [  1,   1,   0,   0,   8,   1,   0,   0,   1,   4,   0,   0,   1,\n",
       "          0],\n",
       "       [  0,   0,   3,   0,   1,   3,   0,   0,   0,   0,   0,   0,   0,\n",
       "          0],\n",
       "       [  0,   0,   0,   2,   1,   0,   0,   0,   1,   0,   1,   0,   0,\n",
       "          0],\n",
       "       [  9,   0,   8,  13,   1,   1,   0, 106,  10,  10,  27,   4,   4,\n",
       "          2],\n",
       "       [  4,   0,   1,   0,   0,   0,   0,   1,   2,   0,   2,   0,   0,\n",
       "          0],\n",
       "       [  2,   0,   7,  16,   2,   7,   0,  11,   2, 120,   0,   3,   2,\n",
       "          1],\n",
       "       [  4,   0,  10,   1,   0,   0,   0,  10,   1,   0,  60,   4,   4,\n",
       "          0],\n",
       "       [  1,   1,   9,   3,   0,   2,   0,   3,   0,   1,   0,  26,   0,\n",
       "          3],\n",
       "       [  2,   0,   2,   1,   2,   0,   0,   5,   0,   0,   2,   0,  12,\n",
       "          1],\n",
       "       [  1,   0,   1,   1,   0,   0,   0,   1,   0,   0,   1,   1,   0,\n",
       "          0]], dtype=int64)"
      ]
     },
     "execution_count": 64,
     "metadata": {},
     "output_type": "execute_result"
    }
   ],
   "source": [
    "from sklearn.metrics import confusion_matrix\n",
    "confusion_matrix(y_test, predict)"
   ]
  },
  {
   "cell_type": "code",
   "execution_count": 65,
   "metadata": {},
   "outputs": [
    {
     "name": "stdout",
     "output_type": "stream",
     "text": [
      "Confusion matrix, without normalization\n",
      "[[ 20   0   6   3   0   2   0  13   2   3   8   3   0   0]\n",
      " [  0   4   1   0   1   1   0   0   0   1   0   1   0   1]\n",
      " [  2   0  85  13   4   0   0   5   2   5   8  11   1   1]\n",
      " [  2   1  16  69   0   0   0   6   2  14   3   2   0   0]\n",
      " [  1   1   0   0   8   1   0   0   1   4   0   0   1   0]\n",
      " [  0   0   3   0   1   3   0   0   0   0   0   0   0   0]\n",
      " [  0   0   0   2   1   0   0   0   1   0   1   0   0   0]\n",
      " [  9   0   8  13   1   1   0 106  10  10  27   4   4   2]\n",
      " [  4   0   1   0   0   0   0   1   2   0   2   0   0   0]\n",
      " [  2   0   7  16   2   7   0  11   2 120   0   3   2   1]\n",
      " [  4   0  10   1   0   0   0  10   1   0  60   4   4   0]\n",
      " [  1   1   9   3   0   2   0   3   0   1   0  26   0   3]\n",
      " [  2   0   2   1   2   0   0   5   0   0   2   0  12   1]\n",
      " [  1   0   1   1   0   0   0   1   0   0   1   1   0   0]]\n",
      "Normalized confusion matrix\n",
      "[[0.33 0.   0.1  0.05 0.   0.03 0.   0.22 0.03 0.05 0.13 0.05 0.   0.  ]\n",
      " [0.   0.4  0.1  0.   0.1  0.1  0.   0.   0.   0.1  0.   0.1  0.   0.1 ]\n",
      " [0.01 0.   0.62 0.09 0.03 0.   0.   0.04 0.01 0.04 0.06 0.08 0.01 0.01]\n",
      " [0.02 0.01 0.14 0.6  0.   0.   0.   0.05 0.02 0.12 0.03 0.02 0.   0.  ]\n",
      " [0.06 0.06 0.   0.   0.47 0.06 0.   0.   0.06 0.24 0.   0.   0.06 0.  ]\n",
      " [0.   0.   0.43 0.   0.14 0.43 0.   0.   0.   0.   0.   0.   0.   0.  ]\n",
      " [0.   0.   0.   0.4  0.2  0.   0.   0.   0.2  0.   0.2  0.   0.   0.  ]\n",
      " [0.05 0.   0.04 0.07 0.01 0.01 0.   0.54 0.05 0.05 0.14 0.02 0.02 0.01]\n",
      " [0.4  0.   0.1  0.   0.   0.   0.   0.1  0.2  0.   0.2  0.   0.   0.  ]\n",
      " [0.01 0.   0.04 0.09 0.01 0.04 0.   0.06 0.01 0.69 0.   0.02 0.01 0.01]\n",
      " [0.04 0.   0.11 0.01 0.   0.   0.   0.11 0.01 0.   0.64 0.04 0.04 0.  ]\n",
      " [0.02 0.02 0.18 0.06 0.   0.04 0.   0.06 0.   0.02 0.   0.53 0.   0.06]\n",
      " [0.07 0.   0.07 0.04 0.07 0.   0.   0.19 0.   0.   0.07 0.   0.44 0.04]\n",
      " [0.17 0.   0.17 0.17 0.   0.   0.   0.17 0.   0.   0.17 0.17 0.   0.  ]]\n"
     ]
    },
    {
     "data": {
      "text/plain": [
       "<Figure size 640x480 with 2 Axes>"
      ]
     },
     "metadata": {},
     "output_type": "display_data"
    },
    {
     "data": {
      "text/plain": [
       "<Figure size 640x480 with 2 Axes>"
      ]
     },
     "metadata": {},
     "output_type": "display_data"
    }
   ],
   "source": [
    "#confusion matrix\n",
    "import matplotlib.pyplot as plt\n",
    "def plot_confusion_matrix(cm, title='Confusion matrix', cmap=plt.cm.Blues):\n",
    "    plt.imshow(cm, interpolation='nearest', cmap=cmap)\n",
    "    plt.title(title)\n",
    "    plt.colorbar()\n",
    "    tick_marks = np.arange(len(np.unique(y_test)))\n",
    "    plt.xticks(tick_marks, np.unique(y_test), rotation=45)\n",
    "    plt.yticks(tick_marks, np.unique(y_test))\n",
    "    plt.tight_layout()\n",
    "    plt.ylabel('True label')\n",
    "    plt.xlabel('Predicted label')\n",
    "\n",
    "\n",
    "# Compute confusion matrix\n",
    "cm = confusion_matrix(y_test, predict)\n",
    "np.set_printoptions(precision=2)\n",
    "print('Confusion matrix, without normalization')\n",
    "print(cm)\n",
    "plt.figure()\n",
    "plot_confusion_matrix(cm)\n",
    "\n",
    "# Normalize the confusion matrix by row (i.e by the number of samples\n",
    "# in each class)\n",
    "cm_normalized = cm.astype('float') / cm.sum(axis=1)[:, np.newaxis]\n",
    "print('Normalized confusion matrix')\n",
    "print(cm_normalized)\n",
    "plt.figure()\n",
    "plot_confusion_matrix(cm_normalized, title='Normalized confusion matrix')\n",
    "\n",
    "plt.show()"
   ]
  },
  {
   "cell_type": "code",
   "execution_count": null,
   "metadata": {},
   "outputs": [],
   "source": []
  }
 ],
 "metadata": {
  "kernelspec": {
   "display_name": "Python 3",
   "language": "python",
   "name": "python3"
  },
  "language_info": {
   "codemirror_mode": {
    "name": "ipython",
    "version": 3
   },
   "file_extension": ".py",
   "mimetype": "text/x-python",
   "name": "python",
   "nbconvert_exporter": "python",
   "pygments_lexer": "ipython3",
   "version": "3.6.8"
  }
 },
 "nbformat": 4,
 "nbformat_minor": 2
}
