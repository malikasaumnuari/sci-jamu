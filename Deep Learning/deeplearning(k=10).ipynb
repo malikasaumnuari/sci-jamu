{
 "cells": [
  {
   "cell_type": "code",
   "execution_count": 2,
   "metadata": {},
   "outputs": [
    {
     "name": "stderr",
     "output_type": "stream",
     "text": [
      "Using TensorFlow backend.\n"
     ]
    }
   ],
   "source": [
    "import numpy as np\n",
    "import pandas\n",
    "from tensorflow import keras\n",
    "from keras.models import Sequential\n",
    "from keras.optimizers import SGD, RMSprop, Adam\n",
    "from keras.layers import Dense, Activation, Dropout\n",
    "from sklearn.model_selection import StratifiedKFold"
   ]
  },
  {
   "cell_type": "code",
   "execution_count": 3,
   "metadata": {},
   "outputs": [],
   "source": [
    "#masukin data1\n",
    "data1=pandas.read_csv('D:\\\\SKRIPSI\\\\data\\\\data_praproses\\\\jamu_herbs.csv', sep=',')\n",
    "#masukin data2\n",
    "data2=pandas.read_csv('D:\\\\SKRIPSI\\\\data\\\\data_praproses\\\\jamu_class.csv', sep=',')"
   ]
  },
  {
   "cell_type": "code",
   "execution_count": 4,
   "metadata": {},
   "outputs": [],
   "source": [
    "data_1 = data1.drop('IDJamu',axis=1)\n",
    "data_2 = data2.drop('Jamu ID',axis=1)\n",
    "data_1['Kelas']=data_2['Class of Diseases']\n",
    "data_temp  = data_1[data_1['Kelas'] != 5]\n",
    "X = data_temp.drop('Kelas', axis=1).values\n",
    "y = data_temp['Kelas'].values"
   ]
  },
  {
   "cell_type": "code",
   "execution_count": 5,
   "metadata": {},
   "outputs": [
    {
     "name": "stdout",
     "output_type": "stream",
     "text": [
      "Train on 2712 samples, validate on 302 samples\n",
      "Epoch 1/30\n",
      "2712/2712 [==============================] - 1s 429us/step - loss: 2.3127 - acc: 0.2094 - val_loss: 2.0806 - val_acc: 0.2450\n",
      "Epoch 2/30\n",
      "2712/2712 [==============================] - 1s 214us/step - loss: 2.0237 - acc: 0.2607 - val_loss: 1.8572 - val_acc: 0.3642\n",
      "Epoch 3/30\n",
      "2712/2712 [==============================] - 1s 217us/step - loss: 1.7471 - acc: 0.3606 - val_loss: 1.7677 - val_acc: 0.3543\n",
      "Epoch 4/30\n",
      "2712/2712 [==============================] - 1s 217us/step - loss: 1.5447 - acc: 0.4517 - val_loss: 1.6399 - val_acc: 0.5066\n",
      "Epoch 5/30\n",
      "2712/2712 [==============================] - 1s 248us/step - loss: 1.3252 - acc: 0.5520 - val_loss: 1.5337 - val_acc: 0.5464\n",
      "Epoch 6/30\n",
      "2712/2712 [==============================] - 1s 218us/step - loss: 1.1549 - acc: 0.6213 - val_loss: 1.5309 - val_acc: 0.5828\n",
      "Epoch 7/30\n",
      "2712/2712 [==============================] - 1s 214us/step - loss: 1.0329 - acc: 0.6711 - val_loss: 1.4718 - val_acc: 0.6192\n",
      "Epoch 8/30\n",
      "2712/2712 [==============================] - 1s 218us/step - loss: 0.9193 - acc: 0.7069 - val_loss: 1.5963 - val_acc: 0.5993\n",
      "Epoch 9/30\n",
      "2712/2712 [==============================] - 1s 217us/step - loss: 0.8456 - acc: 0.7286 - val_loss: 1.5846 - val_acc: 0.6325\n",
      "Epoch 10/30\n",
      "2712/2712 [==============================] - 1s 217us/step - loss: 0.7874 - acc: 0.7552 - val_loss: 1.5416 - val_acc: 0.6159\n",
      "Epoch 11/30\n",
      "2712/2712 [==============================] - 1s 221us/step - loss: 0.7283 - acc: 0.7747 - val_loss: 1.7059 - val_acc: 0.6225\n",
      "Epoch 12/30\n",
      "2712/2712 [==============================] - 1s 254us/step - loss: 0.6401 - acc: 0.7961 - val_loss: 1.8517 - val_acc: 0.6192\n",
      "Epoch 13/30\n",
      "2712/2712 [==============================] - 1s 218us/step - loss: 0.6270 - acc: 0.8027 - val_loss: 1.8318 - val_acc: 0.6159\n",
      "Epoch 14/30\n",
      "2712/2712 [==============================] - 1s 219us/step - loss: 0.5886 - acc: 0.8171 - val_loss: 1.7793 - val_acc: 0.5960\n",
      "Epoch 15/30\n",
      "2712/2712 [==============================] - 1s 216us/step - loss: 0.5361 - acc: 0.8344 - val_loss: 1.8974 - val_acc: 0.6225\n",
      "Epoch 16/30\n",
      "2712/2712 [==============================] - 1s 217us/step - loss: 0.4994 - acc: 0.8440 - val_loss: 2.0802 - val_acc: 0.6159\n",
      "Epoch 17/30\n",
      "2712/2712 [==============================] - 1s 219us/step - loss: 0.4728 - acc: 0.8521 - val_loss: 1.9908 - val_acc: 0.6358\n",
      "Epoch 18/30\n",
      "2712/2712 [==============================] - 1s 240us/step - loss: 0.4441 - acc: 0.8580 - val_loss: 2.2225 - val_acc: 0.6093\n",
      "Epoch 19/30\n",
      "2712/2712 [==============================] - 1s 219us/step - loss: 0.4193 - acc: 0.8691 - val_loss: 2.4015 - val_acc: 0.6060\n",
      "Epoch 20/30\n",
      "2712/2712 [==============================] - 1s 216us/step - loss: 0.4507 - acc: 0.8654 - val_loss: 2.1970 - val_acc: 0.6225\n",
      "Epoch 21/30\n",
      "2712/2712 [==============================] - 1s 218us/step - loss: 0.3741 - acc: 0.8901 - val_loss: 2.3360 - val_acc: 0.6026\n",
      "Epoch 22/30\n",
      "2712/2712 [==============================] - 1s 220us/step - loss: 0.3624 - acc: 0.8868 - val_loss: 2.5424 - val_acc: 0.6192\n",
      "Epoch 23/30\n",
      "2712/2712 [==============================] - 1s 222us/step - loss: 0.3634 - acc: 0.8886 - val_loss: 2.1627 - val_acc: 0.6093\n",
      "Epoch 24/30\n",
      "2712/2712 [==============================] - 1s 221us/step - loss: 0.3329 - acc: 0.9023 - val_loss: 2.3929 - val_acc: 0.6325\n",
      "Epoch 25/30\n",
      "2712/2712 [==============================] - 1s 221us/step - loss: 0.3070 - acc: 0.9074 - val_loss: 2.3262 - val_acc: 0.6258\n",
      "Epoch 26/30\n",
      "2712/2712 [==============================] - 1s 242us/step - loss: 0.2816 - acc: 0.9152 - val_loss: 2.4781 - val_acc: 0.6192\n",
      "Epoch 27/30\n",
      "2712/2712 [==============================] - 1s 222us/step - loss: 0.3019 - acc: 0.9086 - val_loss: 2.3522 - val_acc: 0.6490\n",
      "Epoch 28/30\n",
      "2712/2712 [==============================] - 1s 222us/step - loss: 0.3059 - acc: 0.9170 - val_loss: 2.4765 - val_acc: 0.6391\n",
      "Epoch 29/30\n",
      "2712/2712 [==============================] - 1s 224us/step - loss: 0.2583 - acc: 0.9248 - val_loss: 2.5393 - val_acc: 0.6258\n",
      "Epoch 30/30\n",
      "2712/2712 [==============================] - 1s 243us/step - loss: 0.2571 - acc: 0.9259 - val_loss: 2.6657 - val_acc: 0.6225\n",
      "302/302 [==============================] - 0s 66us/step\n"
     ]
    }
   ],
   "source": [
    "from sklearn.model_selection import StratifiedShuffleSplit\n",
    "sss = StratifiedShuffleSplit(n_splits=1, test_size=0.1, random_state=0)\n",
    "val_loss_cv = []\n",
    "val_acc_cv = []\n",
    "for train_index, test_index in sss.split(X,y):\n",
    "    X_train,X_test = X[train_index],X[test_index]\n",
    "    y_train,y_test = y[train_index],y[test_index]\n",
    "    model = Sequential()\n",
    "    model.add(Dense(input_dim=X_train.shape[1], units=128,\n",
    "                     kernel_initializer='normal', bias_initializer='zeros'))\n",
    "    model.add(Activation('relu'))\n",
    "\n",
    "    for i in range(0, 6):\n",
    "        model.add(Dense(units=128, kernel_initializer='normal',\n",
    "                         bias_initializer='zeros'))\n",
    "        model.add(Activation('relu'))\n",
    "        model.add(Dropout(.15))\n",
    "\n",
    "    model.add(Dense(units=19))\n",
    "    model.add(Activation('softmax'))\n",
    "    model.compile(loss='sparse_categorical_crossentropy', optimizer='adam', metrics=['accuracy'])\n",
    "    model.fit(X_train, y_train,batch_size=24,epochs=30,verbose=1,validation_data=(X_test, y_test))\n",
    "    score = model.evaluate(X_test, y_test, verbose=1)\n",
    "    val_loss_cv.append(score[0])\n",
    "    val_acc_cv.append(score[1])\n",
    "    predict = model.predict_classes(X_test)"
   ]
  },
  {
   "cell_type": "code",
   "execution_count": 6,
   "metadata": {},
   "outputs": [
    {
     "data": {
      "text/plain": [
       "0.6225165562913907"
      ]
     },
     "execution_count": 6,
     "metadata": {},
     "output_type": "execute_result"
    }
   ],
   "source": [
    "#nilai akurasi prediksi\n",
    "from sklearn.metrics import accuracy_score\n",
    "accuracy_score(y_test,predict)"
   ]
  },
  {
   "cell_type": "code",
   "execution_count": 7,
   "metadata": {},
   "outputs": [
    {
     "data": {
      "text/plain": [
       "array([11, 14, 11, 14,  6, 17,  1, 15, 15, 14, 11, 11, 16,  6, 18,  8,  6,\n",
       "       15, 11,  3,  3,  1, 14, 11,  1,  3, 11, 15, 14,  2,  1, 16, 14, 15,\n",
       "       15,  3,  6,  8, 14,  3, 11,  1,  6, 11, 14,  6, 11, 15, 14, 14,  3,\n",
       "        3,  6, 15,  3, 16, 11, 11,  1,  3, 14, 14,  6, 11,  3, 14, 14, 11,\n",
       "       14, 11, 14,  9, 15, 15, 14, 15,  3, 11,  3,  3, 15, 15, 14,  3,  6,\n",
       "       14,  3,  3,  3, 14, 14, 15, 11, 14, 14, 11,  2,  3, 14,  3, 14, 17,\n",
       "       14, 11, 11, 11,  6,  6, 14, 11,  2,  1, 14, 15, 13, 14,  1,  3,  3,\n",
       "       14,  3, 15, 11,  6,  1, 16,  6, 11,  3, 15, 11,  2,  3, 14,  9, 11,\n",
       "        6, 16, 18, 11, 15,  6, 11,  3, 14,  3, 11, 14, 14, 13, 15, 11, 14,\n",
       "        3, 11,  6,  6,  2, 15,  1, 16, 14,  3,  3, 14, 14,  3,  3, 14, 14,\n",
       "       11,  3, 14, 15, 11,  6,  3,  1, 11, 11, 15, 15,  3, 14, 14,  3, 15,\n",
       "        6, 13, 16,  2, 11, 11,  3,  3,  1, 17,  1, 11,  1, 14,  1,  3, 15,\n",
       "       15,  1,  3, 14,  1, 11,  3,  3,  3,  3, 11,  2, 14, 11,  3,  6,  3,\n",
       "       11,  6,  3, 11, 11, 11, 14, 14, 14, 11,  3,  1, 15,  3, 11, 11,  3,\n",
       "       15, 11, 11, 11, 17, 15, 11,  1,  6,  3, 11,  3, 17, 15,  3, 11,  3,\n",
       "        3, 14, 15,  3,  6, 14, 14, 17, 14,  3, 11, 11,  2, 14,  1, 11,  6,\n",
       "        6, 15,  3,  1, 16, 11, 11, 15, 11, 14, 16,  6, 11, 14,  6,  1, 17,\n",
       "       16,  3,  3,  6, 11,  6, 14, 11, 11,  3, 14,  6, 11], dtype=int64)"
      ]
     },
     "execution_count": 7,
     "metadata": {},
     "output_type": "execute_result"
    }
   ],
   "source": [
    "#hasil prediksi\n",
    "predict"
   ]
  },
  {
   "cell_type": "code",
   "execution_count": 8,
   "metadata": {},
   "outputs": [
    {
     "data": {
      "text/plain": [
       "array([ 3, 14,  1, 14, 14, 17,  6, 15, 15, 14, 11, 11, 16,  6, 18,  8,  6,\n",
       "       13, 11,  3,  1, 11, 14, 11, 11,  3,  1, 15, 14, 11, 11, 17, 11, 15,\n",
       "       15, 14, 11, 11, 14, 16, 13, 17,  6, 11, 14,  6,  6, 15,  6, 14,  3,\n",
       "        3,  6,  3,  3, 16, 11, 11,  1,  3,  6, 14,  1, 11,  6, 14,  3, 14,\n",
       "       14, 11, 14, 15, 15, 15, 14, 15,  3, 11, 11,  3, 15, 15, 14, 16, 11,\n",
       "       14,  1,  3,  3, 11, 14, 10, 11, 14,  6, 11,  2,  9, 14,  3, 14, 17,\n",
       "       14, 14,  1, 11, 14, 14,  8, 11, 16,  1,  8, 15, 11,  8,  6,  3,  3,\n",
       "       14,  3,  1, 11,  6,  6, 16,  6, 13,  3, 15, 11,  2,  3, 14, 16, 11,\n",
       "        6, 14,  9, 11, 15,  6, 11,  3, 14,  6, 11, 14, 14,  6, 15, 16, 14,\n",
       "        1, 11, 16,  6, 14, 11, 15, 16, 14, 14,  6, 14, 14, 16, 15, 14,  6,\n",
       "       11,  3,  1, 15, 15,  6,  3, 11,  6,  6, 15, 15,  3, 14, 14,  3, 11,\n",
       "        6,  6,  3, 14, 11,  1,  3, 17,  6, 11,  1, 15, 11, 14,  1,  3,  3,\n",
       "       15,  1, 14, 14, 11, 15, 16,  3,  3,  3, 11,  3, 14, 11,  3,  6,  3,\n",
       "        6, 15, 16, 11, 11, 11, 14,  6, 14, 11,  3,  1, 15,  3, 11, 11,  3,\n",
       "       15, 11, 11, 11, 11, 15, 11,  3,  6,  3, 11,  8, 17, 18,  3, 11,  3,\n",
       "        1, 14, 11, 11,  3, 11, 14, 17,  6,  3, 11, 11,  6, 14, 11, 11,  6,\n",
       "       14,  3,  1,  1, 16, 14, 11, 15, 17, 14, 16,  6, 17, 14, 10,  1, 15,\n",
       "       16,  3,  3, 14, 11,  6, 14, 15,  8,  2, 14,  6, 11], dtype=int64)"
      ]
     },
     "execution_count": 8,
     "metadata": {},
     "output_type": "execute_result"
    }
   ],
   "source": [
    "#data test\n",
    "y_test"
   ]
  },
  {
   "cell_type": "code",
   "execution_count": 10,
   "metadata": {},
   "outputs": [
    {
     "name": "stdout",
     "output_type": "stream",
     "text": [
      "Confusion matrix\n",
      "[[ 8  0  5  1  0  0  0  4  0  1  1  0  0  0]\n",
      " [ 0  2  1  0  0  0  0  0  0  0  0  0  0  0]\n",
      " [ 1  1 37  1  0  0  0  1  0  1  3  1  0  0]\n",
      " [ 4  1  3 18  0  0  0  4  2  6  0  0  0  0]\n",
      " [ 0  0  1  0  1  0  0  1  0  3  0  0  0  0]\n",
      " [ 0  0  1  0  0  0  0  0  0  0  0  0  0  1]\n",
      " [ 0  0  0  1  0  0  0  0  0  0  1  0  0  0]\n",
      " [ 7  1  2  2  1  0  0 43  1  3  3  0  2  0]\n",
      " [ 0  0  0  0  0  0  0  2  0  0  1  0  0  0]\n",
      " [ 0  2  3  5  0  0  0  3  0 44  0  1  0  0]\n",
      " [ 1  0  1  1  0  1  0  4  0  0 23  0  1  0]\n",
      " [ 0  1  5  1  0  1  0  1  0  0  0  7  0  0]\n",
      " [ 1  0  1  0  0  0  0  2  0  0  0  1  4  0]\n",
      " [ 0  0  0  0  0  0  0  0  0  0  1  0  0  1]]\n"
     ]
    },
    {
     "data": {
      "image/png": "[encoded data removed]",
      "text/plain": [
       "<Figure size 432x288 with 2 Axes>"
      ]
     },
     "metadata": {
      "needs_background": "light"
     },
     "output_type": "display_data"
    }
   ],
   "source": [
    "#confusion matrix hasil prediksi\n",
    "from sklearn.metrics import confusion_matrix\n",
    "import matplotlib.pyplot as plt\n",
    "def plot_confusion_matrix(cm, title='Confusion matrix', cmap=plt.cm.Blues):\n",
    "    plt.imshow(cm, interpolation='nearest', cmap=cmap)\n",
    "    plt.title(title)\n",
    "    plt.colorbar()\n",
    "    tick_marks = np.arange(len(np.unique(y_test)))\n",
    "    plt.xticks(tick_marks, np.unique(y_test), rotation=45)\n",
    "    plt.yticks(tick_marks, np.unique(y_test))\n",
    "    plt.tight_layout()\n",
    "    plt.ylabel('True label')\n",
    "    plt.xlabel('Predicted label')\n",
    "\n",
    "# Compute confusion matrix\n",
    "cm = confusion_matrix(y_test, predict)\n",
    "np.set_printoptions(precision=2)\n",
    "print('Confusion matrix')\n",
    "print(cm)\n",
    "plt.figure()\n",
    "plot_confusion_matrix(cm)\n",
    "\n",
    "plt.show()"
   ]
  },
  {
   "cell_type": "code",
   "execution_count": null,
   "metadata": {},
   "outputs": [],
   "source": []
  }
 ],
 "metadata": {
  "kernelspec": {
   "display_name": "Python 3",
   "language": "python",
   "name": "python3"
  },
  "language_info": {
   "codemirror_mode": {
    "name": "ipython",
    "version": 3
   },
   "file_extension": ".py",
   "mimetype": "text/x-python",
   "name": "python",
   "nbconvert_exporter": "python",
   "pygments_lexer": "ipython3",
   "version": "3.6.8"
  }
 },
 "nbformat": 4,
 "nbformat_minor": 2
}
