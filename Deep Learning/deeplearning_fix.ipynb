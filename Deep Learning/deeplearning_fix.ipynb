{
 "cells": [
  {
   "cell_type": "code",
   "execution_count": 1,
   "metadata": {},
   "outputs": [
    {
     "name": "stderr",
     "output_type": "stream",
     "text": [
      "Using TensorFlow backend.\n"
     ]
    }
   ],
   "source": [
    "import numpy as np\n",
    "import pandas\n",
    "from tensorflow import keras\n",
    "from keras.models import Sequential\n",
    "from keras.optimizers import SGD, RMSprop, Adam\n",
    "from keras.layers import Dense, Activation, Dropout\n",
    "from sklearn.model_selection import StratifiedKFold"
   ]
  },
  {
   "cell_type": "code",
   "execution_count": 2,
   "metadata": {},
   "outputs": [],
   "source": [
    "#masukin data1\n",
    "data1=pandas.read_csv('D:\\\\SKRIPSI\\\\data\\\\data_praproses\\\\jamu_herbs.csv', sep=',')\n",
    "#masukin data2\n",
    "data2=pandas.read_csv('D:\\\\SKRIPSI\\\\data\\\\data_praproses\\\\jamu_class.csv', sep=',')"
   ]
  },
  {
   "cell_type": "code",
   "execution_count": 3,
   "metadata": {},
   "outputs": [],
   "source": [
    "data_1 = data1.drop('IDJamu',axis=1)\n",
    "data_2 = data2.drop('Jamu ID',axis=1)\n",
    "data_1['Kelas']=data_2['Class of Diseases']\n",
    "data_temp  = data_1[data_1['Kelas'] != 5]\n",
    "X = data_temp.drop('Kelas', axis=1).values\n",
    "y = data_temp['Kelas'].values"
   ]
  },
  {
   "cell_type": "code",
   "execution_count": 5,
   "metadata": {},
   "outputs": [
    {
     "name": "stdout",
     "output_type": "stream",
     "text": [
      "Train on 2109 samples, validate on 905 samples\n",
      "Epoch 1/30\n",
      "2109/2109 [==============================] - 1s 583us/step - loss: 2.3462 - acc: 0.2101 - val_loss: 2.1092 - val_acc: 0.1912\n",
      "Epoch 2/30\n",
      "2109/2109 [==============================] - 1s 248us/step - loss: 2.0658 - acc: 0.2124 - val_loss: 2.0313 - val_acc: 0.2133\n",
      "Epoch 3/30\n",
      "2109/2109 [==============================] - 1s 261us/step - loss: 1.9504 - acc: 0.2579 - val_loss: 1.9509 - val_acc: 0.3160\n",
      "Epoch 4/30\n",
      "2109/2109 [==============================] - 1s 255us/step - loss: 1.6577 - acc: 0.4348 - val_loss: 1.6318 - val_acc: 0.4939\n",
      "Epoch 5/30\n",
      "2109/2109 [==============================] - 1s 239us/step - loss: 1.3576 - acc: 0.5690 - val_loss: 1.6027 - val_acc: 0.5337\n",
      "Epoch 6/30\n",
      "2109/2109 [==============================] - 1s 259us/step - loss: 1.1390 - acc: 0.6411 - val_loss: 1.5822 - val_acc: 0.5602\n",
      "Epoch 7/30\n",
      "2109/2109 [==============================] - 1s 242us/step - loss: 0.9715 - acc: 0.6980 - val_loss: 1.5894 - val_acc: 0.5669\n",
      "Epoch 8/30\n",
      "2109/2109 [==============================] - 1s 260us/step - loss: 0.8557 - acc: 0.7421 - val_loss: 1.7311 - val_acc: 0.5569\n",
      "Epoch 9/30\n",
      "2109/2109 [==============================] - 1s 239us/step - loss: 0.7478 - acc: 0.7724 - val_loss: 1.9318 - val_acc: 0.5834\n",
      "Epoch 10/30\n",
      "2109/2109 [==============================] - 1s 242us/step - loss: 0.6822 - acc: 0.7994 - val_loss: 1.8844 - val_acc: 0.5834\n",
      "Epoch 11/30\n",
      "2109/2109 [==============================] - 1s 247us/step - loss: 0.6234 - acc: 0.8108 - val_loss: 1.8893 - val_acc: 0.5812\n",
      "Epoch 12/30\n",
      "2109/2109 [==============================] - 1s 244us/step - loss: 0.5603 - acc: 0.8303 - val_loss: 1.9452 - val_acc: 0.5989\n",
      "Epoch 13/30\n",
      "2109/2109 [==============================] - 0s 212us/step - loss: 0.5303 - acc: 0.8359 - val_loss: 2.1992 - val_acc: 0.5934\n",
      "Epoch 14/30\n",
      "2109/2109 [==============================] - 0s 217us/step - loss: 0.5094 - acc: 0.8416 - val_loss: 1.9945 - val_acc: 0.5945\n",
      "Epoch 15/30\n",
      "2109/2109 [==============================] - 0s 214us/step - loss: 0.4581 - acc: 0.8592 - val_loss: 2.0480 - val_acc: 0.5823\n",
      "Epoch 16/30\n",
      "2109/2109 [==============================] - 0s 214us/step - loss: 0.4552 - acc: 0.8606 - val_loss: 2.1856 - val_acc: 0.5790\n",
      "Epoch 17/30\n",
      "2109/2109 [==============================] - 0s 214us/step - loss: 0.4448 - acc: 0.8682 - val_loss: 2.0670 - val_acc: 0.5956\n",
      "Epoch 18/30\n",
      "2109/2109 [==============================] - 0s 213us/step - loss: 0.3772 - acc: 0.8838 - val_loss: 2.4331 - val_acc: 0.6088\n",
      "Epoch 19/30\n",
      "2109/2109 [==============================] - 0s 214us/step - loss: 0.3602 - acc: 0.8914 - val_loss: 2.7342 - val_acc: 0.5989\n",
      "Epoch 20/30\n",
      "2109/2109 [==============================] - 1s 253us/step - loss: 0.4003 - acc: 0.8815 - val_loss: 2.7887 - val_acc: 0.5967\n",
      "Epoch 21/30\n",
      "2109/2109 [==============================] - 0s 216us/step - loss: 0.3553 - acc: 0.8919 - val_loss: 2.5493 - val_acc: 0.5867\n",
      "Epoch 22/30\n",
      "2109/2109 [==============================] - 0s 217us/step - loss: 0.3291 - acc: 0.8971 - val_loss: 2.7484 - val_acc: 0.5890\n",
      "Epoch 23/30\n",
      "2109/2109 [==============================] - 0s 220us/step - loss: 0.3687 - acc: 0.8848 - val_loss: 2.6693 - val_acc: 0.6022\n",
      "Epoch 24/30\n",
      "2109/2109 [==============================] - 0s 224us/step - loss: 0.3572 - acc: 0.9000 - val_loss: 2.4736 - val_acc: 0.5856\n",
      "Epoch 25/30\n",
      "2109/2109 [==============================] - 0s 220us/step - loss: 0.3056 - acc: 0.9099 - val_loss: 2.7567 - val_acc: 0.5934\n",
      "Epoch 26/30\n",
      "2109/2109 [==============================] - 1s 242us/step - loss: 0.2909 - acc: 0.9113 - val_loss: 2.7658 - val_acc: 0.5945\n",
      "Epoch 27/30\n",
      "2109/2109 [==============================] - 1s 264us/step - loss: 0.2827 - acc: 0.9218 - val_loss: 2.6591 - val_acc: 0.6000\n",
      "Epoch 28/30\n",
      "2109/2109 [==============================] - 1s 253us/step - loss: 0.2494 - acc: 0.9289 - val_loss: 2.9413 - val_acc: 0.6066\n",
      "Epoch 29/30\n",
      "2109/2109 [==============================] - 1s 267us/step - loss: 0.2430 - acc: 0.9308 - val_loss: 2.8112 - val_acc: 0.5934\n",
      "Epoch 30/30\n",
      "2109/2109 [==============================] - 1s 266us/step - loss: 0.2294 - acc: 0.9317 - val_loss: 3.0291 - val_acc: 0.5989\n",
      "905/905 [==============================] - 0s 58us/step\n"
     ]
    }
   ],
   "source": [
    "from sklearn.model_selection import StratifiedShuffleSplit\n",
    "sss = StratifiedShuffleSplit(n_splits=1, test_size=0.3, random_state=0)\n",
    "val_loss_cv = []\n",
    "val_acc_cv = []\n",
    "for train_index, test_index in sss.split(X,y):\n",
    "    X_train,X_test = X[train_index],X[test_index]\n",
    "    y_train,y_test = y[train_index],y[test_index]\n",
    "    model = Sequential()\n",
    "    model.add(Dense(input_dim=X_train.shape[1], units=128,\n",
    "                     kernel_initializer='normal', bias_initializer='zeros'))\n",
    "    model.add(Activation('relu'))\n",
    "\n",
    "    for i in range(0, 6):\n",
    "        model.add(Dense(units=128, kernel_initializer='normal',\n",
    "                         bias_initializer='zeros'))\n",
    "        model.add(Activation('relu'))\n",
    "        model.add(Dropout(.15))\n",
    "\n",
    "    model.add(Dense(units=19))\n",
    "    model.add(Activation('softmax'))\n",
    "    model.compile(loss='sparse_categorical_crossentropy', optimizer='adam', metrics=['accuracy'])\n",
    "    model.fit(X_train, y_train,batch_size=24,epochs=30,verbose=1,validation_data=(X_test, y_test))\n",
    "    score = model.evaluate(X_test, y_test, verbose=1)\n",
    "    val_loss_cv.append(score[0])\n",
    "    val_acc_cv.append(score[1])\n",
    "    predict = model.predict_classes(X_test)"
   ]
  },
  {
   "cell_type": "code",
   "execution_count": 6,
   "metadata": {},
   "outputs": [
    {
     "data": {
      "text/plain": [
       "0.5988950276243094"
      ]
     },
     "execution_count": 6,
     "metadata": {},
     "output_type": "execute_result"
    }
   ],
   "source": [
    "#nilai akurasi prediksi\n",
    "from sklearn.metrics import accuracy_score\n",
    "accuracy_score(y_test,predict)"
   ]
  },
  {
   "cell_type": "code",
   "execution_count": 7,
   "metadata": {},
   "outputs": [
    {
     "data": {
      "text/plain": [
       "array([14,  3, 14,  8, 14, 11,  6,  3, 14, 11, 11, 16, 11, 16, 14, 14, 14,\n",
       "        6, 14,  3,  6,  1,  1, 15, 17,  1, 16,  3, 11, 11,  1,  3, 11,  6,\n",
       "        1,  6, 10, 15,  6,  3, 11,  6, 14,  6,  6,  6, 15,  6,  3, 14, 11,\n",
       "       11,  3, 14, 11, 14, 11,  3, 14,  3, 11, 13,  6, 17, 15, 14, 14, 15,\n",
       "       11, 14, 14, 11, 14,  6, 14,  3, 17,  3,  3,  1, 16, 11,  3, 14, 14,\n",
       "       11, 14,  3,  1,  1,  6, 16, 15, 15,  6, 11, 11, 11, 14, 15, 15, 14,\n",
       "       13, 15,  8, 15,  3, 14, 16, 11,  3, 16,  6,  3, 14, 11,  6, 16,  3,\n",
       "        3, 14, 11,  9,  3,  6, 11,  3, 15,  3,  3,  3,  1,  1, 14,  3,  1,\n",
       "       11, 15, 11, 15, 13, 16,  3,  3,  3, 14, 14,  3, 17, 13,  3, 14,  9,\n",
       "       11, 11, 14,  6, 15, 16,  3, 15,  6, 16, 14,  1, 15, 15,  6,  6, 11,\n",
       "       11,  3, 15,  1, 14, 15,  6, 11, 15, 11,  6, 14, 11, 15,  3, 17, 11,\n",
       "        3,  6, 15, 15, 14, 14,  6,  3, 14, 14,  3, 16, 11,  3, 15,  6,  3,\n",
       "        6, 16, 15,  3, 17, 15, 16, 14, 11, 14, 14, 14,  2, 11,  3,  3,  3,\n",
       "       11, 15,  6,  6,  3, 10, 14, 11,  1, 13,  1, 11, 15,  3, 17,  2,  2,\n",
       "       14,  6, 15, 11,  2, 14, 10, 11,  1, 11, 15, 11, 11,  6, 14, 11, 14,\n",
       "        3,  6, 16,  3,  3, 15, 15, 16, 15, 14, 14,  1, 15, 11, 11,  6, 14,\n",
       "        6, 11,  6,  1, 15,  3,  6,  3, 14, 11, 11, 11, 14,  6, 15, 11,  6,\n",
       "       14,  3,  3,  3, 11, 14, 11,  1,  3, 11, 14,  1,  6, 11,  8,  3, 15,\n",
       "       13,  3, 14,  6, 14, 15, 16, 14,  2, 15, 11, 11, 14,  3, 11, 14,  3,\n",
       "        6,  3, 11, 17,  6, 14, 14,  6,  3, 14,  3,  1, 14, 16,  3, 16, 13,\n",
       "       14, 11, 11, 11, 14,  3, 18, 15,  1,  1, 10,  6,  3, 16, 16,  6,  1,\n",
       "       15,  1,  3, 11, 11, 16, 14,  6, 15, 11, 14, 11,  3, 11, 15, 14, 16,\n",
       "        6, 11,  3,  6, 17, 13, 15,  6, 14, 11, 14,  6, 11,  6,  6,  1, 14,\n",
       "       16, 15, 14, 16, 14,  1,  6, 15, 14,  6, 11, 11, 11, 17, 16, 14, 15,\n",
       "        6, 11, 15, 11,  6, 11, 14,  3, 17, 15, 14,  6, 11,  6, 14, 10, 11,\n",
       "        1,  3, 11,  6, 15,  6, 15, 14, 14, 13,  3,  1,  6, 14, 11,  3, 14,\n",
       "        3,  6, 15, 11, 14, 14,  6,  6,  3, 16,  3,  6, 16, 11, 11, 11, 11,\n",
       "        1, 14, 14,  6, 11, 14,  3,  1,  1, 11,  3, 14,  3, 11, 15,  6,  6,\n",
       "        1,  6,  1,  6, 14, 14, 11, 14, 14, 15, 11,  3,  3,  6,  6, 14,  3,\n",
       "       14, 11,  3,  2,  9,  6, 14, 11,  2,  2, 11, 11, 14, 14,  3, 11,  9,\n",
       "        3, 14,  3, 11, 11, 15,  3,  6, 11, 16,  1,  6, 11, 14, 14, 14, 11,\n",
       "        1, 11,  3, 14,  3, 17,  3, 16,  3,  3, 14, 15, 15, 11,  3, 11,  6,\n",
       "       14, 11, 15, 16, 13, 16, 11, 15, 14,  3,  3, 16, 11,  3,  1, 11,  3,\n",
       "        2,  6, 11, 11,  6, 16, 11, 11,  3, 11,  3, 16,  6,  3, 14,  2, 14,\n",
       "        1, 11, 16,  1, 11, 11,  1,  3,  3, 11, 14,  6,  2,  3,  3,  3, 11,\n",
       "       15,  3, 14,  3,  3, 15,  3, 15,  3, 11,  1, 15,  3,  1,  6,  6, 15,\n",
       "        2, 15,  3,  6, 14,  6,  6, 14, 14, 11, 11, 15, 14, 11,  1,  3, 15,\n",
       "       15,  1, 14,  8, 11, 11, 11, 15, 11,  6,  3,  3, 11, 14, 11, 11, 15,\n",
       "        1, 11,  1, 15, 14,  6,  3,  6, 14,  3,  6, 15,  6, 14, 14, 16, 15,\n",
       "       17, 14, 11,  6,  1,  3,  2,  1,  3, 11,  3, 15, 11,  3,  3,  3,  6,\n",
       "        6, 15, 17, 11, 11,  8, 14, 14, 15, 14, 13, 16, 11, 16,  3, 15, 11,\n",
       "        3,  3, 11, 14, 11,  3,  3, 17,  3,  3, 16, 14,  6, 11,  3,  3, 16,\n",
       "        1, 15,  3, 15, 14,  1,  2,  3, 14,  2,  1,  3,  1, 14, 17, 11, 17,\n",
       "       11,  3,  6,  8,  3,  6, 14, 11,  8,  3,  1, 17, 15,  3, 16,  3, 14,\n",
       "       11, 11,  6, 14, 15, 11,  3, 15,  1, 16, 16, 11,  3,  6,  6, 15,  6,\n",
       "       15, 14, 11,  6, 15, 13,  6,  3,  3,  6, 15, 14, 11,  3, 16, 16, 15,\n",
       "       16,  1, 14, 11,  6,  6,  3, 14,  6,  3, 15, 11, 11, 11, 15, 11, 15,\n",
       "       15,  1, 14, 16,  2, 11,  2,  3, 13,  6, 11, 15, 11, 14, 11, 14, 16,\n",
       "        6, 11, 14, 14, 11,  3,  6, 16,  1, 15,  6,  3, 15, 14,  6, 15, 11,\n",
       "        3, 16, 15,  3,  6,  3, 15, 11,  3, 11, 11, 15, 17, 14, 11,  1, 13,\n",
       "       16,  6, 10,  3,  3,  6,  3,  6,  3,  3,  1, 11, 15, 15, 14, 11, 14,\n",
       "       15,  3, 15, 15, 16,  6,  2, 11, 15, 11, 13, 14,  6, 11,  1,  3,  6,\n",
       "       15,  1, 14,  3, 14, 14, 14, 14, 14,  6, 14, 11, 15, 11, 14, 16,  3,\n",
       "        3, 11, 14, 15], dtype=int64)"
      ]
     },
     "execution_count": 7,
     "metadata": {},
     "output_type": "execute_result"
    }
   ],
   "source": [
    "#hasil prediksi\n",
    "predict"
   ]
  },
  {
   "cell_type": "code",
   "execution_count": 8,
   "metadata": {},
   "outputs": [
    {
     "data": {
      "text/plain": [
       "array([14,  9, 14,  8, 14, 11,  6,  3, 14, 11, 11, 16, 11, 16, 14, 14, 14,\n",
       "       14, 14,  6, 11, 17, 11, 15, 17, 11, 14,  3, 11, 11,  1,  3, 17,  6,\n",
       "       11,  6,  3, 15, 14,  6, 14, 16, 14, 14,  6,  6, 15, 14, 11, 14, 11,\n",
       "       11, 11, 14, 11, 14, 14, 14, 14,  6, 11,  6,  6,  3, 11,  8, 11,  3,\n",
       "       11, 14, 11, 15, 14, 14, 14,  3, 15,  3,  3, 13, 15, 11,  3, 14, 14,\n",
       "       11, 11,  3,  1,  1, 14, 16, 15, 15, 14, 11, 15,  6, 14, 15,  6, 14,\n",
       "       11, 15, 10,  1,  3, 14,  3, 16,  3, 16, 16, 11,  8,  1,  3, 14,  3,\n",
       "        6, 14, 11,  9,  6,  6, 11,  3,  6,  3,  3, 15,  1,  8, 14,  3, 14,\n",
       "       13,  3, 11,  1, 11, 16, 15, 18,  3,  8, 14,  9, 14, 18,  3, 14, 11,\n",
       "       14, 15, 16,  6,  6,  8, 14, 15, 11, 16,  8,  1, 15,  6,  6,  6, 11,\n",
       "       11,  3, 11,  1, 11, 15,  6, 14, 17, 17,  6,  6, 11, 15,  3, 17, 11,\n",
       "        3,  6, 15, 15,  6, 14,  6, 11, 14, 14,  3, 17, 11, 14, 15, 14,  3,\n",
       "       14, 16,  6,  3, 17, 15, 11,  6, 11,  8, 14,  6,  8, 11,  3,  3, 14,\n",
       "       11, 15,  6,  6,  3,  8, 14, 11, 11,  1,  1,  1,  6,  3, 17, 14,  2,\n",
       "       14,  6, 14, 11,  2, 14, 16, 15, 14, 11, 11, 11, 15,  6, 14,  3, 14,\n",
       "        3, 11, 16, 15,  3,  3, 15, 14, 15, 14, 14,  1, 15,  1,  3,  3, 11,\n",
       "       11, 11, 11, 11, 13,  3,  6,  3,  1, 11,  3, 11, 14, 14, 15, 11,  6,\n",
       "       14,  3, 16,  3, 11, 11, 11, 11,  3,  1, 14,  1,  6, 11,  8,  3,  1,\n",
       "        1,  1, 14,  1, 14, 15, 14, 14,  2, 15, 11, 11, 14,  3, 11, 14,  3,\n",
       "        6,  3, 11, 17, 14, 14, 14,  6,  3, 14, 15, 11,  6, 16,  3, 16, 13,\n",
       "       14, 11, 17,  6, 14, 15, 18,  3, 18, 11, 13,  3,  1,  3, 11,  6, 11,\n",
       "        3, 11,  3,  1, 11, 15, 11,  6, 15, 11,  3, 16, 11, 11, 15, 14, 16,\n",
       "        6, 11,  3,  6, 17, 13, 15,  6, 17, 11, 14, 11, 11,  6,  6,  1, 14,\n",
       "       14,  3,  6, 16,  6, 14, 15, 15,  1, 10,  6,  1, 11, 17,  3,  3, 15,\n",
       "        6,  3,  1, 14, 14, 11, 14,  3, 11,  1,  6, 17, 11,  6,  6,  3, 11,\n",
       "        1,  3, 11, 11, 15,  6, 15, 14, 14, 14, 16, 13,  3, 11, 11,  3, 14,\n",
       "       16,  6, 15, 14, 14, 14,  6, 16, 15,  3,  3,  6, 16, 14, 11, 11, 11,\n",
       "       11, 14, 14,  6, 11, 14,  3, 11, 11, 14,  3,  6, 11, 11, 15,  6,  3,\n",
       "       17,  6, 11, 14, 14, 14, 11, 14, 14, 15, 11,  6,  1,  1,  6, 14, 15,\n",
       "        6, 11,  1,  2,  9,  6, 14, 11, 14, 10, 11, 11, 14, 14,  3, 11,  9,\n",
       "        3, 11,  3, 11, 11, 15, 15, 10, 11, 15,  1,  6, 11, 14, 14, 14, 17,\n",
       "       11, 11, 14, 14,  3,  1,  3,  3, 13, 11, 14, 11, 15, 11,  3, 11,  3,\n",
       "       14, 11, 15, 16, 14, 16, 11, 15,  8,  6,  3, 16, 11, 16, 11, 11,  6,\n",
       "        3, 11,  6, 11,  6, 16, 11, 11,  3,  1, 16,  8,  6,  3,  6,  3, 14,\n",
       "       11, 11, 16, 11, 11,  1, 11, 14,  3, 18, 14,  6, 17, 17,  3,  3, 11,\n",
       "        1, 16, 14,  3,  3, 15,  3, 13,  3,  6,  1, 15, 17,  1,  6, 11,  6,\n",
       "        2, 15, 16,  6, 14,  1, 18, 14, 14, 11, 11,  1, 14,  3,  1,  6, 15,\n",
       "       11,  1, 14,  8, 11, 11, 11, 15, 11, 11,  6,  3, 11,  8, 16, 11, 15,\n",
       "       15, 11,  1, 15, 14,  3,  3,  6, 14,  3,  6, 15, 11, 14, 14, 15, 11,\n",
       "       17, 14,  3, 11,  1, 11,  2,  1,  1, 14,  3, 15, 11, 14,  3,  3,  6,\n",
       "        6, 15, 15, 11, 15, 14, 14, 14, 15, 14, 11, 16, 11, 16,  6, 11, 11,\n",
       "       15,  3, 11, 14, 11,  6,  3, 17,  3, 14, 16,  3,  6, 11,  2,  3, 16,\n",
       "       15, 15,  3,  6, 14,  6, 14, 11, 14, 14, 11,  3,  6, 14, 17, 11, 17,\n",
       "       11,  3,  6, 15,  2, 11, 14, 14,  8,  3, 11, 17, 15,  3,  3, 17, 14,\n",
       "        6,  1,  6, 14, 11, 11,  3, 11, 11, 16, 16, 17,  3,  6,  6, 15,  3,\n",
       "       10, 14, 11,  6, 15,  6,  3,  3,  3,  6, 11, 14, 11,  3, 16, 15, 15,\n",
       "        8, 11, 14, 11, 14,  6,  3, 14, 14,  3, 15, 15,  3, 11, 15, 11,  1,\n",
       "       15,  1, 14, 16,  2, 16,  2,  3, 11,  6, 15, 15, 11, 14,  6, 14, 16,\n",
       "        6, 11, 11, 14, 11,  3,  6, 14,  1, 15, 14,  3,  3, 14,  3,  1,  1,\n",
       "        3, 16,  3, 15,  6,  3, 15, 11,  9, 11, 11, 15, 14, 14,  1, 16, 14,\n",
       "       16,  6, 15,  6, 11,  1,  3,  6,  3, 16, 11,  1, 15,  6, 14, 11, 15,\n",
       "       15, 11, 11, 11, 16,  6, 11,  3, 15,  1, 15, 14, 11, 13,  1,  3,  3,\n",
       "        6,  1, 14,  3, 14, 14, 14, 14, 14,  6, 14,  6, 16, 11, 14,  9,  3,\n",
       "        6, 11, 14,  1], dtype=int64)"
      ]
     },
     "execution_count": 8,
     "metadata": {},
     "output_type": "execute_result"
    }
   ],
   "source": [
    "#data test\n",
    "y_test"
   ]
  },
  {
   "cell_type": "code",
   "execution_count": 10,
   "metadata": {},
   "outputs": [
    {
     "name": "stdout",
     "output_type": "stream",
     "text": [
      "Confusion matrix\n",
      "[[ 23   0   5   4   0   0   0  13   2   2  10   0   1   0]\n",
      " [  0   8   2   0   0   0   0   0   0   0   0   0   0   0]\n",
      " [  0   2  96  11   0   0   2   8   0   3   8   6   1   0]\n",
      " [  2   0  14  67   0   0   0   8   2  12  10   0   0   0]\n",
      " [  1   1   0   0   4   0   1   0   0   7   0   3   0   0]\n",
      " [  0   0   3   0   0   3   0   0   0   0   0   1   0   0]\n",
      " [  0   1   0   2   1   0   0   0   0   0   1   0   0   0]\n",
      " [ 24   1  11  14   0   1   0 115   4  10  12   2   1   0]\n",
      " [  2   0   1   0   0   0   1   2   2   0   2   0   0   0]\n",
      " [  3   4   8  16   1   0   0  10   3 119   1   6   2   0]\n",
      " [  2   0  10   1   1   0   1   8   1   1  62   5   2   0]\n",
      " [  1   0   8   3   0   0   1   4   0   1   1  30   0   0]\n",
      " [  2   1   3   1   0   0   0   5   0   1   1   1  12   0]\n",
      " [  1   0   1   1   0   0   0   1   1   0   0   0   0   1]]\n"
     ]
    },
    {
     "data": {
      "image/png": "[encoded data removed]",
      "text/plain": [
       "<Figure size 432x288 with 2 Axes>"
      ]
     },
     "metadata": {
      "needs_background": "light"
     },
     "output_type": "display_data"
    }
   ],
   "source": [
    "#confusion matrix hasil prediksi\n",
    "from sklearn.metrics import confusion_matrix\n",
    "import matplotlib.pyplot as plt\n",
    "def plot_confusion_matrix(cm, title='Confusion matrix', cmap=plt.cm.Blues):\n",
    "    plt.imshow(cm, interpolation='nearest', cmap=cmap)\n",
    "    plt.title(title)\n",
    "    plt.colorbar()\n",
    "    tick_marks = np.arange(len(np.unique(y_test)))\n",
    "    plt.xticks(tick_marks, np.unique(y_test), rotation=45)\n",
    "    plt.yticks(tick_marks, np.unique(y_test))\n",
    "    plt.tight_layout()\n",
    "    plt.ylabel('True label')\n",
    "    plt.xlabel('Predicted label')\n",
    "\n",
    "# Compute confusion matrix\n",
    "cm = confusion_matrix(y_test, predict)\n",
    "np.set_printoptions(precision=2)\n",
    "print('Confusion matrix')\n",
    "print(cm)\n",
    "plt.figure()\n",
    "plot_confusion_matrix(cm)\n",
    "\n",
    "plt.show()"
   ]
  },
  {
   "cell_type": "code",
   "execution_count": null,
   "metadata": {},
   "outputs": [],
   "source": []
  }
 ],
 "metadata": {
  "kernelspec": {
   "display_name": "Python 3",
   "language": "python",
   "name": "python3"
  },
  "language_info": {
   "codemirror_mode": {
    "name": "ipython",
    "version": 3
   },
   "file_extension": ".py",
   "mimetype": "text/x-python",
   "name": "python",
   "nbconvert_exporter": "python",
   "pygments_lexer": "ipython3",
   "version": "3.6.8"
  }
 },
 "nbformat": 4,
 "nbformat_minor": 2
}
